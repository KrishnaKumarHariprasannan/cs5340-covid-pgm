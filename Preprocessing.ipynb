{
 "cells": [
  {
   "cell_type": "code",
   "execution_count": 1,
   "id": "b30b440c",
   "metadata": {},
   "outputs": [],
   "source": [
    "import pandas as pd \n",
    "import numpy as np\n",
    "import matplotlib.pyplot as plt \n",
    "import seaborn as sns"
   ]
  },
  {
   "cell_type": "code",
   "execution_count": 2,
   "id": "2abd3024",
   "metadata": {},
   "outputs": [
    {
     "name": "stderr",
     "output_type": "stream",
     "text": [
      "c:\\users\\91984\\anaconda3\\envs\\gpuenv\\lib\\site-packages\\IPython\\core\\interactiveshell.py:3072: DtypeWarning: Columns (2,3,39) have mixed types.Specify dtype option on import or set low_memory=False.\n",
      "  interactivity=interactivity, compiler=compiler, result=result)\n"
     ]
    }
   ],
   "source": [
    "\n",
    "path = \"C:/Users/91984/OneDrive/Desktop/NUS/courses/Semester3/Uncertainity modelling in AI/project/cs5340-covid-pgm/data/raw/OxCGRT_latest_combined.csv\"\n",
    "#C:\\Users\\91984\\OneDrive\\Desktop\\NUS\\courses\\Semester3\\Uncertainity modelling in AI\\project\\cs5340-covid-pgm\\data\\raw\n",
    "\n",
    "df = pd.read_csv(path)"
   ]
  },
  {
   "cell_type": "code",
   "execution_count": 3,
   "id": "84fab8f8",
   "metadata": {},
   "outputs": [
    {
     "data": {
      "text/plain": [
       "Index(['CountryName', 'CountryCode', 'RegionName', 'RegionCode',\n",
       "       'Jurisdiction', 'Date', 'C1_combined_numeric', 'C1_combined',\n",
       "       'C2_combined_numeric', 'C2_combined', 'C3_combined_numeric',\n",
       "       'C3_combined', 'C4_combined_numeric', 'C4_combined',\n",
       "       'C5_combined_numeric', 'C5_combined', 'C6_combined_numeric',\n",
       "       'C6_combined', 'C7_combined_numeric', 'C7_combined',\n",
       "       'C8_combined_numeric', 'C8_combined', 'E1_combined_numeric',\n",
       "       'E1_combined', 'E2_combined_numeric', 'E2_combined',\n",
       "       'H1_combined_numeric', 'H1_combined', 'H2_combined_numeric',\n",
       "       'H2_combined', 'H3_combined_numeric', 'H3_combined',\n",
       "       'H6_combined_numeric', 'H6_combined', 'H7_combined_numeric',\n",
       "       'H7_combined', 'H8_combined_numeric', 'H8_combined',\n",
       "       'V1_combined_numeric', 'V1_combined', 'V2_combined_numeric',\n",
       "       'V2_combined', 'V3_combined_numeric', 'V3_combined',\n",
       "       'V4_combined_numeric', 'V4_combined', 'ConfirmedCases',\n",
       "       'ConfirmedDeaths', 'StringencyIndex', 'StringencyIndexForDisplay',\n",
       "       'StringencyLegacyIndex', 'StringencyLegacyIndexForDisplay',\n",
       "       'GovernmentResponseIndex', 'GovernmentResponseIndexForDisplay',\n",
       "       'ContainmentHealthIndex', 'ContainmentHealthIndexForDisplay',\n",
       "       'EconomicSupportIndex', 'EconomicSupportIndexForDisplay'],\n",
       "      dtype='object')"
      ]
     },
     "execution_count": 3,
     "metadata": {},
     "output_type": "execute_result"
    }
   ],
   "source": [
    "df.columns"
   ]
  },
  {
   "cell_type": "code",
   "execution_count": 4,
   "id": "0c5abda1",
   "metadata": {},
   "outputs": [],
   "source": [
    "#school closures; (Done)\n",
    "#workplace closures; (Done)\n",
    "#cancellation of public events; (Done)\n",
    "#restrictions on public gatherings(Done); \n",
    "#closures of public transport; (Done)\n",
    "#stay-at-home requirements; (DOne)\n",
    "#public information campaigns;(Done)\n",
    "#restrictions on internal movements; (Done)\n",
    "#international travel controls; (Done)\n",
    "#testing policy; (Done)\n",
    "#extent of contact tracing; (Done)\n",
    "#face coverings; (Done)\n",
    "#vaccine policy. (Done)\n",
    "#)\n",
    "# + no of cases  - {SG, Malaysia, Indonesia, China, HK}"
   ]
  },
  {
   "cell_type": "code",
   "execution_count": 5,
   "id": "eb94a751",
   "metadata": {},
   "outputs": [],
   "source": [
    "columns = ['CountryName' , \"Date_dd-mm-yyyy\" , 'C1_combined' , 'C2_combined' , 'C3_combined' , \n",
    "           'C4_combined' , 'C5_combined' , 'C6_combined' , 'C7_combined' , \n",
    "           'C8_combined' ,  'H1_combined' , 'H2_combined' , 'H3_combined' , 'H6_combined' , 'H7_combined' , \n",
    "          'ConfirmedCases' , 'ConfirmedDeaths']\n",
    "\n",
    "#Date , missing data , country filter"
   ]
  },
  {
   "cell_type": "code",
   "execution_count": 6,
   "id": "ceac6233",
   "metadata": {},
   "outputs": [],
   "source": [
    "df[\"Date_dd-mm-yyyy\"] = pd.to_datetime(df[\"Date\"] , format = \"%Y%m%d\" ) "
   ]
  },
  {
   "cell_type": "code",
   "execution_count": 7,
   "id": "fe5040e3",
   "metadata": {},
   "outputs": [],
   "source": [
    "path_temp = \"C:/Users/91984/OneDrive/Desktop/NUS/courses/Semester3/Uncertainity modelling in AI/project/cs5340-covid-pgm/\"\n",
    "lis = [\"Singapore\" , \"China\" , \"Malaysia\" , \"Indonesia\", \"Hong Kong\"]\n",
    "df_new = df[df[\"CountryName\"].isin(lis)]\n",
    "df_new = df_new[(df_new[\"Date_dd-mm-yyyy\"]>pd.Timestamp(2020,5,1)) & (df_new[\"Date_dd-mm-yyyy\"]<pd.Timestamp(2022,2,28))]  \n",
    "df_new = df_new.reset_index(drop = True)\n",
    "df_new.to_csv(path_temp + \"temp.csv\")"
   ]
  },
  {
   "cell_type": "code",
   "execution_count": 8,
   "id": "87f0b8b6",
   "metadata": {},
   "outputs": [
    {
     "data": {
      "text/plain": [
       "Index(['CountryName', 'CountryCode', 'RegionName', 'RegionCode',\n",
       "       'Jurisdiction', 'Date', 'C1_combined_numeric', 'C1_combined',\n",
       "       'C2_combined_numeric', 'C2_combined', 'C3_combined_numeric',\n",
       "       'C3_combined', 'C4_combined_numeric', 'C4_combined',\n",
       "       'C5_combined_numeric', 'C5_combined', 'C6_combined_numeric',\n",
       "       'C6_combined', 'C7_combined_numeric', 'C7_combined',\n",
       "       'C8_combined_numeric', 'C8_combined', 'E1_combined_numeric',\n",
       "       'E1_combined', 'E2_combined_numeric', 'E2_combined',\n",
       "       'H1_combined_numeric', 'H1_combined', 'H2_combined_numeric',\n",
       "       'H2_combined', 'H3_combined_numeric', 'H3_combined',\n",
       "       'H6_combined_numeric', 'H6_combined', 'H7_combined_numeric',\n",
       "       'H7_combined', 'H8_combined_numeric', 'H8_combined',\n",
       "       'V1_combined_numeric', 'V1_combined', 'V2_combined_numeric',\n",
       "       'V2_combined', 'V3_combined_numeric', 'V3_combined',\n",
       "       'V4_combined_numeric', 'V4_combined', 'ConfirmedCases',\n",
       "       'ConfirmedDeaths', 'StringencyIndex', 'StringencyIndexForDisplay',\n",
       "       'StringencyLegacyIndex', 'StringencyLegacyIndexForDisplay',\n",
       "       'GovernmentResponseIndex', 'GovernmentResponseIndexForDisplay',\n",
       "       'ContainmentHealthIndex', 'ContainmentHealthIndexForDisplay',\n",
       "       'EconomicSupportIndex', 'EconomicSupportIndexForDisplay',\n",
       "       'Date_dd-mm-yyyy'],\n",
       "      dtype='object')"
      ]
     },
     "execution_count": 8,
     "metadata": {},
     "output_type": "execute_result"
    }
   ],
   "source": [
    "df_new.columns"
   ]
  },
  {
   "cell_type": "code",
   "execution_count": 9,
   "id": "c9e07946",
   "metadata": {},
   "outputs": [],
   "source": [
    "df_new = df_new[columns]\n",
    "\n"
   ]
  },
  {
   "cell_type": "code",
   "execution_count": 10,
   "id": "1560f669",
   "metadata": {},
   "outputs": [
    {
     "data": {
      "text/plain": [
       "Index(['CountryName', 'Date_dd-mm-yyyy', 'C1_combined', 'C2_combined',\n",
       "       'C3_combined', 'C4_combined', 'C5_combined', 'C6_combined',\n",
       "       'C7_combined', 'C8_combined', 'H1_combined', 'H2_combined',\n",
       "       'H3_combined', 'H6_combined', 'H7_combined', 'ConfirmedCases',\n",
       "       'ConfirmedDeaths'],\n",
       "      dtype='object')"
      ]
     },
     "execution_count": 10,
     "metadata": {},
     "output_type": "execute_result"
    }
   ],
   "source": [
    "df_new.columns"
   ]
  },
  {
   "cell_type": "code",
   "execution_count": 11,
   "id": "6d11fe58",
   "metadata": {},
   "outputs": [],
   "source": [
    "#school closures; (Done)\n",
    "#workplace closures; (Done)\n",
    "#cancellation of public events; (Done)\n",
    "#restrictions on public gatherings(Done); \n",
    "#closures of public transport; (Done)\n",
    "#stay-at-home requirements; (Done)\n",
    "#public information campaigns; H1(Done)\n",
    "#restrictions on internal movements; C7(Done)\n",
    "#international travel controls;C8 (Done)\n",
    "#testing policy; (Done) H2\n",
    "#extent of contact tracing; (Done)H3\n",
    "#face coverings; (Done)H6\n",
    "#vaccine policy. (Done)H7\n",
    "#)\n",
    "\n",
    "df_new.columns = ['Country' , 'Date' , 'school_closures' , 'workplace_closures' , 'cancel_public_events',\n",
    "                 'restrict_public_gathering' , 'closure_public_transport' , 'SHN_requirement' , \"restriction_internal_movement\",\n",
    "                  \"internation_travel_control\" , \"PI_Campaign\" , \"testing_policy\" , \"contact_tracing\" , \"Facial_Covering\" , \n",
    "                  \"Vaccine_policy\" , \"Confirmed_cases\" , \"Confirmed_Deathes\"\n",
    "                 ]"
   ]
  },
  {
   "cell_type": "code",
   "execution_count": 12,
   "id": "2654e3a4",
   "metadata": {},
   "outputs": [
    {
     "data": {
      "text/plain": [
       "Country                           0\n",
       "Date                              0\n",
       "school_closures                   7\n",
       "workplace_closures                6\n",
       "cancel_public_events              7\n",
       "restrict_public_gathering        59\n",
       "closure_public_transport          8\n",
       "SHN_requirement                   6\n",
       "restriction_internal_movement     8\n",
       "internation_travel_control       45\n",
       "PI_Campaign                       7\n",
       "testing_policy                    6\n",
       "contact_tracing                  21\n",
       "Facial_Covering                   7\n",
       "Vaccine_policy                   37\n",
       "Confirmed_cases                   0\n",
       "Confirmed_Deathes                 0\n",
       "dtype: int64"
      ]
     },
     "execution_count": 12,
     "metadata": {},
     "output_type": "execute_result"
    }
   ],
   "source": [
    "df_new.isna().sum()"
   ]
  },
  {
   "cell_type": "code",
   "execution_count": 13,
   "id": "81839eb8",
   "metadata": {},
   "outputs": [],
   "source": [
    "df_new = df_new.dropna()"
   ]
  },
  {
   "cell_type": "code",
   "execution_count": 14,
   "id": "df2d3367",
   "metadata": {},
   "outputs": [],
   "source": [
    "df_new.isna().sum()\n",
    "\n",
    "df_new.to_csv(path_temp  + \"Final_Data_Combined.csv\")"
   ]
  },
  {
   "cell_type": "code",
   "execution_count": 16,
   "id": "d8efe832",
   "metadata": {},
   "outputs": [
    {
     "name": "stdout",
     "output_type": "stream",
     "text": [
      "Country                          0\n",
      "Date                             0\n",
      "school_closures                  0\n",
      "workplace_closures               0\n",
      "cancel_public_events             0\n",
      "restrict_public_gathering        0\n",
      "closure_public_transport         0\n",
      "SHN_requirement                  0\n",
      "restriction_internal_movement    0\n",
      "internation_travel_control       0\n",
      "PI_Campaign                      0\n",
      "testing_policy                   0\n",
      "contact_tracing                  0\n",
      "Facial_Covering                  0\n",
      "Vaccine_policy                   0\n",
      "Confirmed_cases                  0\n",
      "Confirmed_Deathes                0\n",
      "dtype: int64\n"
     ]
    }
   ],
   "source": [
    "print(df_new.isna().sum())"
   ]
  },
  {
   "cell_type": "code",
   "execution_count": null,
   "id": "b2bbd930",
   "metadata": {},
   "outputs": [],
   "source": []
  }
 ],
 "metadata": {
  "kernelspec": {
   "display_name": "Python 3 (ipykernel)",
   "language": "python",
   "name": "python3"
  },
  "language_info": {
   "codemirror_mode": {
    "name": "ipython",
    "version": 3
   },
   "file_extension": ".py",
   "mimetype": "text/x-python",
   "name": "python",
   "nbconvert_exporter": "python",
   "pygments_lexer": "ipython3",
   "version": "3.6.13"
  }
 },
 "nbformat": 4,
 "nbformat_minor": 5
}
