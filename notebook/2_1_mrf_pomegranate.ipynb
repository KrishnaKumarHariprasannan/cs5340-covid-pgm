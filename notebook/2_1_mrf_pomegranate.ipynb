{
 "cells": [
  {
   "cell_type": "code",
   "execution_count": 1,
   "id": "4b04910c-e928-4e72-bff2-c304cfe39c77",
   "metadata": {
    "execution": {
     "iopub.execute_input": "2022-04-09T08:22:57.479744Z",
     "iopub.status.busy": "2022-04-09T08:22:57.479332Z",
     "iopub.status.idle": "2022-04-09T08:22:59.466233Z",
     "shell.execute_reply": "2022-04-09T08:22:59.465324Z",
     "shell.execute_reply.started": "2022-04-09T08:22:57.479668Z"
    },
    "tags": []
   },
   "outputs": [],
   "source": [
    "import itertools\n",
    "\n",
    "import matplotlib.pyplot as plt\n",
    "import networkx as nx\n",
    "import numpy as np\n",
    "import pandas as pd\n",
    "import seaborn as sns\n",
    "\n",
    "from pomegranate import *"
   ]
  },
  {
   "cell_type": "code",
   "execution_count": 2,
   "id": "b96fe1b5-0e3d-4f60-a7dc-0ebb6dc3165e",
   "metadata": {
    "execution": {
     "iopub.execute_input": "2022-04-09T08:22:59.467346Z",
     "iopub.status.busy": "2022-04-09T08:22:59.467130Z",
     "iopub.status.idle": "2022-04-09T08:22:59.710808Z",
     "shell.execute_reply": "2022-04-09T08:22:59.710137Z",
     "shell.execute_reply.started": "2022-04-09T08:22:59.467322Z"
    },
    "tags": []
   },
   "outputs": [
    {
     "name": "stdout",
     "output_type": "stream",
     "text": [
      "(23860, 17)\n"
     ]
    },
    {
     "data": {
      "text/html": [
       "<div>\n",
       "<style scoped>\n",
       "    .dataframe tbody tr th:only-of-type {\n",
       "        vertical-align: middle;\n",
       "    }\n",
       "\n",
       "    .dataframe tbody tr th {\n",
       "        vertical-align: top;\n",
       "    }\n",
       "\n",
       "    .dataframe thead th {\n",
       "        text-align: right;\n",
       "    }\n",
       "</style>\n",
       "<table border=\"1\" class=\"dataframe\">\n",
       "  <thead>\n",
       "    <tr style=\"text-align: right;\">\n",
       "      <th></th>\n",
       "      <th></th>\n",
       "      <th>school_closures</th>\n",
       "      <th>workplace_closures</th>\n",
       "      <th>cancel_public_events</th>\n",
       "      <th>restrict_public_gathering</th>\n",
       "      <th>closure_public_transport</th>\n",
       "      <th>shn_requirement</th>\n",
       "      <th>restriction_internal_movement</th>\n",
       "      <th>internation_travel_control</th>\n",
       "      <th>pi_campaign</th>\n",
       "      <th>testing_policy</th>\n",
       "      <th>contact_tracing</th>\n",
       "      <th>facial_covering</th>\n",
       "      <th>vaccine_policy</th>\n",
       "      <th>confirmed_cases</th>\n",
       "      <th>confirmed_deathes</th>\n",
       "      <th>cases_per_mil</th>\n",
       "      <th>cases_per_mil_cat</th>\n",
       "    </tr>\n",
       "    <tr>\n",
       "      <th>country</th>\n",
       "      <th>date</th>\n",
       "      <th></th>\n",
       "      <th></th>\n",
       "      <th></th>\n",
       "      <th></th>\n",
       "      <th></th>\n",
       "      <th></th>\n",
       "      <th></th>\n",
       "      <th></th>\n",
       "      <th></th>\n",
       "      <th></th>\n",
       "      <th></th>\n",
       "      <th></th>\n",
       "      <th></th>\n",
       "      <th></th>\n",
       "      <th></th>\n",
       "      <th></th>\n",
       "      <th></th>\n",
       "    </tr>\n",
       "  </thead>\n",
       "  <tbody>\n",
       "    <tr>\n",
       "      <th rowspan=\"5\" valign=\"top\">china</th>\n",
       "      <th>2020-05-02</th>\n",
       "      <td>2</td>\n",
       "      <td>1</td>\n",
       "      <td>1</td>\n",
       "      <td>3</td>\n",
       "      <td>0</td>\n",
       "      <td>0</td>\n",
       "      <td>1</td>\n",
       "      <td>4.0</td>\n",
       "      <td>2</td>\n",
       "      <td>3.0</td>\n",
       "      <td>2.0</td>\n",
       "      <td>2</td>\n",
       "      <td>0</td>\n",
       "      <td>991.0</td>\n",
       "      <td>6.0</td>\n",
       "      <td>0.684392</td>\n",
       "      <td>0</td>\n",
       "    </tr>\n",
       "    <tr>\n",
       "      <th>2020-05-03</th>\n",
       "      <td>2</td>\n",
       "      <td>1</td>\n",
       "      <td>1</td>\n",
       "      <td>3</td>\n",
       "      <td>0</td>\n",
       "      <td>0</td>\n",
       "      <td>1</td>\n",
       "      <td>4.0</td>\n",
       "      <td>2</td>\n",
       "      <td>3.0</td>\n",
       "      <td>2.0</td>\n",
       "      <td>2</td>\n",
       "      <td>0</td>\n",
       "      <td>991.0</td>\n",
       "      <td>6.0</td>\n",
       "      <td>0.684392</td>\n",
       "      <td>0</td>\n",
       "    </tr>\n",
       "    <tr>\n",
       "      <th>2020-05-04</th>\n",
       "      <td>2</td>\n",
       "      <td>1</td>\n",
       "      <td>1</td>\n",
       "      <td>3</td>\n",
       "      <td>0</td>\n",
       "      <td>0</td>\n",
       "      <td>1</td>\n",
       "      <td>4.0</td>\n",
       "      <td>2</td>\n",
       "      <td>3.0</td>\n",
       "      <td>2.0</td>\n",
       "      <td>2</td>\n",
       "      <td>0</td>\n",
       "      <td>991.0</td>\n",
       "      <td>6.0</td>\n",
       "      <td>0.684392</td>\n",
       "      <td>0</td>\n",
       "    </tr>\n",
       "    <tr>\n",
       "      <th>2020-05-05</th>\n",
       "      <td>2</td>\n",
       "      <td>1</td>\n",
       "      <td>1</td>\n",
       "      <td>3</td>\n",
       "      <td>0</td>\n",
       "      <td>0</td>\n",
       "      <td>1</td>\n",
       "      <td>4.0</td>\n",
       "      <td>2</td>\n",
       "      <td>3.0</td>\n",
       "      <td>2.0</td>\n",
       "      <td>2</td>\n",
       "      <td>0</td>\n",
       "      <td>991.0</td>\n",
       "      <td>6.0</td>\n",
       "      <td>0.684392</td>\n",
       "      <td>0</td>\n",
       "    </tr>\n",
       "    <tr>\n",
       "      <th>2020-05-06</th>\n",
       "      <td>2</td>\n",
       "      <td>1</td>\n",
       "      <td>1</td>\n",
       "      <td>3</td>\n",
       "      <td>0</td>\n",
       "      <td>0</td>\n",
       "      <td>1</td>\n",
       "      <td>4.0</td>\n",
       "      <td>2</td>\n",
       "      <td>3.0</td>\n",
       "      <td>2.0</td>\n",
       "      <td>2</td>\n",
       "      <td>0</td>\n",
       "      <td>991.0</td>\n",
       "      <td>6.0</td>\n",
       "      <td>0.684392</td>\n",
       "      <td>0</td>\n",
       "    </tr>\n",
       "  </tbody>\n",
       "</table>\n",
       "</div>"
      ],
      "text/plain": [
       "                    school_closures  workplace_closures  cancel_public_events  \\\n",
       "country date                                                                    \n",
       "china   2020-05-02                2                   1                     1   \n",
       "        2020-05-03                2                   1                     1   \n",
       "        2020-05-04                2                   1                     1   \n",
       "        2020-05-05                2                   1                     1   \n",
       "        2020-05-06                2                   1                     1   \n",
       "\n",
       "                    restrict_public_gathering  closure_public_transport  \\\n",
       "country date                                                              \n",
       "china   2020-05-02                          3                         0   \n",
       "        2020-05-03                          3                         0   \n",
       "        2020-05-04                          3                         0   \n",
       "        2020-05-05                          3                         0   \n",
       "        2020-05-06                          3                         0   \n",
       "\n",
       "                    shn_requirement  restriction_internal_movement  \\\n",
       "country date                                                         \n",
       "china   2020-05-02                0                              1   \n",
       "        2020-05-03                0                              1   \n",
       "        2020-05-04                0                              1   \n",
       "        2020-05-05                0                              1   \n",
       "        2020-05-06                0                              1   \n",
       "\n",
       "                    internation_travel_control  pi_campaign  testing_policy  \\\n",
       "country date                                                                  \n",
       "china   2020-05-02                         4.0            2             3.0   \n",
       "        2020-05-03                         4.0            2             3.0   \n",
       "        2020-05-04                         4.0            2             3.0   \n",
       "        2020-05-05                         4.0            2             3.0   \n",
       "        2020-05-06                         4.0            2             3.0   \n",
       "\n",
       "                    contact_tracing  facial_covering  vaccine_policy  \\\n",
       "country date                                                           \n",
       "china   2020-05-02              2.0                2               0   \n",
       "        2020-05-03              2.0                2               0   \n",
       "        2020-05-04              2.0                2               0   \n",
       "        2020-05-05              2.0                2               0   \n",
       "        2020-05-06              2.0                2               0   \n",
       "\n",
       "                    confirmed_cases  confirmed_deathes  cases_per_mil  \\\n",
       "country date                                                            \n",
       "china   2020-05-02            991.0                6.0       0.684392   \n",
       "        2020-05-03            991.0                6.0       0.684392   \n",
       "        2020-05-04            991.0                6.0       0.684392   \n",
       "        2020-05-05            991.0                6.0       0.684392   \n",
       "        2020-05-06            991.0                6.0       0.684392   \n",
       "\n",
       "                    cases_per_mil_cat  \n",
       "country date                           \n",
       "china   2020-05-02                  0  \n",
       "        2020-05-03                  0  \n",
       "        2020-05-04                  0  \n",
       "        2020-05-05                  0  \n",
       "        2020-05-06                  0  "
      ]
     },
     "execution_count": 2,
     "metadata": {},
     "output_type": "execute_result"
    }
   ],
   "source": [
    "covid_policies_df = pd.read_csv(\"../data/processed/categorical_policies.csv\")\n",
    "covid_policies_df.set_index([\"country\", \"date\"], inplace=True)\n",
    "print(covid_policies_df.shape)\n",
    "covid_policies_df.head()"
   ]
  },
  {
   "cell_type": "code",
   "execution_count": 3,
   "id": "cfcffcdd-153d-4800-ae71-adb9857b6547",
   "metadata": {
    "execution": {
     "iopub.execute_input": "2022-04-09T08:22:59.713399Z",
     "iopub.status.busy": "2022-04-09T08:22:59.713067Z",
     "iopub.status.idle": "2022-04-09T08:22:59.742813Z",
     "shell.execute_reply": "2022-04-09T08:22:59.742132Z",
     "shell.execute_reply.started": "2022-04-09T08:22:59.713323Z"
    },
    "tags": []
   },
   "outputs": [
    {
     "data": {
      "text/html": [
       "<div>\n",
       "<style scoped>\n",
       "    .dataframe tbody tr th:only-of-type {\n",
       "        vertical-align: middle;\n",
       "    }\n",
       "\n",
       "    .dataframe tbody tr th {\n",
       "        vertical-align: top;\n",
       "    }\n",
       "\n",
       "    .dataframe thead th {\n",
       "        text-align: right;\n",
       "    }\n",
       "</style>\n",
       "<table border=\"1\" class=\"dataframe\">\n",
       "  <thead>\n",
       "    <tr style=\"text-align: right;\">\n",
       "      <th></th>\n",
       "      <th>school_closures</th>\n",
       "      <th>workplace_closures</th>\n",
       "      <th>cases_per_mil</th>\n",
       "      <th>cases_per_mil_cat</th>\n",
       "      <th>confirmed_cases</th>\n",
       "    </tr>\n",
       "    <tr>\n",
       "      <th>date</th>\n",
       "      <th></th>\n",
       "      <th></th>\n",
       "      <th></th>\n",
       "      <th></th>\n",
       "      <th></th>\n",
       "    </tr>\n",
       "  </thead>\n",
       "  <tbody>\n",
       "    <tr>\n",
       "      <th>2020-05-02</th>\n",
       "      <td>3</td>\n",
       "      <td>3</td>\n",
       "      <td>3219.816514</td>\n",
       "      <td>0</td>\n",
       "      <td>17548.0</td>\n",
       "    </tr>\n",
       "    <tr>\n",
       "      <th>2020-05-03</th>\n",
       "      <td>3</td>\n",
       "      <td>3</td>\n",
       "      <td>3340.366972</td>\n",
       "      <td>0</td>\n",
       "      <td>18205.0</td>\n",
       "    </tr>\n",
       "    <tr>\n",
       "      <th>2020-05-04</th>\n",
       "      <td>3</td>\n",
       "      <td>3</td>\n",
       "      <td>3445.504587</td>\n",
       "      <td>0</td>\n",
       "      <td>18778.0</td>\n",
       "    </tr>\n",
       "    <tr>\n",
       "      <th>2020-05-05</th>\n",
       "      <td>3</td>\n",
       "      <td>3</td>\n",
       "      <td>3561.467890</td>\n",
       "      <td>0</td>\n",
       "      <td>19410.0</td>\n",
       "    </tr>\n",
       "    <tr>\n",
       "      <th>2020-05-06</th>\n",
       "      <td>3</td>\n",
       "      <td>3</td>\n",
       "      <td>3706.055046</td>\n",
       "      <td>0</td>\n",
       "      <td>20198.0</td>\n",
       "    </tr>\n",
       "  </tbody>\n",
       "</table>\n",
       "</div>"
      ],
      "text/plain": [
       "            school_closures  workplace_closures  cases_per_mil  \\\n",
       "date                                                             \n",
       "2020-05-02                3                   3    3219.816514   \n",
       "2020-05-03                3                   3    3340.366972   \n",
       "2020-05-04                3                   3    3445.504587   \n",
       "2020-05-05                3                   3    3561.467890   \n",
       "2020-05-06                3                   3    3706.055046   \n",
       "\n",
       "            cases_per_mil_cat  confirmed_cases  \n",
       "date                                            \n",
       "2020-05-02                  0          17548.0  \n",
       "2020-05-03                  0          18205.0  \n",
       "2020-05-04                  0          18778.0  \n",
       "2020-05-05                  0          19410.0  \n",
       "2020-05-06                  0          20198.0  "
      ]
     },
     "execution_count": 3,
     "metadata": {},
     "output_type": "execute_result"
    }
   ],
   "source": [
    "sg_filtered = covid_policies_df.loc[\n",
    "    \"singapore\",\n",
    "    [\n",
    "        \"school_closures\",\n",
    "        \"workplace_closures\",\n",
    "        #         \"cancel_public_events\",\n",
    "        #         \"restrict_public_gathering\",\n",
    "        #         \"closure_public_transport\",\n",
    "        \"cases_per_mil\",\n",
    "        \"cases_per_mil_cat\",\n",
    "        \"confirmed_cases\",\n",
    "    ],\n",
    "]\n",
    "sg_filtered.head()"
   ]
  },
  {
   "cell_type": "code",
   "execution_count": 4,
   "id": "101461ed-56c6-439a-9897-33715a00a229",
   "metadata": {
    "execution": {
     "iopub.execute_input": "2022-04-09T08:22:59.743927Z",
     "iopub.status.busy": "2022-04-09T08:22:59.743754Z",
     "iopub.status.idle": "2022-04-09T08:22:59.774093Z",
     "shell.execute_reply": "2022-04-09T08:22:59.771517Z",
     "shell.execute_reply.started": "2022-04-09T08:22:59.743903Z"
    },
    "tags": []
   },
   "outputs": [
    {
     "data": {
      "text/html": [
       "<div>\n",
       "<style scoped>\n",
       "    .dataframe tbody tr th:only-of-type {\n",
       "        vertical-align: middle;\n",
       "    }\n",
       "\n",
       "    .dataframe tbody tr th {\n",
       "        vertical-align: top;\n",
       "    }\n",
       "\n",
       "    .dataframe thead th {\n",
       "        text-align: right;\n",
       "    }\n",
       "</style>\n",
       "<table border=\"1\" class=\"dataframe\">\n",
       "  <thead>\n",
       "    <tr style=\"text-align: right;\">\n",
       "      <th></th>\n",
       "      <th>school_closures</th>\n",
       "      <th>workplace_closures</th>\n",
       "      <th>cases_per_mil</th>\n",
       "      <th>cases_per_mil_cat</th>\n",
       "      <th>confirmed_cases</th>\n",
       "    </tr>\n",
       "    <tr>\n",
       "      <th>date</th>\n",
       "      <th></th>\n",
       "      <th></th>\n",
       "      <th></th>\n",
       "      <th></th>\n",
       "      <th></th>\n",
       "    </tr>\n",
       "  </thead>\n",
       "  <tbody>\n",
       "    <tr>\n",
       "      <th>2020-05-02</th>\n",
       "      <td>3</td>\n",
       "      <td>3</td>\n",
       "      <td>193.00000</td>\n",
       "      <td>0</td>\n",
       "      <td>6176.0</td>\n",
       "    </tr>\n",
       "    <tr>\n",
       "      <th>2020-05-03</th>\n",
       "      <td>3</td>\n",
       "      <td>3</td>\n",
       "      <td>196.81250</td>\n",
       "      <td>0</td>\n",
       "      <td>6298.0</td>\n",
       "    </tr>\n",
       "    <tr>\n",
       "      <th>2020-05-04</th>\n",
       "      <td>3</td>\n",
       "      <td>2</td>\n",
       "      <td>198.53125</td>\n",
       "      <td>0</td>\n",
       "      <td>6353.0</td>\n",
       "    </tr>\n",
       "    <tr>\n",
       "      <th>2020-05-05</th>\n",
       "      <td>3</td>\n",
       "      <td>2</td>\n",
       "      <td>199.46875</td>\n",
       "      <td>0</td>\n",
       "      <td>6383.0</td>\n",
       "    </tr>\n",
       "    <tr>\n",
       "      <th>2020-05-06</th>\n",
       "      <td>3</td>\n",
       "      <td>2</td>\n",
       "      <td>200.87500</td>\n",
       "      <td>0</td>\n",
       "      <td>6428.0</td>\n",
       "    </tr>\n",
       "  </tbody>\n",
       "</table>\n",
       "</div>"
      ],
      "text/plain": [
       "            school_closures  workplace_closures  cases_per_mil  \\\n",
       "date                                                             \n",
       "2020-05-02                3                   3      193.00000   \n",
       "2020-05-03                3                   3      196.81250   \n",
       "2020-05-04                3                   2      198.53125   \n",
       "2020-05-05                3                   2      199.46875   \n",
       "2020-05-06                3                   2      200.87500   \n",
       "\n",
       "            cases_per_mil_cat  confirmed_cases  \n",
       "date                                            \n",
       "2020-05-02                  0           6176.0  \n",
       "2020-05-03                  0           6298.0  \n",
       "2020-05-04                  0           6353.0  \n",
       "2020-05-05                  0           6383.0  \n",
       "2020-05-06                  0           6428.0  "
      ]
     },
     "execution_count": 4,
     "metadata": {},
     "output_type": "execute_result"
    }
   ],
   "source": [
    "ml_filtered = covid_policies_df.loc[\n",
    "    \"malaysia\",\n",
    "    [\n",
    "        \"school_closures\",\n",
    "        \"workplace_closures\",\n",
    "        #         \"cancel_public_events\",\n",
    "        #         \"restrict_public_gathering\",\n",
    "        #         \"closure_public_transport\",\n",
    "        \"cases_per_mil\",\n",
    "        \"cases_per_mil_cat\",\n",
    "        \"confirmed_cases\",\n",
    "    ],\n",
    "]\n",
    "\n",
    "ml_filtered.head()"
   ]
  },
  {
   "cell_type": "code",
   "execution_count": 5,
   "id": "33702bd9-ca55-40d8-89ed-f6378f805836",
   "metadata": {
    "execution": {
     "iopub.execute_input": "2022-04-09T08:22:59.776160Z",
     "iopub.status.busy": "2022-04-09T08:22:59.775611Z",
     "iopub.status.idle": "2022-04-09T08:23:00.017943Z",
     "shell.execute_reply": "2022-04-09T08:23:00.016975Z",
     "shell.execute_reply.started": "2022-04-09T08:22:59.776126Z"
    },
    "tags": []
   },
   "outputs": [
    {
     "data": {
      "text/plain": [
       "<AxesSubplot:xlabel='cases_per_mil', ylabel='Count'>"
      ]
     },
     "execution_count": 5,
     "metadata": {},
     "output_type": "execute_result"
    },
    {
     "data": {
      "image/png": "[encoded data removed]",
      "text/plain": [
       "<Figure size 432x288 with 1 Axes>"
      ]
     },
     "metadata": {
      "needs_background": "light"
     },
     "output_type": "display_data"
    }
   ],
   "source": [
    "import seaborn as sns\n",
    "\n",
    "sns.histplot(ml_filtered.cases_per_mil, bins=5)"
   ]
  },
  {
   "cell_type": "markdown",
   "id": "93fbb858-95d0-47ba-b6fb-0516e8ae6601",
   "metadata": {},
   "source": [
    "## Contruct MRF with a subset of features"
   ]
  },
  {
   "cell_type": "code",
   "execution_count": 6,
   "id": "0932a00d-e929-4df8-9a14-26fc2898b22d",
   "metadata": {
    "execution": {
     "iopub.execute_input": "2022-04-09T08:23:00.019823Z",
     "iopub.status.busy": "2022-04-09T08:23:00.019166Z",
     "iopub.status.idle": "2022-04-09T08:23:00.033421Z",
     "shell.execute_reply": "2022-04-09T08:23:00.032760Z",
     "shell.execute_reply.started": "2022-04-09T08:23:00.019793Z"
    },
    "tags": []
   },
   "outputs": [
    {
     "name": "stdout",
     "output_type": "stream",
     "text": [
      "school_closures [3 2 1 0]\n",
      "workplace_closures [3 2 1]\n",
      "cases_per_mil_cat [0 1 2 3 4 5]\n"
     ]
    }
   ],
   "source": [
    "for column in [\"school_closures\", \"workplace_closures\", \"cases_per_mil_cat\"]:\n",
    "    print(column, ml_filtered[column].unique())"
   ]
  },
  {
   "cell_type": "code",
   "execution_count": 7,
   "id": "dc2bc15e-65ad-4568-8268-5741a3db2634",
   "metadata": {
    "execution": {
     "iopub.execute_input": "2022-04-09T08:23:00.034575Z",
     "iopub.status.busy": "2022-04-09T08:23:00.034242Z",
     "iopub.status.idle": "2022-04-09T08:23:02.165859Z",
     "shell.execute_reply": "2022-04-09T08:23:02.165106Z",
     "shell.execute_reply.started": "2022-04-09T08:23:00.034549Z"
    },
    "tags": []
   },
   "outputs": [],
   "source": [
    "import pandas as pd\n",
    "import numpy as np\n",
    "import matplotlib.pyplot as plt\n",
    "import seaborn as sns\n",
    "from pgmpy.estimators import PC\n",
    "from pgmpy.models import BayesianNetwork"
   ]
  },
  {
   "cell_type": "code",
   "execution_count": 8,
   "id": "83a72a2a-2b50-4843-bbf3-abd67cf9f121",
   "metadata": {
    "execution": {
     "iopub.execute_input": "2022-04-09T08:23:02.167477Z",
     "iopub.status.busy": "2022-04-09T08:23:02.166942Z",
     "iopub.status.idle": "2022-04-09T08:23:02.367854Z",
     "shell.execute_reply": "2022-04-09T08:23:02.366749Z",
     "shell.execute_reply.started": "2022-04-09T08:23:02.167438Z"
    },
    "tags": []
   },
   "outputs": [
    {
     "name": "stdout",
     "output_type": "stream",
     "text": [
      "(23860, 17)\n"
     ]
    },
    {
     "data": {
      "text/html": [
       "<div>\n",
       "<style scoped>\n",
       "    .dataframe tbody tr th:only-of-type {\n",
       "        vertical-align: middle;\n",
       "    }\n",
       "\n",
       "    .dataframe tbody tr th {\n",
       "        vertical-align: top;\n",
       "    }\n",
       "\n",
       "    .dataframe thead th {\n",
       "        text-align: right;\n",
       "    }\n",
       "</style>\n",
       "<table border=\"1\" class=\"dataframe\">\n",
       "  <thead>\n",
       "    <tr style=\"text-align: right;\">\n",
       "      <th></th>\n",
       "      <th></th>\n",
       "      <th>school_closures</th>\n",
       "      <th>workplace_closures</th>\n",
       "      <th>cancel_public_events</th>\n",
       "      <th>restrict_public_gathering</th>\n",
       "      <th>closure_public_transport</th>\n",
       "      <th>shn_requirement</th>\n",
       "      <th>restriction_internal_movement</th>\n",
       "      <th>internation_travel_control</th>\n",
       "      <th>pi_campaign</th>\n",
       "      <th>testing_policy</th>\n",
       "      <th>contact_tracing</th>\n",
       "      <th>facial_covering</th>\n",
       "      <th>vaccine_policy</th>\n",
       "      <th>confirmed_cases</th>\n",
       "      <th>confirmed_deathes</th>\n",
       "      <th>cases_per_mil</th>\n",
       "      <th>cases_per_mil_cat</th>\n",
       "    </tr>\n",
       "    <tr>\n",
       "      <th>country</th>\n",
       "      <th>date</th>\n",
       "      <th></th>\n",
       "      <th></th>\n",
       "      <th></th>\n",
       "      <th></th>\n",
       "      <th></th>\n",
       "      <th></th>\n",
       "      <th></th>\n",
       "      <th></th>\n",
       "      <th></th>\n",
       "      <th></th>\n",
       "      <th></th>\n",
       "      <th></th>\n",
       "      <th></th>\n",
       "      <th></th>\n",
       "      <th></th>\n",
       "      <th></th>\n",
       "      <th></th>\n",
       "    </tr>\n",
       "  </thead>\n",
       "  <tbody>\n",
       "    <tr>\n",
       "      <th rowspan=\"5\" valign=\"top\">china</th>\n",
       "      <th>2020-05-02</th>\n",
       "      <td>2</td>\n",
       "      <td>1</td>\n",
       "      <td>1</td>\n",
       "      <td>3</td>\n",
       "      <td>0</td>\n",
       "      <td>0</td>\n",
       "      <td>1</td>\n",
       "      <td>4.0</td>\n",
       "      <td>2</td>\n",
       "      <td>3.0</td>\n",
       "      <td>2.0</td>\n",
       "      <td>2</td>\n",
       "      <td>0</td>\n",
       "      <td>991.0</td>\n",
       "      <td>6.0</td>\n",
       "      <td>0.684392</td>\n",
       "      <td>0</td>\n",
       "    </tr>\n",
       "    <tr>\n",
       "      <th>2020-05-03</th>\n",
       "      <td>2</td>\n",
       "      <td>1</td>\n",
       "      <td>1</td>\n",
       "      <td>3</td>\n",
       "      <td>0</td>\n",
       "      <td>0</td>\n",
       "      <td>1</td>\n",
       "      <td>4.0</td>\n",
       "      <td>2</td>\n",
       "      <td>3.0</td>\n",
       "      <td>2.0</td>\n",
       "      <td>2</td>\n",
       "      <td>0</td>\n",
       "      <td>991.0</td>\n",
       "      <td>6.0</td>\n",
       "      <td>0.684392</td>\n",
       "      <td>0</td>\n",
       "    </tr>\n",
       "    <tr>\n",
       "      <th>2020-05-04</th>\n",
       "      <td>2</td>\n",
       "      <td>1</td>\n",
       "      <td>1</td>\n",
       "      <td>3</td>\n",
       "      <td>0</td>\n",
       "      <td>0</td>\n",
       "      <td>1</td>\n",
       "      <td>4.0</td>\n",
       "      <td>2</td>\n",
       "      <td>3.0</td>\n",
       "      <td>2.0</td>\n",
       "      <td>2</td>\n",
       "      <td>0</td>\n",
       "      <td>991.0</td>\n",
       "      <td>6.0</td>\n",
       "      <td>0.684392</td>\n",
       "      <td>0</td>\n",
       "    </tr>\n",
       "    <tr>\n",
       "      <th>2020-05-05</th>\n",
       "      <td>2</td>\n",
       "      <td>1</td>\n",
       "      <td>1</td>\n",
       "      <td>3</td>\n",
       "      <td>0</td>\n",
       "      <td>0</td>\n",
       "      <td>1</td>\n",
       "      <td>4.0</td>\n",
       "      <td>2</td>\n",
       "      <td>3.0</td>\n",
       "      <td>2.0</td>\n",
       "      <td>2</td>\n",
       "      <td>0</td>\n",
       "      <td>991.0</td>\n",
       "      <td>6.0</td>\n",
       "      <td>0.684392</td>\n",
       "      <td>0</td>\n",
       "    </tr>\n",
       "    <tr>\n",
       "      <th>2020-05-06</th>\n",
       "      <td>2</td>\n",
       "      <td>1</td>\n",
       "      <td>1</td>\n",
       "      <td>3</td>\n",
       "      <td>0</td>\n",
       "      <td>0</td>\n",
       "      <td>1</td>\n",
       "      <td>4.0</td>\n",
       "      <td>2</td>\n",
       "      <td>3.0</td>\n",
       "      <td>2.0</td>\n",
       "      <td>2</td>\n",
       "      <td>0</td>\n",
       "      <td>991.0</td>\n",
       "      <td>6.0</td>\n",
       "      <td>0.684392</td>\n",
       "      <td>0</td>\n",
       "    </tr>\n",
       "  </tbody>\n",
       "</table>\n",
       "</div>"
      ],
      "text/plain": [
       "                    school_closures  workplace_closures  cancel_public_events  \\\n",
       "country date                                                                    \n",
       "china   2020-05-02                2                   1                     1   \n",
       "        2020-05-03                2                   1                     1   \n",
       "        2020-05-04                2                   1                     1   \n",
       "        2020-05-05                2                   1                     1   \n",
       "        2020-05-06                2                   1                     1   \n",
       "\n",
       "                    restrict_public_gathering  closure_public_transport  \\\n",
       "country date                                                              \n",
       "china   2020-05-02                          3                         0   \n",
       "        2020-05-03                          3                         0   \n",
       "        2020-05-04                          3                         0   \n",
       "        2020-05-05                          3                         0   \n",
       "        2020-05-06                          3                         0   \n",
       "\n",
       "                    shn_requirement  restriction_internal_movement  \\\n",
       "country date                                                         \n",
       "china   2020-05-02                0                              1   \n",
       "        2020-05-03                0                              1   \n",
       "        2020-05-04                0                              1   \n",
       "        2020-05-05                0                              1   \n",
       "        2020-05-06                0                              1   \n",
       "\n",
       "                    internation_travel_control  pi_campaign  testing_policy  \\\n",
       "country date                                                                  \n",
       "china   2020-05-02                         4.0            2             3.0   \n",
       "        2020-05-03                         4.0            2             3.0   \n",
       "        2020-05-04                         4.0            2             3.0   \n",
       "        2020-05-05                         4.0            2             3.0   \n",
       "        2020-05-06                         4.0            2             3.0   \n",
       "\n",
       "                    contact_tracing  facial_covering  vaccine_policy  \\\n",
       "country date                                                           \n",
       "china   2020-05-02              2.0                2               0   \n",
       "        2020-05-03              2.0                2               0   \n",
       "        2020-05-04              2.0                2               0   \n",
       "        2020-05-05              2.0                2               0   \n",
       "        2020-05-06              2.0                2               0   \n",
       "\n",
       "                    confirmed_cases  confirmed_deathes  cases_per_mil  \\\n",
       "country date                                                            \n",
       "china   2020-05-02            991.0                6.0       0.684392   \n",
       "        2020-05-03            991.0                6.0       0.684392   \n",
       "        2020-05-04            991.0                6.0       0.684392   \n",
       "        2020-05-05            991.0                6.0       0.684392   \n",
       "        2020-05-06            991.0                6.0       0.684392   \n",
       "\n",
       "                    cases_per_mil_cat  \n",
       "country date                           \n",
       "china   2020-05-02                  0  \n",
       "        2020-05-03                  0  \n",
       "        2020-05-04                  0  \n",
       "        2020-05-05                  0  \n",
       "        2020-05-06                  0  "
      ]
     },
     "execution_count": 8,
     "metadata": {},
     "output_type": "execute_result"
    }
   ],
   "source": [
    "covid_policies_df = pd.read_csv(\"../data/processed/categorical_policies.csv\")\n",
    "covid_policies_df.set_index([\"country\", \"date\"], inplace=True)\n",
    "print(covid_policies_df.shape)\n",
    "covid_policies_df.head()"
   ]
  },
  {
   "cell_type": "code",
   "execution_count": 9,
   "id": "43790d12-ba97-45d1-b5f6-450a00067274",
   "metadata": {
    "execution": {
     "iopub.execute_input": "2022-04-09T08:23:02.369918Z",
     "iopub.status.busy": "2022-04-09T08:23:02.369085Z",
     "iopub.status.idle": "2022-04-09T08:23:02.398165Z",
     "shell.execute_reply": "2022-04-09T08:23:02.397295Z",
     "shell.execute_reply.started": "2022-04-09T08:23:02.369870Z"
    },
    "tags": []
   },
   "outputs": [
    {
     "data": {
      "text/html": [
       "<div>\n",
       "<style scoped>\n",
       "    .dataframe tbody tr th:only-of-type {\n",
       "        vertical-align: middle;\n",
       "    }\n",
       "\n",
       "    .dataframe tbody tr th {\n",
       "        vertical-align: top;\n",
       "    }\n",
       "\n",
       "    .dataframe thead th {\n",
       "        text-align: right;\n",
       "    }\n",
       "</style>\n",
       "<table border=\"1\" class=\"dataframe\">\n",
       "  <thead>\n",
       "    <tr style=\"text-align: right;\">\n",
       "      <th></th>\n",
       "      <th>school_closures</th>\n",
       "      <th>workplace_closures</th>\n",
       "      <th>cases_per_mil</th>\n",
       "      <th>cases_per_mil_cat</th>\n",
       "      <th>confirmed_cases</th>\n",
       "    </tr>\n",
       "    <tr>\n",
       "      <th>date</th>\n",
       "      <th></th>\n",
       "      <th></th>\n",
       "      <th></th>\n",
       "      <th></th>\n",
       "      <th></th>\n",
       "    </tr>\n",
       "  </thead>\n",
       "  <tbody>\n",
       "    <tr>\n",
       "      <th>2020-05-02</th>\n",
       "      <td>3</td>\n",
       "      <td>3</td>\n",
       "      <td>3219.816514</td>\n",
       "      <td>0</td>\n",
       "      <td>17548.0</td>\n",
       "    </tr>\n",
       "    <tr>\n",
       "      <th>2020-05-03</th>\n",
       "      <td>3</td>\n",
       "      <td>3</td>\n",
       "      <td>3340.366972</td>\n",
       "      <td>0</td>\n",
       "      <td>18205.0</td>\n",
       "    </tr>\n",
       "    <tr>\n",
       "      <th>2020-05-04</th>\n",
       "      <td>3</td>\n",
       "      <td>3</td>\n",
       "      <td>3445.504587</td>\n",
       "      <td>0</td>\n",
       "      <td>18778.0</td>\n",
       "    </tr>\n",
       "    <tr>\n",
       "      <th>2020-05-05</th>\n",
       "      <td>3</td>\n",
       "      <td>3</td>\n",
       "      <td>3561.467890</td>\n",
       "      <td>0</td>\n",
       "      <td>19410.0</td>\n",
       "    </tr>\n",
       "    <tr>\n",
       "      <th>2020-05-06</th>\n",
       "      <td>3</td>\n",
       "      <td>3</td>\n",
       "      <td>3706.055046</td>\n",
       "      <td>0</td>\n",
       "      <td>20198.0</td>\n",
       "    </tr>\n",
       "  </tbody>\n",
       "</table>\n",
       "</div>"
      ],
      "text/plain": [
       "            school_closures  workplace_closures  cases_per_mil  \\\n",
       "date                                                             \n",
       "2020-05-02                3                   3    3219.816514   \n",
       "2020-05-03                3                   3    3340.366972   \n",
       "2020-05-04                3                   3    3445.504587   \n",
       "2020-05-05                3                   3    3561.467890   \n",
       "2020-05-06                3                   3    3706.055046   \n",
       "\n",
       "            cases_per_mil_cat  confirmed_cases  \n",
       "date                                            \n",
       "2020-05-02                  0          17548.0  \n",
       "2020-05-03                  0          18205.0  \n",
       "2020-05-04                  0          18778.0  \n",
       "2020-05-05                  0          19410.0  \n",
       "2020-05-06                  0          20198.0  "
      ]
     },
     "execution_count": 9,
     "metadata": {},
     "output_type": "execute_result"
    }
   ],
   "source": [
    "sg_filtered = covid_policies_df.loc[\n",
    "    \"singapore\",\n",
    "    [\n",
    "        \"school_closures\",\n",
    "        \"workplace_closures\",\n",
    "        #         \"cancel_public_events\",\n",
    "        #         \"restrict_public_gathering\",\n",
    "        #         \"closure_public_transport\",\n",
    "        \"cases_per_mil\",\n",
    "        \"cases_per_mil_cat\",\n",
    "        \"confirmed_cases\",\n",
    "    ],\n",
    "]\n",
    "sg_filtered.head()"
   ]
  },
  {
   "cell_type": "code",
   "execution_count": 10,
   "id": "277cdee6-ab68-4c52-89bd-069f93646df9",
   "metadata": {
    "execution": {
     "iopub.execute_input": "2022-04-09T08:23:02.399463Z",
     "iopub.status.busy": "2022-04-09T08:23:02.399077Z",
     "iopub.status.idle": "2022-04-09T08:23:02.430355Z",
     "shell.execute_reply": "2022-04-09T08:23:02.429316Z",
     "shell.execute_reply.started": "2022-04-09T08:23:02.399399Z"
    },
    "tags": []
   },
   "outputs": [
    {
     "data": {
      "text/html": [
       "<div>\n",
       "<style scoped>\n",
       "    .dataframe tbody tr th:only-of-type {\n",
       "        vertical-align: middle;\n",
       "    }\n",
       "\n",
       "    .dataframe tbody tr th {\n",
       "        vertical-align: top;\n",
       "    }\n",
       "\n",
       "    .dataframe thead th {\n",
       "        text-align: right;\n",
       "    }\n",
       "</style>\n",
       "<table border=\"1\" class=\"dataframe\">\n",
       "  <thead>\n",
       "    <tr style=\"text-align: right;\">\n",
       "      <th></th>\n",
       "      <th>school_closures</th>\n",
       "      <th>workplace_closures</th>\n",
       "      <th>cases_per_mil</th>\n",
       "      <th>cases_per_mil_cat</th>\n",
       "      <th>confirmed_cases</th>\n",
       "    </tr>\n",
       "    <tr>\n",
       "      <th>date</th>\n",
       "      <th></th>\n",
       "      <th></th>\n",
       "      <th></th>\n",
       "      <th></th>\n",
       "      <th></th>\n",
       "    </tr>\n",
       "  </thead>\n",
       "  <tbody>\n",
       "    <tr>\n",
       "      <th>2020-05-02</th>\n",
       "      <td>3</td>\n",
       "      <td>3</td>\n",
       "      <td>193.00000</td>\n",
       "      <td>0</td>\n",
       "      <td>6176.0</td>\n",
       "    </tr>\n",
       "    <tr>\n",
       "      <th>2020-05-03</th>\n",
       "      <td>3</td>\n",
       "      <td>3</td>\n",
       "      <td>196.81250</td>\n",
       "      <td>0</td>\n",
       "      <td>6298.0</td>\n",
       "    </tr>\n",
       "    <tr>\n",
       "      <th>2020-05-04</th>\n",
       "      <td>3</td>\n",
       "      <td>2</td>\n",
       "      <td>198.53125</td>\n",
       "      <td>0</td>\n",
       "      <td>6353.0</td>\n",
       "    </tr>\n",
       "    <tr>\n",
       "      <th>2020-05-05</th>\n",
       "      <td>3</td>\n",
       "      <td>2</td>\n",
       "      <td>199.46875</td>\n",
       "      <td>0</td>\n",
       "      <td>6383.0</td>\n",
       "    </tr>\n",
       "    <tr>\n",
       "      <th>2020-05-06</th>\n",
       "      <td>3</td>\n",
       "      <td>2</td>\n",
       "      <td>200.87500</td>\n",
       "      <td>0</td>\n",
       "      <td>6428.0</td>\n",
       "    </tr>\n",
       "  </tbody>\n",
       "</table>\n",
       "</div>"
      ],
      "text/plain": [
       "            school_closures  workplace_closures  cases_per_mil  \\\n",
       "date                                                             \n",
       "2020-05-02                3                   3      193.00000   \n",
       "2020-05-03                3                   3      196.81250   \n",
       "2020-05-04                3                   2      198.53125   \n",
       "2020-05-05                3                   2      199.46875   \n",
       "2020-05-06                3                   2      200.87500   \n",
       "\n",
       "            cases_per_mil_cat  confirmed_cases  \n",
       "date                                            \n",
       "2020-05-02                  0           6176.0  \n",
       "2020-05-03                  0           6298.0  \n",
       "2020-05-04                  0           6353.0  \n",
       "2020-05-05                  0           6383.0  \n",
       "2020-05-06                  0           6428.0  "
      ]
     },
     "execution_count": 10,
     "metadata": {},
     "output_type": "execute_result"
    }
   ],
   "source": [
    "ml_filtered = covid_policies_df.loc[\n",
    "    \"malaysia\",\n",
    "    [\n",
    "        \"school_closures\",\n",
    "        \"workplace_closures\",\n",
    "        #         \"cancel_public_events\",\n",
    "        #         \"restrict_public_gathering\",\n",
    "        #         \"closure_public_transport\",\n",
    "        \"cases_per_mil\",\n",
    "        \"cases_per_mil_cat\",\n",
    "        \"confirmed_cases\",\n",
    "    ],\n",
    "]\n",
    "\n",
    "ml_filtered.head()"
   ]
  },
  {
   "cell_type": "code",
   "execution_count": 11,
   "id": "67238f0d-6f36-4413-82e0-4cda1f8c666a",
   "metadata": {
    "execution": {
     "iopub.execute_input": "2022-04-09T08:23:02.431718Z",
     "iopub.status.busy": "2022-04-09T08:23:02.431386Z",
     "iopub.status.idle": "2022-04-09T08:23:02.613894Z",
     "shell.execute_reply": "2022-04-09T08:23:02.613197Z",
     "shell.execute_reply.started": "2022-04-09T08:23:02.431679Z"
    },
    "tags": []
   },
   "outputs": [
    {
     "data": {
      "text/plain": [
       "<AxesSubplot:xlabel='cases_per_mil', ylabel='Count'>"
      ]
     },
     "execution_count": 11,
     "metadata": {},
     "output_type": "execute_result"
    },
    {
     "data": {
      "image/png": "[encoded data removed]",
      "text/plain": [
       "<Figure size 432x288 with 1 Axes>"
      ]
     },
     "metadata": {
      "needs_background": "light"
     },
     "output_type": "display_data"
    }
   ],
   "source": [
    "import seaborn as sns\n",
    "\n",
    "sns.histplot(ml_filtered.cases_per_mil, bins=5)"
   ]
  },
  {
   "cell_type": "code",
   "execution_count": 12,
   "id": "5751a636-e18d-4c02-b512-6e881b754037",
   "metadata": {
    "execution": {
     "iopub.execute_input": "2022-04-09T08:23:02.619012Z",
     "iopub.status.busy": "2022-04-09T08:23:02.618714Z",
     "iopub.status.idle": "2022-04-09T08:23:02.635107Z",
     "shell.execute_reply": "2022-04-09T08:23:02.633984Z",
     "shell.execute_reply.started": "2022-04-09T08:23:02.618982Z"
    },
    "tags": []
   },
   "outputs": [
    {
     "name": "stdout",
     "output_type": "stream",
     "text": [
      "school_closures [3 2 1 0]\n",
      "workplace_closures [3 2 1]\n",
      "cases_per_mil_cat [0 1 2 3 4 5]\n"
     ]
    }
   ],
   "source": [
    "for column in [\"school_closures\", \"workplace_closures\", \"cases_per_mil_cat\"]:\n",
    "    print(column, ml_filtered[column].unique())"
   ]
  },
  {
   "cell_type": "markdown",
   "id": "77332228-5dc6-43cf-8368-8c4beaccc29b",
   "metadata": {},
   "source": [
    "## Contruct MRF by-hand"
   ]
  },
  {
   "cell_type": "code",
   "execution_count": 13,
   "id": "d0c301a1-b939-4ff5-8dec-e41192b96811",
   "metadata": {
    "execution": {
     "iopub.execute_input": "2022-04-09T08:23:02.637100Z",
     "iopub.status.busy": "2022-04-09T08:23:02.636768Z",
     "iopub.status.idle": "2022-04-09T08:23:02.656137Z",
     "shell.execute_reply": "2022-04-09T08:23:02.654199Z",
     "shell.execute_reply.started": "2022-04-09T08:23:02.637071Z"
    },
    "tags": []
   },
   "outputs": [
    {
     "data": {
      "text/plain": [
       "{'school_closures': 0, 'workplace_closures': 1, 'cases_per_mil_cat': 2}"
      ]
     },
     "execution_count": 13,
     "metadata": {},
     "output_type": "execute_result"
    }
   ],
   "source": [
    "nodes = [\"school_closures\", \"workplace_closures\", \"cases_per_mil_cat\"]\n",
    "nodes_to_idx_map = {n: i for n, i in zip(nodes, range(len(nodes)))}\n",
    "nodes_to_idx_map"
   ]
  },
  {
   "cell_type": "code",
   "execution_count": 14,
   "id": "11ab9ca8-6d5b-4666-8dcc-a4bb64b09ff9",
   "metadata": {
    "execution": {
     "iopub.execute_input": "2022-04-09T08:23:02.658447Z",
     "iopub.status.busy": "2022-04-09T08:23:02.657710Z",
     "iopub.status.idle": "2022-04-09T08:23:02.688511Z",
     "shell.execute_reply": "2022-04-09T08:23:02.687222Z",
     "shell.execute_reply.started": "2022-04-09T08:23:02.658410Z"
    },
    "tags": []
   },
   "outputs": [],
   "source": [
    "cliques = [\n",
    "    [\"school_closures\", \"workplace_closures\"],\n",
    "    [\"workplace_closures\", \"cases_per_mil_cat\"],\n",
    "    [\"school_closures\", \"cases_per_mil_cat\"],\n",
    "]\n",
    "jpts = []\n",
    "for clique in cliques:\n",
    "    agg_results = ml_filtered.groupby(by=clique).size()\n",
    "    records = []\n",
    "    for val1, val2 in itertools.product(\n",
    "        ml_filtered[clique[0]].unique(), ml_filtered[clique[1]].unique()\n",
    "    ):\n",
    "        records.append(\n",
    "            [\n",
    "                \n",
    "                val1,\n",
    "                val2,\n",
    "                agg_results[(val1, val2)] if (val1, val2) in agg_results.index else 0,\n",
    "            ]\n",
    "        )\n",
    "    jpts.append(JointProbabilityTable(records, (nodes_to_idx_map[clique[0]], nodes_to_idx_map[clique[1]]))) # Nodes are expected to be integers"
   ]
  },
  {
   "cell_type": "code",
   "execution_count": 15,
   "id": "c00bbc22-8b29-4e82-9ac7-94cf0d24e1ae",
   "metadata": {
    "execution": {
     "iopub.execute_input": "2022-04-09T08:23:02.690702Z",
     "iopub.status.busy": "2022-04-09T08:23:02.690335Z",
     "iopub.status.idle": "2022-04-09T08:23:02.811778Z",
     "shell.execute_reply": "2022-04-09T08:23:02.811129Z",
     "shell.execute_reply.started": "2022-04-09T08:23:02.690666Z"
    },
    "tags": []
   },
   "outputs": [
    {
     "data": {
      "image/png": "[encoded data removed]",
      "text/plain": [
       "<Figure size 432x288 with 1 Axes>"
      ]
     },
     "metadata": {},
     "output_type": "display_data"
    }
   ],
   "source": [
    "markov_model = MarkovNetwork(jpts)\n",
    "markov_model.bake()\n",
    "G = nx.Graph()\n",
    "G.add_edges_from(markov_model.structure)\n",
    "nx.draw(G, with_labels=True)"
   ]
  },
  {
   "cell_type": "code",
   "execution_count": 16,
   "id": "384cbf6d-1aae-4823-b4e5-5621c08211d5",
   "metadata": {
    "execution": {
     "iopub.execute_input": "2022-04-09T08:23:02.813365Z",
     "iopub.status.busy": "2022-04-09T08:23:02.813006Z",
     "iopub.status.idle": "2022-04-09T08:23:02.843549Z",
     "shell.execute_reply": "2022-04-09T08:23:02.842791Z",
     "shell.execute_reply.started": "2022-04-09T08:23:02.813339Z"
    },
    "tags": []
   },
   "outputs": [
    {
     "data": {
      "text/plain": [
       "[array([{\n",
       "            \"class\" : \"Distribution\",\n",
       "            \"dtype\" : \"numpy.int64\",\n",
       "            \"name\" : \"DiscreteDistribution\",\n",
       "            \"parameters\" : [\n",
       "                {\n",
       "                    \"0\" : 0.006986909331489476,\n",
       "                    \"1\" : 0.00944566995200529,\n",
       "                    \"2\" : 0.1807069585340459,\n",
       "                    \"3\" : 0.8028604621824593\n",
       "                }\n",
       "            ],\n",
       "            \"frozen\" : false\n",
       "        }                                      ,\n",
       "        {\n",
       "            \"class\" : \"Distribution\",\n",
       "            \"dtype\" : \"numpy.int64\",\n",
       "            \"name\" : \"DiscreteDistribution\",\n",
       "            \"parameters\" : [\n",
       "                {\n",
       "                    \"1\" : 0.0492456817143833,\n",
       "                    \"2\" : 0.5733092035699515,\n",
       "                    \"3\" : 0.3774451147156653\n",
       "                }\n",
       "            ],\n",
       "            \"frozen\" : false\n",
       "        }                                    ,\n",
       "        {\n",
       "            \"class\" : \"Distribution\",\n",
       "            \"dtype\" : \"numpy.int64\",\n",
       "            \"name\" : \"DiscreteDistribution\",\n",
       "            \"parameters\" : [\n",
       "                {\n",
       "                    \"0\" : 0.8214921235914167,\n",
       "                    \"1\" : 0.09166648184706282,\n",
       "                    \"2\" : 0.011266595247917276,\n",
       "                    \"3\" : 0.013900656321185083,\n",
       "                    \"4\" : 0.06165163679678505,\n",
       "                    \"5\" : 2.2506195633174537e-05\n",
       "                }\n",
       "            ],\n",
       "            \"frozen\" : false\n",
       "        }                                       ], dtype=object)]"
      ]
     },
     "execution_count": 16,
     "metadata": {},
     "output_type": "execute_result"
    }
   ],
   "source": [
    "markov_model.predict_proba([[None, None, None]])"
   ]
  },
  {
   "cell_type": "markdown",
   "id": "e8160738-f70a-4ef0-80ad-37c0f90bd5f3",
   "metadata": {},
   "source": [
    "## Auto-learn MRF Structure from Data"
   ]
  },
  {
   "cell_type": "code",
   "execution_count": 17,
   "id": "ae3eaf11-3fba-46d9-8a98-633298dfb88b",
   "metadata": {
    "execution": {
     "iopub.execute_input": "2022-04-09T08:23:02.844761Z",
     "iopub.status.busy": "2022-04-09T08:23:02.844473Z",
     "iopub.status.idle": "2022-04-09T08:23:02.951298Z",
     "shell.execute_reply": "2022-04-09T08:23:02.950277Z",
     "shell.execute_reply.started": "2022-04-09T08:23:02.844735Z"
    },
    "tags": []
   },
   "outputs": [
    {
     "data": {
      "image/png": "[encoded data removed]",
      "text/plain": [
       "<Figure size 432x288 with 1 Axes>"
      ]
     },
     "metadata": {},
     "output_type": "display_data"
    }
   ],
   "source": [
    "mrf_auto_model = MarkovNetwork.from_samples(\n",
    "    ml_filtered[\n",
    "        nodes\n",
    "    ].to_numpy()\n",
    ")\n",
    "mrf_auto_model.bake()\n",
    "G = nx.Graph()\n",
    "G.add_edges_from(mrf_auto_model.structure)\n",
    "nx.draw(G, with_labels=True)"
   ]
  },
  {
   "cell_type": "code",
   "execution_count": 19,
   "id": "c7284ea9-c607-4a19-bfd1-8c6353ca7773",
   "metadata": {
    "execution": {
     "iopub.execute_input": "2022-04-09T08:25:01.976382Z",
     "iopub.status.busy": "2022-04-09T08:25:01.975836Z",
     "iopub.status.idle": "2022-04-09T08:25:02.003197Z",
     "shell.execute_reply": "2022-04-09T08:25:02.002546Z",
     "shell.execute_reply.started": "2022-04-09T08:25:01.976356Z"
    },
    "tags": []
   },
   "outputs": [
    {
     "data": {
      "text/plain": [
       "[array([{\n",
       "            \"class\" : \"Distribution\",\n",
       "            \"dtype\" : \"int\",\n",
       "            \"name\" : \"DiscreteDistribution\",\n",
       "            \"parameters\" : [\n",
       "                {\n",
       "                    \"0\" : 0.0399064243296745,\n",
       "                    \"1\" : 0.07111750944754379,\n",
       "                    \"2\" : 0.32903365125067474,\n",
       "                    \"3\" : 0.5599424149721068\n",
       "                }\n",
       "            ],\n",
       "            \"frozen\" : false\n",
       "        }                                     ,\n",
       "        {\n",
       "            \"class\" : \"Distribution\",\n",
       "            \"dtype\" : \"int\",\n",
       "            \"name\" : \"DiscreteDistribution\",\n",
       "            \"parameters\" : [\n",
       "                {\n",
       "                    \"1\" : 0.14656829224401668,\n",
       "                    \"2\" : 0.45101313658448794,\n",
       "                    \"3\" : 0.4024185711714954\n",
       "                }\n",
       "            ],\n",
       "            \"frozen\" : false\n",
       "        }                                     ,\n",
       "        {\n",
       "            \"class\" : \"Distribution\",\n",
       "            \"dtype\" : \"int\",\n",
       "            \"name\" : \"DiscreteDistribution\",\n",
       "            \"parameters\" : [\n",
       "                {\n",
       "                    \"0\" : 0.7097066762641709,\n",
       "                    \"1\" : 0.125420190750405,\n",
       "                    \"2\" : 0.008321036530502163,\n",
       "                    \"3\" : 0.009328774518625245,\n",
       "                    \"4\" : 0.1471945294223502,\n",
       "                    \"5\" : 2.879251394638018e-05\n",
       "                }\n",
       "            ],\n",
       "            \"frozen\" : false\n",
       "        }                                      ], dtype=object)]"
      ]
     },
     "execution_count": 19,
     "metadata": {},
     "output_type": "execute_result"
    }
   ],
   "source": [
    "mrf_auto_model.predict_proba([[None, None, None]])"
   ]
  },
  {
   "cell_type": "markdown",
   "id": "9cfbe529-5910-4a6f-9e6c-6f2fd8b44a9a",
   "metadata": {},
   "source": [
    "### Contruct MRF by-hand != Auto-learn MRF Structure from Data\n"
   ]
  }
 ],
 "metadata": {
  "kernelspec": {
   "display_name": "Py3 (deeplearn_course)",
   "language": "python",
   "name": "deeplearn_course"
  },
  "language_info": {
   "codemirror_mode": {
    "name": "ipython",
    "version": 3
   },
   "file_extension": ".py",
   "mimetype": "text/x-python",
   "name": "python",
   "nbconvert_exporter": "python",
   "pygments_lexer": "ipython3",
   "version": "3.7.10"
  }
 },
 "nbformat": 4,
 "nbformat_minor": 5
}
