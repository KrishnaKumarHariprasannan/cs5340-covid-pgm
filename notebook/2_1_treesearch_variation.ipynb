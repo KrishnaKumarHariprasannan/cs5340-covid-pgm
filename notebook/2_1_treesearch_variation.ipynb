{
  "cells": [
    {
      "cell_type": "code",
      "execution_count": 1,
      "metadata": {
        "colab": {
          "base_uri": "https://localhost:8080/"
        },
        "id": "UsFfGNhTM13l",
        "outputId": "f7987ca7-7419-43b2-d385-e420373efa13"
      },
      "outputs": [
        {
          "output_type": "stream",
          "name": "stdout",
          "text": [
            "Mounted at /content/gdrive\n"
          ]
        }
      ],
      "source": [
        "from google.colab import drive\n",
        "drive.mount('/content/gdrive')"
      ]
    },
    {
      "cell_type": "code",
      "execution_count": 2,
      "metadata": {
        "colab": {
          "base_uri": "https://localhost:8080/"
        },
        "id": "PhN1f3CEN0Lg",
        "outputId": "ce9e175c-8996-45e7-e04d-836f2f10f27c"
      },
      "outputs": [
        {
          "output_type": "stream",
          "name": "stdout",
          "text": [
            "/content/gdrive/My Drive/UncertaintyModelling\n"
          ]
        }
      ],
      "source": [
        "%cd gdrive/My Drive/UncertaintyModelling/"
      ]
    },
    {
      "cell_type": "code",
      "execution_count": 3,
      "metadata": {
        "id": "qiCROxEcN_3d",
        "colab": {
          "base_uri": "https://localhost:8080/"
        },
        "outputId": "c443062d-7e09-454c-e449-50468398610d"
      },
      "outputs": [
        {
          "output_type": "stream",
          "name": "stdout",
          "text": [
            "Collecting pgmpy\n",
            "  Downloading pgmpy-0.1.18-py3-none-any.whl (1.9 MB)\n",
            "\u001b[K     |████████████████████████████████| 1.9 MB 4.4 MB/s \n",
            "\u001b[?25hRequirement already satisfied: torch in /usr/local/lib/python3.7/dist-packages (from pgmpy) (1.10.0+cu111)\n",
            "Requirement already satisfied: scikit-learn in /usr/local/lib/python3.7/dist-packages (from pgmpy) (1.0.2)\n",
            "Requirement already satisfied: tqdm in /usr/local/lib/python3.7/dist-packages (from pgmpy) (4.64.0)\n",
            "Requirement already satisfied: joblib in /usr/local/lib/python3.7/dist-packages (from pgmpy) (1.1.0)\n",
            "Requirement already satisfied: pandas in /usr/local/lib/python3.7/dist-packages (from pgmpy) (1.3.5)\n",
            "Requirement already satisfied: scipy in /usr/local/lib/python3.7/dist-packages (from pgmpy) (1.4.1)\n",
            "Requirement already satisfied: pyparsing in /usr/local/lib/python3.7/dist-packages (from pgmpy) (3.0.8)\n",
            "Requirement already satisfied: statsmodels in /usr/local/lib/python3.7/dist-packages (from pgmpy) (0.10.2)\n",
            "Requirement already satisfied: numpy in /usr/local/lib/python3.7/dist-packages (from pgmpy) (1.21.6)\n",
            "Requirement already satisfied: networkx in /usr/local/lib/python3.7/dist-packages (from pgmpy) (2.6.3)\n",
            "Requirement already satisfied: python-dateutil>=2.7.3 in /usr/local/lib/python3.7/dist-packages (from pandas->pgmpy) (2.8.2)\n",
            "Requirement already satisfied: pytz>=2017.3 in /usr/local/lib/python3.7/dist-packages (from pandas->pgmpy) (2022.1)\n",
            "Requirement already satisfied: six>=1.5 in /usr/local/lib/python3.7/dist-packages (from python-dateutil>=2.7.3->pandas->pgmpy) (1.15.0)\n",
            "Requirement already satisfied: threadpoolctl>=2.0.0 in /usr/local/lib/python3.7/dist-packages (from scikit-learn->pgmpy) (3.1.0)\n",
            "Requirement already satisfied: patsy>=0.4.0 in /usr/local/lib/python3.7/dist-packages (from statsmodels->pgmpy) (0.5.2)\n",
            "Requirement already satisfied: typing-extensions in /usr/local/lib/python3.7/dist-packages (from torch->pgmpy) (4.1.1)\n",
            "Installing collected packages: pgmpy\n",
            "Successfully installed pgmpy-0.1.18\n"
          ]
        }
      ],
      "source": [
        "!pip install pgmpy"
      ]
    },
    {
      "cell_type": "code",
      "execution_count": 4,
      "metadata": {
        "id": "RGaRxyQxODQ3"
      },
      "outputs": [],
      "source": [
        "import pandas as pd\n",
        "import numpy as np\n",
        "import pickle\n",
        "import pgmpy\n",
        "import sklearn\n",
        "from sklearn.metrics import f1_score, accuracy_score, recall_score"
      ]
    },
    {
      "cell_type": "code",
      "execution_count": 5,
      "metadata": {
        "id": "kvZk32XpOLKB"
      },
      "outputs": [],
      "source": [
        "with open(\"models/bayesian_18countries_learnt_bn_treesearch.pickle\", \"rb\") as handle:\n",
        "  model = pickle.load(handle)"
      ]
    },
    {
      "cell_type": "code",
      "execution_count": 6,
      "metadata": {
        "colab": {
          "base_uri": "https://localhost:8080/",
          "height": 305
        },
        "id": "Lu0n3OE5XC0p",
        "outputId": "c3191fc4-f6b3-4e59-9aed-08bc61431393"
      },
      "outputs": [
        {
          "output_type": "stream",
          "name": "stdout",
          "text": [
            "(495, 307)\n"
          ]
        },
        {
          "output_type": "execute_result",
          "data": {
            "text/plain": [
              "   deaths_per_mil_cat_india  facial_covering_new_zealand  \\\n",
              "0                         0                            3   \n",
              "1                         0                            2   \n",
              "2                         0                            3   \n",
              "3                         0                            3   \n",
              "4                         0                            2   \n",
              "\n",
              "   cancel_public_events_argentina  debt_relief_india  \\\n",
              "0                               2                1.0   \n",
              "1                               2                0.0   \n",
              "2                               1                1.0   \n",
              "3                               2                1.0   \n",
              "4                               2                0.0   \n",
              "\n",
              "   income_support_singapore  school_closures_argentina  vaccine_policy_china  \\\n",
              "0                         2                          1                     5   \n",
              "1                         2                          3                     4   \n",
              "2                         2                          0                     5   \n",
              "3                         2                          1                     5   \n",
              "4                         2                          1                     4   \n",
              "\n",
              "   restriction_internal_movement_indonesia  workplace_closures_finland  \\\n",
              "0                                        2                           1   \n",
              "1                                        2                           2   \n",
              "2                                        2                           1   \n",
              "3                                        2                           1   \n",
              "4                                        2                           2   \n",
              "\n",
              "   internation_travel_control_finland  ...  cases_per_mil_cat_finland  \\\n",
              "0                                 2.0  ...                          1   \n",
              "1                                 3.0  ...                          1   \n",
              "2                                 2.0  ...                          4   \n",
              "3                                 2.0  ...                          1   \n",
              "4                                 3.0  ...                          1   \n",
              "\n",
              "   cases_per_mil_cat_hong_kong  cases_per_mil_cat_indonesia  \\\n",
              "0                            0                            1   \n",
              "1                            0                            0   \n",
              "2                            0                            1   \n",
              "3                            0                            1   \n",
              "4                            0                            0   \n",
              "\n",
              "   cases_per_mil_cat_india  cases_per_mil_cat_israel  \\\n",
              "0                        1                         5   \n",
              "1                        1                         4   \n",
              "2                        1                         6   \n",
              "3                        1                         5   \n",
              "4                        0                         4   \n",
              "\n",
              "   cases_per_mil_cat_malaysia  cases_per_mil_cat_new_zealand  \\\n",
              "0                           3                              0   \n",
              "1                           1                              0   \n",
              "2                           4                              0   \n",
              "3                           3                              0   \n",
              "4                           1                              0   \n",
              "\n",
              "   cases_per_mil_cat_singapore  cases_per_mil_cat_united_states  \\\n",
              "0                            1                                6   \n",
              "1                            1                                4   \n",
              "2                            3                                6   \n",
              "3                            1                                5   \n",
              "4                            1                                4   \n",
              "\n",
              "   cases_per_mil_cat_south_africa  \n",
              "0                               2  \n",
              "1                               1  \n",
              "2                               3  \n",
              "3                               2  \n",
              "4                               1  \n",
              "\n",
              "[5 rows x 307 columns]"
            ],
            "text/html": [
              "\n",
              "  <div id=\"df-266c968b-a75d-431c-a5f4-c99ee028293c\">\n",
              "    <div class=\"colab-df-container\">\n",
              "      <div>\n",
              "<style scoped>\n",
              "    .dataframe tbody tr th:only-of-type {\n",
              "        vertical-align: middle;\n",
              "    }\n",
              "\n",
              "    .dataframe tbody tr th {\n",
              "        vertical-align: top;\n",
              "    }\n",
              "\n",
              "    .dataframe thead th {\n",
              "        text-align: right;\n",
              "    }\n",
              "</style>\n",
              "<table border=\"1\" class=\"dataframe\">\n",
              "  <thead>\n",
              "    <tr style=\"text-align: right;\">\n",
              "      <th></th>\n",
              "      <th>deaths_per_mil_cat_india</th>\n",
              "      <th>facial_covering_new_zealand</th>\n",
              "      <th>cancel_public_events_argentina</th>\n",
              "      <th>debt_relief_india</th>\n",
              "      <th>income_support_singapore</th>\n",
              "      <th>school_closures_argentina</th>\n",
              "      <th>vaccine_policy_china</th>\n",
              "      <th>restriction_internal_movement_indonesia</th>\n",
              "      <th>workplace_closures_finland</th>\n",
              "      <th>internation_travel_control_finland</th>\n",
              "      <th>...</th>\n",
              "      <th>cases_per_mil_cat_finland</th>\n",
              "      <th>cases_per_mil_cat_hong_kong</th>\n",
              "      <th>cases_per_mil_cat_indonesia</th>\n",
              "      <th>cases_per_mil_cat_india</th>\n",
              "      <th>cases_per_mil_cat_israel</th>\n",
              "      <th>cases_per_mil_cat_malaysia</th>\n",
              "      <th>cases_per_mil_cat_new_zealand</th>\n",
              "      <th>cases_per_mil_cat_singapore</th>\n",
              "      <th>cases_per_mil_cat_united_states</th>\n",
              "      <th>cases_per_mil_cat_south_africa</th>\n",
              "    </tr>\n",
              "  </thead>\n",
              "  <tbody>\n",
              "    <tr>\n",
              "      <th>0</th>\n",
              "      <td>0</td>\n",
              "      <td>3</td>\n",
              "      <td>2</td>\n",
              "      <td>1.0</td>\n",
              "      <td>2</td>\n",
              "      <td>1</td>\n",
              "      <td>5</td>\n",
              "      <td>2</td>\n",
              "      <td>1</td>\n",
              "      <td>2.0</td>\n",
              "      <td>...</td>\n",
              "      <td>1</td>\n",
              "      <td>0</td>\n",
              "      <td>1</td>\n",
              "      <td>1</td>\n",
              "      <td>5</td>\n",
              "      <td>3</td>\n",
              "      <td>0</td>\n",
              "      <td>1</td>\n",
              "      <td>6</td>\n",
              "      <td>2</td>\n",
              "    </tr>\n",
              "    <tr>\n",
              "      <th>1</th>\n",
              "      <td>0</td>\n",
              "      <td>2</td>\n",
              "      <td>2</td>\n",
              "      <td>0.0</td>\n",
              "      <td>2</td>\n",
              "      <td>3</td>\n",
              "      <td>4</td>\n",
              "      <td>2</td>\n",
              "      <td>2</td>\n",
              "      <td>3.0</td>\n",
              "      <td>...</td>\n",
              "      <td>1</td>\n",
              "      <td>0</td>\n",
              "      <td>0</td>\n",
              "      <td>1</td>\n",
              "      <td>4</td>\n",
              "      <td>1</td>\n",
              "      <td>0</td>\n",
              "      <td>1</td>\n",
              "      <td>4</td>\n",
              "      <td>1</td>\n",
              "    </tr>\n",
              "    <tr>\n",
              "      <th>2</th>\n",
              "      <td>0</td>\n",
              "      <td>3</td>\n",
              "      <td>1</td>\n",
              "      <td>1.0</td>\n",
              "      <td>2</td>\n",
              "      <td>0</td>\n",
              "      <td>5</td>\n",
              "      <td>2</td>\n",
              "      <td>1</td>\n",
              "      <td>2.0</td>\n",
              "      <td>...</td>\n",
              "      <td>4</td>\n",
              "      <td>0</td>\n",
              "      <td>1</td>\n",
              "      <td>1</td>\n",
              "      <td>6</td>\n",
              "      <td>4</td>\n",
              "      <td>0</td>\n",
              "      <td>3</td>\n",
              "      <td>6</td>\n",
              "      <td>3</td>\n",
              "    </tr>\n",
              "    <tr>\n",
              "      <th>3</th>\n",
              "      <td>0</td>\n",
              "      <td>3</td>\n",
              "      <td>2</td>\n",
              "      <td>1.0</td>\n",
              "      <td>2</td>\n",
              "      <td>1</td>\n",
              "      <td>5</td>\n",
              "      <td>2</td>\n",
              "      <td>1</td>\n",
              "      <td>2.0</td>\n",
              "      <td>...</td>\n",
              "      <td>1</td>\n",
              "      <td>0</td>\n",
              "      <td>1</td>\n",
              "      <td>1</td>\n",
              "      <td>5</td>\n",
              "      <td>3</td>\n",
              "      <td>0</td>\n",
              "      <td>1</td>\n",
              "      <td>5</td>\n",
              "      <td>2</td>\n",
              "    </tr>\n",
              "    <tr>\n",
              "      <th>4</th>\n",
              "      <td>0</td>\n",
              "      <td>2</td>\n",
              "      <td>2</td>\n",
              "      <td>0.0</td>\n",
              "      <td>2</td>\n",
              "      <td>1</td>\n",
              "      <td>4</td>\n",
              "      <td>2</td>\n",
              "      <td>2</td>\n",
              "      <td>3.0</td>\n",
              "      <td>...</td>\n",
              "      <td>1</td>\n",
              "      <td>0</td>\n",
              "      <td>0</td>\n",
              "      <td>0</td>\n",
              "      <td>4</td>\n",
              "      <td>1</td>\n",
              "      <td>0</td>\n",
              "      <td>1</td>\n",
              "      <td>4</td>\n",
              "      <td>1</td>\n",
              "    </tr>\n",
              "  </tbody>\n",
              "</table>\n",
              "<p>5 rows × 307 columns</p>\n",
              "</div>\n",
              "      <button class=\"colab-df-convert\" onclick=\"convertToInteractive('df-266c968b-a75d-431c-a5f4-c99ee028293c')\"\n",
              "              title=\"Convert this dataframe to an interactive table.\"\n",
              "              style=\"display:none;\">\n",
              "        \n",
              "  <svg xmlns=\"http://www.w3.org/2000/svg\" height=\"24px\"viewBox=\"0 0 24 24\"\n",
              "       width=\"24px\">\n",
              "    <path d=\"M0 0h24v24H0V0z\" fill=\"none\"/>\n",
              "    <path d=\"M18.56 5.44l.94 2.06.94-2.06 2.06-.94-2.06-.94-.94-2.06-.94 2.06-2.06.94zm-11 1L8.5 8.5l.94-2.06 2.06-.94-2.06-.94L8.5 2.5l-.94 2.06-2.06.94zm10 10l.94 2.06.94-2.06 2.06-.94-2.06-.94-.94-2.06-.94 2.06-2.06.94z\"/><path d=\"M17.41 7.96l-1.37-1.37c-.4-.4-.92-.59-1.43-.59-.52 0-1.04.2-1.43.59L10.3 9.45l-7.72 7.72c-.78.78-.78 2.05 0 2.83L4 21.41c.39.39.9.59 1.41.59.51 0 1.02-.2 1.41-.59l7.78-7.78 2.81-2.81c.8-.78.8-2.07 0-2.86zM5.41 20L4 18.59l7.72-7.72 1.47 1.35L5.41 20z\"/>\n",
              "  </svg>\n",
              "      </button>\n",
              "      \n",
              "  <style>\n",
              "    .colab-df-container {\n",
              "      display:flex;\n",
              "      flex-wrap:wrap;\n",
              "      gap: 12px;\n",
              "    }\n",
              "\n",
              "    .colab-df-convert {\n",
              "      background-color: #E8F0FE;\n",
              "      border: none;\n",
              "      border-radius: 50%;\n",
              "      cursor: pointer;\n",
              "      display: none;\n",
              "      fill: #1967D2;\n",
              "      height: 32px;\n",
              "      padding: 0 0 0 0;\n",
              "      width: 32px;\n",
              "    }\n",
              "\n",
              "    .colab-df-convert:hover {\n",
              "      background-color: #E2EBFA;\n",
              "      box-shadow: 0px 1px 2px rgba(60, 64, 67, 0.3), 0px 1px 3px 1px rgba(60, 64, 67, 0.15);\n",
              "      fill: #174EA6;\n",
              "    }\n",
              "\n",
              "    [theme=dark] .colab-df-convert {\n",
              "      background-color: #3B4455;\n",
              "      fill: #D2E3FC;\n",
              "    }\n",
              "\n",
              "    [theme=dark] .colab-df-convert:hover {\n",
              "      background-color: #434B5C;\n",
              "      box-shadow: 0px 1px 3px 1px rgba(0, 0, 0, 0.15);\n",
              "      filter: drop-shadow(0px 1px 2px rgba(0, 0, 0, 0.3));\n",
              "      fill: #FFFFFF;\n",
              "    }\n",
              "  </style>\n",
              "\n",
              "      <script>\n",
              "        const buttonEl =\n",
              "          document.querySelector('#df-266c968b-a75d-431c-a5f4-c99ee028293c button.colab-df-convert');\n",
              "        buttonEl.style.display =\n",
              "          google.colab.kernel.accessAllowed ? 'block' : 'none';\n",
              "\n",
              "        async function convertToInteractive(key) {\n",
              "          const element = document.querySelector('#df-266c968b-a75d-431c-a5f4-c99ee028293c');\n",
              "          const dataTable =\n",
              "            await google.colab.kernel.invokeFunction('convertToInteractive',\n",
              "                                                     [key], {});\n",
              "          if (!dataTable) return;\n",
              "\n",
              "          const docLinkHtml = 'Like what you see? Visit the ' +\n",
              "            '<a target=\"_blank\" href=https://colab.research.google.com/notebooks/data_table.ipynb>data table notebook</a>'\n",
              "            + ' to learn more about interactive tables.';\n",
              "          element.innerHTML = '';\n",
              "          dataTable['output_type'] = 'display_data';\n",
              "          await google.colab.output.renderOutput(dataTable, element);\n",
              "          const docLink = document.createElement('div');\n",
              "          docLink.innerHTML = docLinkHtml;\n",
              "          element.appendChild(docLink);\n",
              "        }\n",
              "      </script>\n",
              "    </div>\n",
              "  </div>\n",
              "  "
            ]
          },
          "metadata": {},
          "execution_count": 6
        }
      ],
      "source": [
        "train_df = pd.read_csv(\"data/train_18_countries.csv\")\n",
        "print(train_df.shape)\n",
        "train_df.head()"
      ]
    },
    {
      "cell_type": "code",
      "execution_count": 7,
      "metadata": {
        "colab": {
          "base_uri": "https://localhost:8080/",
          "height": 305
        },
        "id": "rVEXaOb5XvJZ",
        "outputId": "629f84c9-02a2-4fc0-aac1-d5ceeeef68aa"
      },
      "outputs": [
        {
          "output_type": "stream",
          "name": "stdout",
          "text": [
            "(165, 307)\n"
          ]
        },
        {
          "output_type": "execute_result",
          "data": {
            "text/plain": [
              "   deaths_per_mil_cat_india  facial_covering_new_zealand  \\\n",
              "0                         0                            3   \n",
              "1                         0                            3   \n",
              "2                         0                            2   \n",
              "3                         0                            3   \n",
              "4                         0                            0   \n",
              "\n",
              "   cancel_public_events_argentina  debt_relief_india  \\\n",
              "0                               1                1.0   \n",
              "1                               2                1.0   \n",
              "2                               2                2.0   \n",
              "3                               2                1.0   \n",
              "4                               2                2.0   \n",
              "\n",
              "   income_support_singapore  school_closures_argentina  vaccine_policy_china  \\\n",
              "0                         2                          0                     5   \n",
              "1                         2                          1                     5   \n",
              "2                         2                          3                     0   \n",
              "3                         2                          1                     5   \n",
              "4                         2                          3                     0   \n",
              "\n",
              "   restriction_internal_movement_indonesia  workplace_closures_finland  \\\n",
              "0                                        2                           1   \n",
              "1                                        2                           1   \n",
              "2                                        2                           1   \n",
              "3                                        2                           1   \n",
              "4                                        1                           1   \n",
              "\n",
              "   internation_travel_control_finland  ...  cases_per_mil_cat_finland  \\\n",
              "0                                 2.0  ...                          4   \n",
              "1                                 2.0  ...                          1   \n",
              "2                                 3.0  ...                          0   \n",
              "3                                 2.0  ...                          1   \n",
              "4                                 3.0  ...                          0   \n",
              "\n",
              "   cases_per_mil_cat_hong_kong  cases_per_mil_cat_indonesia  \\\n",
              "0                            0                            1   \n",
              "1                            0                            1   \n",
              "2                            0                            0   \n",
              "3                            0                            1   \n",
              "4                            0                            0   \n",
              "\n",
              "   cases_per_mil_cat_india  cases_per_mil_cat_israel  \\\n",
              "0                        1                         6   \n",
              "1                        1                         6   \n",
              "2                        0                         1   \n",
              "3                        1                         5   \n",
              "4                        0                         0   \n",
              "\n",
              "   cases_per_mil_cat_malaysia  cases_per_mil_cat_new_zealand  \\\n",
              "0                           4                              0   \n",
              "1                           3                              0   \n",
              "2                           0                              0   \n",
              "3                           3                              0   \n",
              "4                           0                              0   \n",
              "\n",
              "   cases_per_mil_cat_singapore  cases_per_mil_cat_united_states  \\\n",
              "0                            3                                6   \n",
              "1                            1                                6   \n",
              "2                            1                                1   \n",
              "3                            1                                5   \n",
              "4                            0                                1   \n",
              "\n",
              "   cases_per_mil_cat_south_africa  \n",
              "0                               3  \n",
              "1                               2  \n",
              "2                               1  \n",
              "3                               2  \n",
              "4                               0  \n",
              "\n",
              "[5 rows x 307 columns]"
            ],
            "text/html": [
              "\n",
              "  <div id=\"df-81b1c194-3316-418e-9136-a2fb3c2e5db2\">\n",
              "    <div class=\"colab-df-container\">\n",
              "      <div>\n",
              "<style scoped>\n",
              "    .dataframe tbody tr th:only-of-type {\n",
              "        vertical-align: middle;\n",
              "    }\n",
              "\n",
              "    .dataframe tbody tr th {\n",
              "        vertical-align: top;\n",
              "    }\n",
              "\n",
              "    .dataframe thead th {\n",
              "        text-align: right;\n",
              "    }\n",
              "</style>\n",
              "<table border=\"1\" class=\"dataframe\">\n",
              "  <thead>\n",
              "    <tr style=\"text-align: right;\">\n",
              "      <th></th>\n",
              "      <th>deaths_per_mil_cat_india</th>\n",
              "      <th>facial_covering_new_zealand</th>\n",
              "      <th>cancel_public_events_argentina</th>\n",
              "      <th>debt_relief_india</th>\n",
              "      <th>income_support_singapore</th>\n",
              "      <th>school_closures_argentina</th>\n",
              "      <th>vaccine_policy_china</th>\n",
              "      <th>restriction_internal_movement_indonesia</th>\n",
              "      <th>workplace_closures_finland</th>\n",
              "      <th>internation_travel_control_finland</th>\n",
              "      <th>...</th>\n",
              "      <th>cases_per_mil_cat_finland</th>\n",
              "      <th>cases_per_mil_cat_hong_kong</th>\n",
              "      <th>cases_per_mil_cat_indonesia</th>\n",
              "      <th>cases_per_mil_cat_india</th>\n",
              "      <th>cases_per_mil_cat_israel</th>\n",
              "      <th>cases_per_mil_cat_malaysia</th>\n",
              "      <th>cases_per_mil_cat_new_zealand</th>\n",
              "      <th>cases_per_mil_cat_singapore</th>\n",
              "      <th>cases_per_mil_cat_united_states</th>\n",
              "      <th>cases_per_mil_cat_south_africa</th>\n",
              "    </tr>\n",
              "  </thead>\n",
              "  <tbody>\n",
              "    <tr>\n",
              "      <th>0</th>\n",
              "      <td>0</td>\n",
              "      <td>3</td>\n",
              "      <td>1</td>\n",
              "      <td>1.0</td>\n",
              "      <td>2</td>\n",
              "      <td>0</td>\n",
              "      <td>5</td>\n",
              "      <td>2</td>\n",
              "      <td>1</td>\n",
              "      <td>2.0</td>\n",
              "      <td>...</td>\n",
              "      <td>4</td>\n",
              "      <td>0</td>\n",
              "      <td>1</td>\n",
              "      <td>1</td>\n",
              "      <td>6</td>\n",
              "      <td>4</td>\n",
              "      <td>0</td>\n",
              "      <td>3</td>\n",
              "      <td>6</td>\n",
              "      <td>3</td>\n",
              "    </tr>\n",
              "    <tr>\n",
              "      <th>1</th>\n",
              "      <td>0</td>\n",
              "      <td>3</td>\n",
              "      <td>2</td>\n",
              "      <td>1.0</td>\n",
              "      <td>2</td>\n",
              "      <td>1</td>\n",
              "      <td>5</td>\n",
              "      <td>2</td>\n",
              "      <td>1</td>\n",
              "      <td>2.0</td>\n",
              "      <td>...</td>\n",
              "      <td>1</td>\n",
              "      <td>0</td>\n",
              "      <td>1</td>\n",
              "      <td>1</td>\n",
              "      <td>6</td>\n",
              "      <td>3</td>\n",
              "      <td>0</td>\n",
              "      <td>1</td>\n",
              "      <td>6</td>\n",
              "      <td>2</td>\n",
              "    </tr>\n",
              "    <tr>\n",
              "      <th>2</th>\n",
              "      <td>0</td>\n",
              "      <td>2</td>\n",
              "      <td>2</td>\n",
              "      <td>2.0</td>\n",
              "      <td>2</td>\n",
              "      <td>3</td>\n",
              "      <td>0</td>\n",
              "      <td>2</td>\n",
              "      <td>1</td>\n",
              "      <td>3.0</td>\n",
              "      <td>...</td>\n",
              "      <td>0</td>\n",
              "      <td>0</td>\n",
              "      <td>0</td>\n",
              "      <td>0</td>\n",
              "      <td>1</td>\n",
              "      <td>0</td>\n",
              "      <td>0</td>\n",
              "      <td>1</td>\n",
              "      <td>1</td>\n",
              "      <td>1</td>\n",
              "    </tr>\n",
              "    <tr>\n",
              "      <th>3</th>\n",
              "      <td>0</td>\n",
              "      <td>3</td>\n",
              "      <td>2</td>\n",
              "      <td>1.0</td>\n",
              "      <td>2</td>\n",
              "      <td>1</td>\n",
              "      <td>5</td>\n",
              "      <td>2</td>\n",
              "      <td>1</td>\n",
              "      <td>2.0</td>\n",
              "      <td>...</td>\n",
              "      <td>1</td>\n",
              "      <td>0</td>\n",
              "      <td>1</td>\n",
              "      <td>1</td>\n",
              "      <td>5</td>\n",
              "      <td>3</td>\n",
              "      <td>0</td>\n",
              "      <td>1</td>\n",
              "      <td>5</td>\n",
              "      <td>2</td>\n",
              "    </tr>\n",
              "    <tr>\n",
              "      <th>4</th>\n",
              "      <td>0</td>\n",
              "      <td>0</td>\n",
              "      <td>2</td>\n",
              "      <td>2.0</td>\n",
              "      <td>2</td>\n",
              "      <td>3</td>\n",
              "      <td>0</td>\n",
              "      <td>1</td>\n",
              "      <td>1</td>\n",
              "      <td>3.0</td>\n",
              "      <td>...</td>\n",
              "      <td>0</td>\n",
              "      <td>0</td>\n",
              "      <td>0</td>\n",
              "      <td>0</td>\n",
              "      <td>0</td>\n",
              "      <td>0</td>\n",
              "      <td>0</td>\n",
              "      <td>0</td>\n",
              "      <td>1</td>\n",
              "      <td>0</td>\n",
              "    </tr>\n",
              "  </tbody>\n",
              "</table>\n",
              "<p>5 rows × 307 columns</p>\n",
              "</div>\n",
              "      <button class=\"colab-df-convert\" onclick=\"convertToInteractive('df-81b1c194-3316-418e-9136-a2fb3c2e5db2')\"\n",
              "              title=\"Convert this dataframe to an interactive table.\"\n",
              "              style=\"display:none;\">\n",
              "        \n",
              "  <svg xmlns=\"http://www.w3.org/2000/svg\" height=\"24px\"viewBox=\"0 0 24 24\"\n",
              "       width=\"24px\">\n",
              "    <path d=\"M0 0h24v24H0V0z\" fill=\"none\"/>\n",
              "    <path d=\"M18.56 5.44l.94 2.06.94-2.06 2.06-.94-2.06-.94-.94-2.06-.94 2.06-2.06.94zm-11 1L8.5 8.5l.94-2.06 2.06-.94-2.06-.94L8.5 2.5l-.94 2.06-2.06.94zm10 10l.94 2.06.94-2.06 2.06-.94-2.06-.94-.94-2.06-.94 2.06-2.06.94z\"/><path d=\"M17.41 7.96l-1.37-1.37c-.4-.4-.92-.59-1.43-.59-.52 0-1.04.2-1.43.59L10.3 9.45l-7.72 7.72c-.78.78-.78 2.05 0 2.83L4 21.41c.39.39.9.59 1.41.59.51 0 1.02-.2 1.41-.59l7.78-7.78 2.81-2.81c.8-.78.8-2.07 0-2.86zM5.41 20L4 18.59l7.72-7.72 1.47 1.35L5.41 20z\"/>\n",
              "  </svg>\n",
              "      </button>\n",
              "      \n",
              "  <style>\n",
              "    .colab-df-container {\n",
              "      display:flex;\n",
              "      flex-wrap:wrap;\n",
              "      gap: 12px;\n",
              "    }\n",
              "\n",
              "    .colab-df-convert {\n",
              "      background-color: #E8F0FE;\n",
              "      border: none;\n",
              "      border-radius: 50%;\n",
              "      cursor: pointer;\n",
              "      display: none;\n",
              "      fill: #1967D2;\n",
              "      height: 32px;\n",
              "      padding: 0 0 0 0;\n",
              "      width: 32px;\n",
              "    }\n",
              "\n",
              "    .colab-df-convert:hover {\n",
              "      background-color: #E2EBFA;\n",
              "      box-shadow: 0px 1px 2px rgba(60, 64, 67, 0.3), 0px 1px 3px 1px rgba(60, 64, 67, 0.15);\n",
              "      fill: #174EA6;\n",
              "    }\n",
              "\n",
              "    [theme=dark] .colab-df-convert {\n",
              "      background-color: #3B4455;\n",
              "      fill: #D2E3FC;\n",
              "    }\n",
              "\n",
              "    [theme=dark] .colab-df-convert:hover {\n",
              "      background-color: #434B5C;\n",
              "      box-shadow: 0px 1px 3px 1px rgba(0, 0, 0, 0.15);\n",
              "      filter: drop-shadow(0px 1px 2px rgba(0, 0, 0, 0.3));\n",
              "      fill: #FFFFFF;\n",
              "    }\n",
              "  </style>\n",
              "\n",
              "      <script>\n",
              "        const buttonEl =\n",
              "          document.querySelector('#df-81b1c194-3316-418e-9136-a2fb3c2e5db2 button.colab-df-convert');\n",
              "        buttonEl.style.display =\n",
              "          google.colab.kernel.accessAllowed ? 'block' : 'none';\n",
              "\n",
              "        async function convertToInteractive(key) {\n",
              "          const element = document.querySelector('#df-81b1c194-3316-418e-9136-a2fb3c2e5db2');\n",
              "          const dataTable =\n",
              "            await google.colab.kernel.invokeFunction('convertToInteractive',\n",
              "                                                     [key], {});\n",
              "          if (!dataTable) return;\n",
              "\n",
              "          const docLinkHtml = 'Like what you see? Visit the ' +\n",
              "            '<a target=\"_blank\" href=https://colab.research.google.com/notebooks/data_table.ipynb>data table notebook</a>'\n",
              "            + ' to learn more about interactive tables.';\n",
              "          element.innerHTML = '';\n",
              "          dataTable['output_type'] = 'display_data';\n",
              "          await google.colab.output.renderOutput(dataTable, element);\n",
              "          const docLink = document.createElement('div');\n",
              "          docLink.innerHTML = docLinkHtml;\n",
              "          element.appendChild(docLink);\n",
              "        }\n",
              "      </script>\n",
              "    </div>\n",
              "  </div>\n",
              "  "
            ]
          },
          "metadata": {},
          "execution_count": 7
        }
      ],
      "source": [
        "test_df = pd.read_csv(\"data/test_18_countries.csv\")\n",
        "print(test_df.shape)\n",
        "test_df.head()"
      ]
    },
    {
      "cell_type": "code",
      "execution_count": 8,
      "metadata": {
        "id": "e1LLASgUaVFp"
      },
      "outputs": [],
      "source": [
        "test_df = test_df.astype(int)"
      ]
    },
    {
      "cell_type": "markdown",
      "metadata": {
        "id": "wqw84RfmE5YS"
      },
      "source": [
        "**Split by features**"
      ]
    },
    {
      "cell_type": "code",
      "execution_count": 9,
      "metadata": {
        "id": "hCrSAre4E_37"
      },
      "outputs": [],
      "source": [
        "policies = [\n",
        "            \"school_closures\",\n",
        "            \"workplace_closures\",\n",
        "            \"cancel_public_events\",\n",
        "            \"restrict_public_gathering\",\n",
        "            \"closure_public_transport\",\n",
        "            \"shn_requirement\",\n",
        "            \"restriction_internal_movement\",\n",
        "            \"internation_travel_control\",\n",
        "            \"pi_campaign\",\n",
        "            \"testing_policy\",\n",
        "            \"contact_tracing\",\n",
        "            \"facial_covering\",\n",
        "            \"vaccine_policy\",\n",
        "            \"income_support\",\n",
        "            \"debt_relief\"\n",
        "]"
      ]
    },
    {
      "cell_type": "code",
      "execution_count": 10,
      "metadata": {
        "id": "n2rrnJOPGsdZ"
      },
      "outputs": [],
      "source": [
        "dfs_policy = {}"
      ]
    },
    {
      "cell_type": "code",
      "execution_count": 11,
      "metadata": {
        "id": "DZpie2UiGyYg"
      },
      "outputs": [],
      "source": [
        "import regex as re\n",
        "for policy in policies:\n",
        "  pattern = \"^policy\"\n",
        "  my_regex = r\"^\" + re.escape(policy)\n",
        "  dfs_policy[policy] = test_df.filter(regex=(my_regex))"
      ]
    },
    {
      "cell_type": "code",
      "execution_count": 12,
      "metadata": {
        "colab": {
          "base_uri": "https://localhost:8080/"
        },
        "id": "kGvNDoeQHga1",
        "outputId": "54e2c5e0-8d50-41ed-c68b-02a170b255a4"
      },
      "outputs": [
        {
          "output_type": "stream",
          "name": "stderr",
          "text": [
            "/usr/local/lib/python3.7/dist-packages/statsmodels/tools/_testing.py:19: FutureWarning: pandas.util.testing is deprecated. Use the functions in the public API at pandas.testing instead.\n",
            "  import pandas.util.testing as tm\n"
          ]
        }
      ],
      "source": [
        "from pgmpy.inference import VariableElimination\n",
        "ve = VariableElimination(model)"
      ]
    },
    {
      "cell_type": "code",
      "execution_count": null,
      "metadata": {
        "colab": {
          "background_save": true
        },
        "id": "YagiAYsfHjsy"
      },
      "outputs": [],
      "source": [
        "import networkx as nx\n",
        "import matplotlib.pyplot as plt\n",
        "fig, ax = plt.subplots(1,1, figsize=(80,80))\n",
        "nx.draw(model, with_labels=True, ax=ax)\n",
        "plt.tight_layout()"
      ]
    },
    {
      "cell_type": "markdown",
      "metadata": {
        "id": "5hRObAQ_go8Z"
      },
      "source": [
        "**Split by countries**"
      ]
    },
    {
      "cell_type": "code",
      "execution_count": 13,
      "metadata": {
        "id": "BDyg_tvCkOyT"
      },
      "outputs": [],
      "source": [
        "countries = [\n",
        "    \"singapore\",\n",
        "    \"china\",\n",
        "    \"malaysia\",\n",
        "    \"indonesia\",\n",
        "    \"hong_kong\",\n",
        "    \"australia\",\n",
        "    \"new_zealand\",\n",
        "    \"united_states\",\n",
        "    \"canada\",\n",
        "    \"argentina\",\n",
        "    \"brazil\",\n",
        "    \"south_africa\",\n",
        "    \"egypt\",\n",
        "    \"germany\",\n",
        "    \"finland\",\n",
        "    \"switzerland\",\n",
        "    \"israel\",\n",
        "    \"india\"\n",
        "]"
      ]
    },
    {
      "cell_type": "code",
      "execution_count": 14,
      "metadata": {
        "id": "xWGMXWlciQXn"
      },
      "outputs": [],
      "source": [
        "dfs = {}"
      ]
    },
    {
      "cell_type": "code",
      "execution_count": 15,
      "metadata": {
        "id": "dkTFczz2l1rY"
      },
      "outputs": [],
      "source": [
        "import regex as re\n",
        "for country in countries:\n",
        "  pattern = \"country$\"\n",
        "  my_regex = re.escape(country) + r\"$\"\n",
        "  dfs[country] = test_df.filter(regex=(my_regex))"
      ]
    },
    {
      "cell_type": "code",
      "execution_count": 16,
      "metadata": {
        "id": "Ph2z0iVfX4OG"
      },
      "outputs": [],
      "source": [
        "from pgmpy.inference import VariableElimination\n",
        "ve = VariableElimination(model)"
      ]
    },
    {
      "cell_type": "code",
      "execution_count": null,
      "metadata": {
        "id": "Q2osmewFX8IX"
      },
      "outputs": [],
      "source": [
        "import networkx as nx\n",
        "import matplotlib.pyplot as plt\n",
        "fig, ax = plt.subplots(1,1, figsize=(80,80))\n",
        "nx.draw(model, with_labels=True, ax=ax)\n",
        "plt.tight_layout()"
      ]
    },
    {
      "cell_type": "code",
      "execution_count": 17,
      "metadata": {
        "colab": {
          "base_uri": "https://localhost:8080/"
        },
        "id": "2HkFHHvexKyn",
        "outputId": "e883cf86-bfd5-432c-bf4d-300a32c55bd4"
      },
      "outputs": [
        {
          "output_type": "stream",
          "name": "stderr",
          "text": [
            "/usr/local/lib/python3.7/dist-packages/pgmpy/factors/discrete/DiscreteFactor.py:537: UserWarning: Found unknown state name. Trying to switch to using all state names as state numbers\n",
            "  UserWarning,\n",
            "/usr/local/lib/python3.7/dist-packages/pgmpy/factors/discrete/DiscreteFactor.py:472: RuntimeWarning: invalid value encountered in true_divide\n",
            "  phi.values = phi.values / phi.values.sum()\n"
          ]
        }
      ],
      "source": [
        "pred_list = {}\n",
        "for country in countries:\n",
        "  preds = []\n",
        "  deaths_per_mil_cat_country = 'deaths_per_mil_cat_'+country\n",
        "  cases_per_mil_cat_country = 'cases_per_mil_cat_'+country\n",
        "\n",
        "  for idx, row in dfs[country].drop([deaths_per_mil_cat_country, cases_per_mil_cat_country], axis = 1).iterrows():\n",
        "    evidence = row.to_dict()\n",
        "    res = ve.query(\n",
        "          [cases_per_mil_cat_country], evidence=evidence, show_progress=False\n",
        "      )\n",
        "    ans_dict = {}\n",
        "    for key, val in zip(res.state_names[res.variables[0]], res.values):\n",
        "      ans_dict[key] = val\n",
        "    max_val = max(ans_dict, key=ans_dict.get)\n",
        "    preds.append(max_val)\n",
        "  pred_list[country] = preds"
      ]
    },
    {
      "cell_type": "code",
      "execution_count": 18,
      "metadata": {
        "id": "_v1HECOvynGq"
      },
      "outputs": [],
      "source": [
        "predictions_list = {}\n",
        "for country in countries:\n",
        "  predictions = []\n",
        "  for t in pred_list[country]:\n",
        "    predictions.append(t)\n",
        "  cases_per_mil_cat_country = 'cases_per_mil_cat_'+country\n",
        "  preds_df = pd.DataFrame(predictions, columns = [cases_per_mil_cat_country])\n",
        "  predictions_list[country] = preds_df"
      ]
    },
    {
      "cell_type": "code",
      "source": [
        "from sklearn.metrics import f1_score, accuracy_score, recall_score"
      ],
      "metadata": {
        "id": "PP_t8BwkxU-q"
      },
      "execution_count": 20,
      "outputs": []
    },
    {
      "cell_type": "code",
      "execution_count": 22,
      "metadata": {
        "id": "r45C4LJfzLom"
      },
      "outputs": [],
      "source": [
        "scores = {}\n",
        "for country in countries:\n",
        "  preds_df = predictions_list[country]\n",
        "  cases_per_mil_cat_country = 'cases_per_mil_cat_'+country\n",
        "  actual_df = test_df[cases_per_mil_cat_country]\n",
        "  f1_s = f1_score(actual_df, preds_df, average='micro')\n",
        "  accuracy_s = accuracy_score(actual_df, preds_df)\n",
        "  recall_s = recall_score(actual_df, preds_df, average='weighted')\n",
        "  scores[country] = {\n",
        "        \"accuracy\": accuracy_s,\n",
        "        \"f1\": f1_s,\n",
        "        \"recall\": recall_s,\n",
        "    }"
      ]
    },
    {
      "cell_type": "code",
      "execution_count": 23,
      "metadata": {
        "colab": {
          "base_uri": "https://localhost:8080/"
        },
        "id": "YY7D1K6LzwaS",
        "outputId": "ced6dee1-0e32-43dc-e279-01a134dfaab8"
      },
      "outputs": [
        {
          "output_type": "execute_result",
          "data": {
            "text/plain": [
              "{'argentina': {'accuracy': 0.8424242424242424,\n",
              "  'f1': 0.8424242424242424,\n",
              "  'recall': 0.8424242424242424},\n",
              " 'australia': {'accuracy': 0.9393939393939394,\n",
              "  'f1': 0.9393939393939394,\n",
              "  'recall': 0.9393939393939394},\n",
              " 'brazil': {'accuracy': 0.8, 'f1': 0.8000000000000002, 'recall': 0.8},\n",
              " 'canada': {'accuracy': 0.8848484848484849,\n",
              "  'f1': 0.8848484848484849,\n",
              "  'recall': 0.8848484848484849},\n",
              " 'china': {'accuracy': 1.0, 'f1': 1.0, 'recall': 1.0},\n",
              " 'egypt': {'accuracy': 1.0, 'f1': 1.0, 'recall': 1.0},\n",
              " 'finland': {'accuracy': 0.9333333333333333,\n",
              "  'f1': 0.9333333333333333,\n",
              "  'recall': 0.9333333333333333},\n",
              " 'germany': {'accuracy': 0.9090909090909091,\n",
              "  'f1': 0.9090909090909091,\n",
              "  'recall': 0.9090909090909091},\n",
              " 'hong_kong': {'accuracy': 1.0, 'f1': 1.0, 'recall': 1.0},\n",
              " 'india': {'accuracy': 0.9515151515151515,\n",
              "  'f1': 0.9515151515151515,\n",
              "  'recall': 0.9515151515151515},\n",
              " 'indonesia': {'accuracy': 0.9212121212121213,\n",
              "  'f1': 0.9212121212121213,\n",
              "  'recall': 0.9212121212121213},\n",
              " 'israel': {'accuracy': 0.9515151515151515,\n",
              "  'f1': 0.9515151515151515,\n",
              "  'recall': 0.9515151515151515},\n",
              " 'malaysia': {'accuracy': 0.8787878787878788,\n",
              "  'f1': 0.8787878787878788,\n",
              "  'recall': 0.8787878787878788},\n",
              " 'new_zealand': {'accuracy': 1.0, 'f1': 1.0, 'recall': 1.0},\n",
              " 'singapore': {'accuracy': 0.7090909090909091,\n",
              "  'f1': 0.7090909090909091,\n",
              "  'recall': 0.7090909090909091},\n",
              " 'south_africa': {'accuracy': 0.9030303030303031,\n",
              "  'f1': 0.9030303030303031,\n",
              "  'recall': 0.9030303030303031},\n",
              " 'switzerland': {'accuracy': 0.7515151515151515,\n",
              "  'f1': 0.7515151515151516,\n",
              "  'recall': 0.7515151515151515},\n",
              " 'united_states': {'accuracy': 0.8727272727272727,\n",
              "  'f1': 0.8727272727272727,\n",
              "  'recall': 0.8727272727272727}}"
            ]
          },
          "metadata": {},
          "execution_count": 23
        }
      ],
      "source": [
        "scores"
      ]
    },
    {
      "cell_type": "code",
      "source": [
        "nodes_and_children = [(node, model.get_children(node)) for node in model.nodes]\n",
        "node_to_children_map = {\n",
        "    node: children\n",
        "    for node, children in sorted(\n",
        "        nodes_and_children, key=lambda el: len(el[1]), reverse=True\n",
        "    )\n",
        "}"
      ],
      "metadata": {
        "id": "lkM0Y5dNrf_C"
      },
      "execution_count": 12,
      "outputs": []
    },
    {
      "cell_type": "code",
      "source": [
        "for idx, (node, children) in enumerate(node_to_children_map.items()):\n",
        "    if node == \"date\":\n",
        "        continue\n",
        "\n",
        "    print(f\"Node - {node}\")\n",
        "    print(f\"Number of children - {len(children)}\")\n",
        "    policy = node[: node.rindex(\"_\")]\n",
        "    print(\n",
        "        f\"Number of related policies in other countries - {[child for child in children if policy in child]}\"\n",
        "    )\n",
        "    linked_countries = {\n",
        "        child[child.rindex(\"_\") + 1 :] for child in children if child != \"date\"\n",
        "    }\n",
        "    print(f\"Number of linked countries - {len(linked_countries)} ({linked_countries})\")\n",
        "    print()\n",
        "\n",
        "    if idx == 50:\n",
        "        break"
      ],
      "metadata": {
        "id": "3ZMk7Jz9rgqx"
      },
      "execution_count": null,
      "outputs": []
    },
    {
      "cell_type": "code",
      "source": [
        "[edge for edge in model.edges if \"cases_per_mil_cat_india\" in edge[0]]"
      ],
      "metadata": {
        "colab": {
          "base_uri": "https://localhost:8080/"
        },
        "id": "OgZrpgG0r6sa",
        "outputId": "45530c6e-1c6f-4637-90e8-abbc7f041b73"
      },
      "execution_count": 27,
      "outputs": [
        {
          "output_type": "execute_result",
          "data": {
            "text/plain": [
              "[]"
            ]
          },
          "metadata": {},
          "execution_count": 27
        }
      ]
    },
    {
      "cell_type": "markdown",
      "source": [
        "New Zealand had some of the most strict measures when it came to covid control. And this was rightly inferred from the bayesian network model that we built as we got f1 scores close to 1 when we tried to infer number of covid cases from the policies enforced there since the consistent strict measures kept the covid cases consistently low."
      ],
      "metadata": {
        "id": "mQxcPY1jyOwR"
      }
    }
  ],
  "metadata": {
    "colab": {
      "name": "Uncertainity_2.1.ipynb",
      "provenance": []
    },
    "kernelspec": {
      "display_name": "Python 3",
      "name": "python3"
    },
    "language_info": {
      "name": "python"
    }
  },
  "nbformat": 4,
  "nbformat_minor": 0
}