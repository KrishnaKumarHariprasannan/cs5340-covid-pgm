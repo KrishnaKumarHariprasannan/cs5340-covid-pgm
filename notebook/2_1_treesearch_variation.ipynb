{
  "nbformat": 4,
  "nbformat_minor": 0,
  "metadata": {
    "colab": {
      "name": "Uncertainity_2.1.ipynb",
      "provenance": []
    },
    "kernelspec": {
      "name": "python3",
      "display_name": "Python 3"
    },
    "language_info": {
      "name": "python"
    }
  },
  "cells": [
    {
      "cell_type": "code",
      "execution_count": 1,
      "metadata": {
        "colab": {
          "base_uri": "https://localhost:8080/"
        },
        "id": "UsFfGNhTM13l",
        "outputId": "40c5a370-f624-48f8-c8f0-4be47830670d"
      },
      "outputs": [
        {
          "output_type": "stream",
          "name": "stdout",
          "text": [
            "Mounted at /content/gdrive\n"
          ]
        }
      ],
      "source": [
        "from google.colab import drive\n",
        "drive.mount('/content/gdrive')"
      ]
    },
    {
      "cell_type": "code",
      "source": [
        "%cd gdrive/My Drive/UncertaintyModelling/"
      ],
      "metadata": {
        "colab": {
          "base_uri": "https://localhost:8080/"
        },
        "id": "PhN1f3CEN0Lg",
        "outputId": "7a8c26db-5397-4bbf-ea3f-357452e9b181"
      },
      "execution_count": 8,
      "outputs": [
        {
          "output_type": "stream",
          "name": "stdout",
          "text": [
            "/content/gdrive/My Drive/UncertaintyModelling\n"
          ]
        }
      ]
    },
    {
      "cell_type": "code",
      "source": [
        "!pip install pgmpy"
      ],
      "metadata": {
        "id": "qiCROxEcN_3d"
      },
      "execution_count": null,
      "outputs": []
    },
    {
      "cell_type": "code",
      "source": [
        "import pandas as pd\n",
        "import numpy as np\n",
        "import pickle\n",
        "import pgmpy\n",
        "import sklearn\n",
        "from sklearn.metrics import f1_score"
      ],
      "metadata": {
        "id": "RGaRxyQxODQ3"
      },
      "execution_count": 65,
      "outputs": []
    },
    {
      "cell_type": "code",
      "source": [
        "with open(\"models/bayesian_18countries_learnt_bn_treesearch.pickle\", \"rb\") as handle:\n",
        "  model = pickle.load(handle)"
      ],
      "metadata": {
        "id": "kvZk32XpOLKB"
      },
      "execution_count": 9,
      "outputs": []
    },
    {
      "cell_type": "code",
      "source": [
        "train_df = pd.read_csv(\"data/train_18_countries.csv\")\n",
        "print(train_df.shape)\n",
        "train_df.head()"
      ],
      "metadata": {
        "colab": {
          "base_uri": "https://localhost:8080/",
          "height": 305
        },
        "id": "Lu0n3OE5XC0p",
        "outputId": "e1508e35-2a24-428e-b66a-5eab72e19691"
      },
      "execution_count": 23,
      "outputs": [
        {
          "output_type": "stream",
          "name": "stdout",
          "text": [
            "(495, 307)\n"
          ]
        },
        {
          "output_type": "execute_result",
          "data": {
            "text/plain": [
              "   deaths_per_mil_cat_india  facial_covering_new_zealand  \\\n",
              "0                         0                            3   \n",
              "1                         0                            2   \n",
              "2                         0                            3   \n",
              "3                         0                            3   \n",
              "4                         0                            2   \n",
              "\n",
              "   cancel_public_events_argentina  debt_relief_india  \\\n",
              "0                               2                1.0   \n",
              "1                               2                0.0   \n",
              "2                               1                1.0   \n",
              "3                               2                1.0   \n",
              "4                               2                0.0   \n",
              "\n",
              "   income_support_singapore  school_closures_argentina  vaccine_policy_china  \\\n",
              "0                         2                          1                     5   \n",
              "1                         2                          3                     4   \n",
              "2                         2                          0                     5   \n",
              "3                         2                          1                     5   \n",
              "4                         2                          1                     4   \n",
              "\n",
              "   restriction_internal_movement_indonesia  workplace_closures_finland  \\\n",
              "0                                        2                           1   \n",
              "1                                        2                           2   \n",
              "2                                        2                           1   \n",
              "3                                        2                           1   \n",
              "4                                        2                           2   \n",
              "\n",
              "   internation_travel_control_finland  ...  cases_per_mil_cat_finland  \\\n",
              "0                                 2.0  ...                          1   \n",
              "1                                 3.0  ...                          1   \n",
              "2                                 2.0  ...                          4   \n",
              "3                                 2.0  ...                          1   \n",
              "4                                 3.0  ...                          1   \n",
              "\n",
              "   cases_per_mil_cat_hong_kong  cases_per_mil_cat_indonesia  \\\n",
              "0                            0                            1   \n",
              "1                            0                            0   \n",
              "2                            0                            1   \n",
              "3                            0                            1   \n",
              "4                            0                            0   \n",
              "\n",
              "   cases_per_mil_cat_india  cases_per_mil_cat_israel  \\\n",
              "0                        1                         5   \n",
              "1                        1                         4   \n",
              "2                        1                         6   \n",
              "3                        1                         5   \n",
              "4                        0                         4   \n",
              "\n",
              "   cases_per_mil_cat_malaysia  cases_per_mil_cat_new_zealand  \\\n",
              "0                           3                              0   \n",
              "1                           1                              0   \n",
              "2                           4                              0   \n",
              "3                           3                              0   \n",
              "4                           1                              0   \n",
              "\n",
              "   cases_per_mil_cat_singapore  cases_per_mil_cat_united_states  \\\n",
              "0                            1                                6   \n",
              "1                            1                                4   \n",
              "2                            3                                6   \n",
              "3                            1                                5   \n",
              "4                            1                                4   \n",
              "\n",
              "   cases_per_mil_cat_south_africa  \n",
              "0                               2  \n",
              "1                               1  \n",
              "2                               3  \n",
              "3                               2  \n",
              "4                               1  \n",
              "\n",
              "[5 rows x 307 columns]"
            ],
            "text/html": [
              "\n",
              "  <div id=\"df-05e275e2-57ed-44f6-9568-96884aef152e\">\n",
              "    <div class=\"colab-df-container\">\n",
              "      <div>\n",
              "<style scoped>\n",
              "    .dataframe tbody tr th:only-of-type {\n",
              "        vertical-align: middle;\n",
              "    }\n",
              "\n",
              "    .dataframe tbody tr th {\n",
              "        vertical-align: top;\n",
              "    }\n",
              "\n",
              "    .dataframe thead th {\n",
              "        text-align: right;\n",
              "    }\n",
              "</style>\n",
              "<table border=\"1\" class=\"dataframe\">\n",
              "  <thead>\n",
              "    <tr style=\"text-align: right;\">\n",
              "      <th></th>\n",
              "      <th>deaths_per_mil_cat_india</th>\n",
              "      <th>facial_covering_new_zealand</th>\n",
              "      <th>cancel_public_events_argentina</th>\n",
              "      <th>debt_relief_india</th>\n",
              "      <th>income_support_singapore</th>\n",
              "      <th>school_closures_argentina</th>\n",
              "      <th>vaccine_policy_china</th>\n",
              "      <th>restriction_internal_movement_indonesia</th>\n",
              "      <th>workplace_closures_finland</th>\n",
              "      <th>internation_travel_control_finland</th>\n",
              "      <th>...</th>\n",
              "      <th>cases_per_mil_cat_finland</th>\n",
              "      <th>cases_per_mil_cat_hong_kong</th>\n",
              "      <th>cases_per_mil_cat_indonesia</th>\n",
              "      <th>cases_per_mil_cat_india</th>\n",
              "      <th>cases_per_mil_cat_israel</th>\n",
              "      <th>cases_per_mil_cat_malaysia</th>\n",
              "      <th>cases_per_mil_cat_new_zealand</th>\n",
              "      <th>cases_per_mil_cat_singapore</th>\n",
              "      <th>cases_per_mil_cat_united_states</th>\n",
              "      <th>cases_per_mil_cat_south_africa</th>\n",
              "    </tr>\n",
              "  </thead>\n",
              "  <tbody>\n",
              "    <tr>\n",
              "      <th>0</th>\n",
              "      <td>0</td>\n",
              "      <td>3</td>\n",
              "      <td>2</td>\n",
              "      <td>1.0</td>\n",
              "      <td>2</td>\n",
              "      <td>1</td>\n",
              "      <td>5</td>\n",
              "      <td>2</td>\n",
              "      <td>1</td>\n",
              "      <td>2.0</td>\n",
              "      <td>...</td>\n",
              "      <td>1</td>\n",
              "      <td>0</td>\n",
              "      <td>1</td>\n",
              "      <td>1</td>\n",
              "      <td>5</td>\n",
              "      <td>3</td>\n",
              "      <td>0</td>\n",
              "      <td>1</td>\n",
              "      <td>6</td>\n",
              "      <td>2</td>\n",
              "    </tr>\n",
              "    <tr>\n",
              "      <th>1</th>\n",
              "      <td>0</td>\n",
              "      <td>2</td>\n",
              "      <td>2</td>\n",
              "      <td>0.0</td>\n",
              "      <td>2</td>\n",
              "      <td>3</td>\n",
              "      <td>4</td>\n",
              "      <td>2</td>\n",
              "      <td>2</td>\n",
              "      <td>3.0</td>\n",
              "      <td>...</td>\n",
              "      <td>1</td>\n",
              "      <td>0</td>\n",
              "      <td>0</td>\n",
              "      <td>1</td>\n",
              "      <td>4</td>\n",
              "      <td>1</td>\n",
              "      <td>0</td>\n",
              "      <td>1</td>\n",
              "      <td>4</td>\n",
              "      <td>1</td>\n",
              "    </tr>\n",
              "    <tr>\n",
              "      <th>2</th>\n",
              "      <td>0</td>\n",
              "      <td>3</td>\n",
              "      <td>1</td>\n",
              "      <td>1.0</td>\n",
              "      <td>2</td>\n",
              "      <td>0</td>\n",
              "      <td>5</td>\n",
              "      <td>2</td>\n",
              "      <td>1</td>\n",
              "      <td>2.0</td>\n",
              "      <td>...</td>\n",
              "      <td>4</td>\n",
              "      <td>0</td>\n",
              "      <td>1</td>\n",
              "      <td>1</td>\n",
              "      <td>6</td>\n",
              "      <td>4</td>\n",
              "      <td>0</td>\n",
              "      <td>3</td>\n",
              "      <td>6</td>\n",
              "      <td>3</td>\n",
              "    </tr>\n",
              "    <tr>\n",
              "      <th>3</th>\n",
              "      <td>0</td>\n",
              "      <td>3</td>\n",
              "      <td>2</td>\n",
              "      <td>1.0</td>\n",
              "      <td>2</td>\n",
              "      <td>1</td>\n",
              "      <td>5</td>\n",
              "      <td>2</td>\n",
              "      <td>1</td>\n",
              "      <td>2.0</td>\n",
              "      <td>...</td>\n",
              "      <td>1</td>\n",
              "      <td>0</td>\n",
              "      <td>1</td>\n",
              "      <td>1</td>\n",
              "      <td>5</td>\n",
              "      <td>3</td>\n",
              "      <td>0</td>\n",
              "      <td>1</td>\n",
              "      <td>5</td>\n",
              "      <td>2</td>\n",
              "    </tr>\n",
              "    <tr>\n",
              "      <th>4</th>\n",
              "      <td>0</td>\n",
              "      <td>2</td>\n",
              "      <td>2</td>\n",
              "      <td>0.0</td>\n",
              "      <td>2</td>\n",
              "      <td>1</td>\n",
              "      <td>4</td>\n",
              "      <td>2</td>\n",
              "      <td>2</td>\n",
              "      <td>3.0</td>\n",
              "      <td>...</td>\n",
              "      <td>1</td>\n",
              "      <td>0</td>\n",
              "      <td>0</td>\n",
              "      <td>0</td>\n",
              "      <td>4</td>\n",
              "      <td>1</td>\n",
              "      <td>0</td>\n",
              "      <td>1</td>\n",
              "      <td>4</td>\n",
              "      <td>1</td>\n",
              "    </tr>\n",
              "  </tbody>\n",
              "</table>\n",
              "<p>5 rows × 307 columns</p>\n",
              "</div>\n",
              "      <button class=\"colab-df-convert\" onclick=\"convertToInteractive('df-05e275e2-57ed-44f6-9568-96884aef152e')\"\n",
              "              title=\"Convert this dataframe to an interactive table.\"\n",
              "              style=\"display:none;\">\n",
              "        \n",
              "  <svg xmlns=\"http://www.w3.org/2000/svg\" height=\"24px\"viewBox=\"0 0 24 24\"\n",
              "       width=\"24px\">\n",
              "    <path d=\"M0 0h24v24H0V0z\" fill=\"none\"/>\n",
              "    <path d=\"M18.56 5.44l.94 2.06.94-2.06 2.06-.94-2.06-.94-.94-2.06-.94 2.06-2.06.94zm-11 1L8.5 8.5l.94-2.06 2.06-.94-2.06-.94L8.5 2.5l-.94 2.06-2.06.94zm10 10l.94 2.06.94-2.06 2.06-.94-2.06-.94-.94-2.06-.94 2.06-2.06.94z\"/><path d=\"M17.41 7.96l-1.37-1.37c-.4-.4-.92-.59-1.43-.59-.52 0-1.04.2-1.43.59L10.3 9.45l-7.72 7.72c-.78.78-.78 2.05 0 2.83L4 21.41c.39.39.9.59 1.41.59.51 0 1.02-.2 1.41-.59l7.78-7.78 2.81-2.81c.8-.78.8-2.07 0-2.86zM5.41 20L4 18.59l7.72-7.72 1.47 1.35L5.41 20z\"/>\n",
              "  </svg>\n",
              "      </button>\n",
              "      \n",
              "  <style>\n",
              "    .colab-df-container {\n",
              "      display:flex;\n",
              "      flex-wrap:wrap;\n",
              "      gap: 12px;\n",
              "    }\n",
              "\n",
              "    .colab-df-convert {\n",
              "      background-color: #E8F0FE;\n",
              "      border: none;\n",
              "      border-radius: 50%;\n",
              "      cursor: pointer;\n",
              "      display: none;\n",
              "      fill: #1967D2;\n",
              "      height: 32px;\n",
              "      padding: 0 0 0 0;\n",
              "      width: 32px;\n",
              "    }\n",
              "\n",
              "    .colab-df-convert:hover {\n",
              "      background-color: #E2EBFA;\n",
              "      box-shadow: 0px 1px 2px rgba(60, 64, 67, 0.3), 0px 1px 3px 1px rgba(60, 64, 67, 0.15);\n",
              "      fill: #174EA6;\n",
              "    }\n",
              "\n",
              "    [theme=dark] .colab-df-convert {\n",
              "      background-color: #3B4455;\n",
              "      fill: #D2E3FC;\n",
              "    }\n",
              "\n",
              "    [theme=dark] .colab-df-convert:hover {\n",
              "      background-color: #434B5C;\n",
              "      box-shadow: 0px 1px 3px 1px rgba(0, 0, 0, 0.15);\n",
              "      filter: drop-shadow(0px 1px 2px rgba(0, 0, 0, 0.3));\n",
              "      fill: #FFFFFF;\n",
              "    }\n",
              "  </style>\n",
              "\n",
              "      <script>\n",
              "        const buttonEl =\n",
              "          document.querySelector('#df-05e275e2-57ed-44f6-9568-96884aef152e button.colab-df-convert');\n",
              "        buttonEl.style.display =\n",
              "          google.colab.kernel.accessAllowed ? 'block' : 'none';\n",
              "\n",
              "        async function convertToInteractive(key) {\n",
              "          const element = document.querySelector('#df-05e275e2-57ed-44f6-9568-96884aef152e');\n",
              "          const dataTable =\n",
              "            await google.colab.kernel.invokeFunction('convertToInteractive',\n",
              "                                                     [key], {});\n",
              "          if (!dataTable) return;\n",
              "\n",
              "          const docLinkHtml = 'Like what you see? Visit the ' +\n",
              "            '<a target=\"_blank\" href=https://colab.research.google.com/notebooks/data_table.ipynb>data table notebook</a>'\n",
              "            + ' to learn more about interactive tables.';\n",
              "          element.innerHTML = '';\n",
              "          dataTable['output_type'] = 'display_data';\n",
              "          await google.colab.output.renderOutput(dataTable, element);\n",
              "          const docLink = document.createElement('div');\n",
              "          docLink.innerHTML = docLinkHtml;\n",
              "          element.appendChild(docLink);\n",
              "        }\n",
              "      </script>\n",
              "    </div>\n",
              "  </div>\n",
              "  "
            ]
          },
          "metadata": {},
          "execution_count": 23
        }
      ]
    },
    {
      "cell_type": "code",
      "source": [
        "test_df = pd.read_csv(\"data/test_18_countries.csv\")\n",
        "print(test_df.shape)\n",
        "test_df.head()"
      ],
      "metadata": {
        "colab": {
          "base_uri": "https://localhost:8080/",
          "height": 305
        },
        "id": "rVEXaOb5XvJZ",
        "outputId": "5f962941-665c-4b42-f8dd-ed5c9f0d6de6"
      },
      "execution_count": 29,
      "outputs": [
        {
          "output_type": "stream",
          "name": "stdout",
          "text": [
            "(165, 307)\n"
          ]
        },
        {
          "output_type": "execute_result",
          "data": {
            "text/plain": [
              "   deaths_per_mil_cat_india  facial_covering_new_zealand  \\\n",
              "0                         0                            3   \n",
              "1                         0                            3   \n",
              "2                         0                            2   \n",
              "3                         0                            3   \n",
              "4                         0                            0   \n",
              "\n",
              "   cancel_public_events_argentina  debt_relief_india  \\\n",
              "0                               1                  1   \n",
              "1                               2                  1   \n",
              "2                               2                  2   \n",
              "3                               2                  1   \n",
              "4                               2                  2   \n",
              "\n",
              "   income_support_singapore  school_closures_argentina  vaccine_policy_china  \\\n",
              "0                         2                          0                     5   \n",
              "1                         2                          1                     5   \n",
              "2                         2                          3                     0   \n",
              "3                         2                          1                     5   \n",
              "4                         2                          3                     0   \n",
              "\n",
              "   restriction_internal_movement_indonesia  workplace_closures_finland  \\\n",
              "0                                        2                           1   \n",
              "1                                        2                           1   \n",
              "2                                        2                           1   \n",
              "3                                        2                           1   \n",
              "4                                        1                           1   \n",
              "\n",
              "   internation_travel_control_finland  ...  cases_per_mil_cat_finland  \\\n",
              "0                                   2  ...                          4   \n",
              "1                                   2  ...                          1   \n",
              "2                                   3  ...                          0   \n",
              "3                                   2  ...                          1   \n",
              "4                                   3  ...                          0   \n",
              "\n",
              "   cases_per_mil_cat_hong_kong  cases_per_mil_cat_indonesia  \\\n",
              "0                            0                            1   \n",
              "1                            0                            1   \n",
              "2                            0                            0   \n",
              "3                            0                            1   \n",
              "4                            0                            0   \n",
              "\n",
              "   cases_per_mil_cat_india  cases_per_mil_cat_israel  \\\n",
              "0                        1                         6   \n",
              "1                        1                         6   \n",
              "2                        0                         1   \n",
              "3                        1                         5   \n",
              "4                        0                         0   \n",
              "\n",
              "   cases_per_mil_cat_malaysia  cases_per_mil_cat_new_zealand  \\\n",
              "0                           4                              0   \n",
              "1                           3                              0   \n",
              "2                           0                              0   \n",
              "3                           3                              0   \n",
              "4                           0                              0   \n",
              "\n",
              "   cases_per_mil_cat_singapore  cases_per_mil_cat_united_states  \\\n",
              "0                            3                                6   \n",
              "1                            1                                6   \n",
              "2                            1                                1   \n",
              "3                            1                                5   \n",
              "4                            0                                1   \n",
              "\n",
              "   cases_per_mil_cat_south_africa  \n",
              "0                               3  \n",
              "1                               2  \n",
              "2                               1  \n",
              "3                               2  \n",
              "4                               0  \n",
              "\n",
              "[5 rows x 307 columns]"
            ],
            "text/html": [
              "\n",
              "  <div id=\"df-14f362dc-13a4-4c47-a98b-7e459e2ac2e4\">\n",
              "    <div class=\"colab-df-container\">\n",
              "      <div>\n",
              "<style scoped>\n",
              "    .dataframe tbody tr th:only-of-type {\n",
              "        vertical-align: middle;\n",
              "    }\n",
              "\n",
              "    .dataframe tbody tr th {\n",
              "        vertical-align: top;\n",
              "    }\n",
              "\n",
              "    .dataframe thead th {\n",
              "        text-align: right;\n",
              "    }\n",
              "</style>\n",
              "<table border=\"1\" class=\"dataframe\">\n",
              "  <thead>\n",
              "    <tr style=\"text-align: right;\">\n",
              "      <th></th>\n",
              "      <th>deaths_per_mil_cat_india</th>\n",
              "      <th>facial_covering_new_zealand</th>\n",
              "      <th>cancel_public_events_argentina</th>\n",
              "      <th>debt_relief_india</th>\n",
              "      <th>income_support_singapore</th>\n",
              "      <th>school_closures_argentina</th>\n",
              "      <th>vaccine_policy_china</th>\n",
              "      <th>restriction_internal_movement_indonesia</th>\n",
              "      <th>workplace_closures_finland</th>\n",
              "      <th>internation_travel_control_finland</th>\n",
              "      <th>...</th>\n",
              "      <th>cases_per_mil_cat_finland</th>\n",
              "      <th>cases_per_mil_cat_hong_kong</th>\n",
              "      <th>cases_per_mil_cat_indonesia</th>\n",
              "      <th>cases_per_mil_cat_india</th>\n",
              "      <th>cases_per_mil_cat_israel</th>\n",
              "      <th>cases_per_mil_cat_malaysia</th>\n",
              "      <th>cases_per_mil_cat_new_zealand</th>\n",
              "      <th>cases_per_mil_cat_singapore</th>\n",
              "      <th>cases_per_mil_cat_united_states</th>\n",
              "      <th>cases_per_mil_cat_south_africa</th>\n",
              "    </tr>\n",
              "  </thead>\n",
              "  <tbody>\n",
              "    <tr>\n",
              "      <th>0</th>\n",
              "      <td>0</td>\n",
              "      <td>3</td>\n",
              "      <td>1</td>\n",
              "      <td>1</td>\n",
              "      <td>2</td>\n",
              "      <td>0</td>\n",
              "      <td>5</td>\n",
              "      <td>2</td>\n",
              "      <td>1</td>\n",
              "      <td>2</td>\n",
              "      <td>...</td>\n",
              "      <td>4</td>\n",
              "      <td>0</td>\n",
              "      <td>1</td>\n",
              "      <td>1</td>\n",
              "      <td>6</td>\n",
              "      <td>4</td>\n",
              "      <td>0</td>\n",
              "      <td>3</td>\n",
              "      <td>6</td>\n",
              "      <td>3</td>\n",
              "    </tr>\n",
              "    <tr>\n",
              "      <th>1</th>\n",
              "      <td>0</td>\n",
              "      <td>3</td>\n",
              "      <td>2</td>\n",
              "      <td>1</td>\n",
              "      <td>2</td>\n",
              "      <td>1</td>\n",
              "      <td>5</td>\n",
              "      <td>2</td>\n",
              "      <td>1</td>\n",
              "      <td>2</td>\n",
              "      <td>...</td>\n",
              "      <td>1</td>\n",
              "      <td>0</td>\n",
              "      <td>1</td>\n",
              "      <td>1</td>\n",
              "      <td>6</td>\n",
              "      <td>3</td>\n",
              "      <td>0</td>\n",
              "      <td>1</td>\n",
              "      <td>6</td>\n",
              "      <td>2</td>\n",
              "    </tr>\n",
              "    <tr>\n",
              "      <th>2</th>\n",
              "      <td>0</td>\n",
              "      <td>2</td>\n",
              "      <td>2</td>\n",
              "      <td>2</td>\n",
              "      <td>2</td>\n",
              "      <td>3</td>\n",
              "      <td>0</td>\n",
              "      <td>2</td>\n",
              "      <td>1</td>\n",
              "      <td>3</td>\n",
              "      <td>...</td>\n",
              "      <td>0</td>\n",
              "      <td>0</td>\n",
              "      <td>0</td>\n",
              "      <td>0</td>\n",
              "      <td>1</td>\n",
              "      <td>0</td>\n",
              "      <td>0</td>\n",
              "      <td>1</td>\n",
              "      <td>1</td>\n",
              "      <td>1</td>\n",
              "    </tr>\n",
              "    <tr>\n",
              "      <th>3</th>\n",
              "      <td>0</td>\n",
              "      <td>3</td>\n",
              "      <td>2</td>\n",
              "      <td>1</td>\n",
              "      <td>2</td>\n",
              "      <td>1</td>\n",
              "      <td>5</td>\n",
              "      <td>2</td>\n",
              "      <td>1</td>\n",
              "      <td>2</td>\n",
              "      <td>...</td>\n",
              "      <td>1</td>\n",
              "      <td>0</td>\n",
              "      <td>1</td>\n",
              "      <td>1</td>\n",
              "      <td>5</td>\n",
              "      <td>3</td>\n",
              "      <td>0</td>\n",
              "      <td>1</td>\n",
              "      <td>5</td>\n",
              "      <td>2</td>\n",
              "    </tr>\n",
              "    <tr>\n",
              "      <th>4</th>\n",
              "      <td>0</td>\n",
              "      <td>0</td>\n",
              "      <td>2</td>\n",
              "      <td>2</td>\n",
              "      <td>2</td>\n",
              "      <td>3</td>\n",
              "      <td>0</td>\n",
              "      <td>1</td>\n",
              "      <td>1</td>\n",
              "      <td>3</td>\n",
              "      <td>...</td>\n",
              "      <td>0</td>\n",
              "      <td>0</td>\n",
              "      <td>0</td>\n",
              "      <td>0</td>\n",
              "      <td>0</td>\n",
              "      <td>0</td>\n",
              "      <td>0</td>\n",
              "      <td>0</td>\n",
              "      <td>1</td>\n",
              "      <td>0</td>\n",
              "    </tr>\n",
              "  </tbody>\n",
              "</table>\n",
              "<p>5 rows × 307 columns</p>\n",
              "</div>\n",
              "      <button class=\"colab-df-convert\" onclick=\"convertToInteractive('df-14f362dc-13a4-4c47-a98b-7e459e2ac2e4')\"\n",
              "              title=\"Convert this dataframe to an interactive table.\"\n",
              "              style=\"display:none;\">\n",
              "        \n",
              "  <svg xmlns=\"http://www.w3.org/2000/svg\" height=\"24px\"viewBox=\"0 0 24 24\"\n",
              "       width=\"24px\">\n",
              "    <path d=\"M0 0h24v24H0V0z\" fill=\"none\"/>\n",
              "    <path d=\"M18.56 5.44l.94 2.06.94-2.06 2.06-.94-2.06-.94-.94-2.06-.94 2.06-2.06.94zm-11 1L8.5 8.5l.94-2.06 2.06-.94-2.06-.94L8.5 2.5l-.94 2.06-2.06.94zm10 10l.94 2.06.94-2.06 2.06-.94-2.06-.94-.94-2.06-.94 2.06-2.06.94z\"/><path d=\"M17.41 7.96l-1.37-1.37c-.4-.4-.92-.59-1.43-.59-.52 0-1.04.2-1.43.59L10.3 9.45l-7.72 7.72c-.78.78-.78 2.05 0 2.83L4 21.41c.39.39.9.59 1.41.59.51 0 1.02-.2 1.41-.59l7.78-7.78 2.81-2.81c.8-.78.8-2.07 0-2.86zM5.41 20L4 18.59l7.72-7.72 1.47 1.35L5.41 20z\"/>\n",
              "  </svg>\n",
              "      </button>\n",
              "      \n",
              "  <style>\n",
              "    .colab-df-container {\n",
              "      display:flex;\n",
              "      flex-wrap:wrap;\n",
              "      gap: 12px;\n",
              "    }\n",
              "\n",
              "    .colab-df-convert {\n",
              "      background-color: #E8F0FE;\n",
              "      border: none;\n",
              "      border-radius: 50%;\n",
              "      cursor: pointer;\n",
              "      display: none;\n",
              "      fill: #1967D2;\n",
              "      height: 32px;\n",
              "      padding: 0 0 0 0;\n",
              "      width: 32px;\n",
              "    }\n",
              "\n",
              "    .colab-df-convert:hover {\n",
              "      background-color: #E2EBFA;\n",
              "      box-shadow: 0px 1px 2px rgba(60, 64, 67, 0.3), 0px 1px 3px 1px rgba(60, 64, 67, 0.15);\n",
              "      fill: #174EA6;\n",
              "    }\n",
              "\n",
              "    [theme=dark] .colab-df-convert {\n",
              "      background-color: #3B4455;\n",
              "      fill: #D2E3FC;\n",
              "    }\n",
              "\n",
              "    [theme=dark] .colab-df-convert:hover {\n",
              "      background-color: #434B5C;\n",
              "      box-shadow: 0px 1px 3px 1px rgba(0, 0, 0, 0.15);\n",
              "      filter: drop-shadow(0px 1px 2px rgba(0, 0, 0, 0.3));\n",
              "      fill: #FFFFFF;\n",
              "    }\n",
              "  </style>\n",
              "\n",
              "      <script>\n",
              "        const buttonEl =\n",
              "          document.querySelector('#df-14f362dc-13a4-4c47-a98b-7e459e2ac2e4 button.colab-df-convert');\n",
              "        buttonEl.style.display =\n",
              "          google.colab.kernel.accessAllowed ? 'block' : 'none';\n",
              "\n",
              "        async function convertToInteractive(key) {\n",
              "          const element = document.querySelector('#df-14f362dc-13a4-4c47-a98b-7e459e2ac2e4');\n",
              "          const dataTable =\n",
              "            await google.colab.kernel.invokeFunction('convertToInteractive',\n",
              "                                                     [key], {});\n",
              "          if (!dataTable) return;\n",
              "\n",
              "          const docLinkHtml = 'Like what you see? Visit the ' +\n",
              "            '<a target=\"_blank\" href=https://colab.research.google.com/notebooks/data_table.ipynb>data table notebook</a>'\n",
              "            + ' to learn more about interactive tables.';\n",
              "          element.innerHTML = '';\n",
              "          dataTable['output_type'] = 'display_data';\n",
              "          await google.colab.output.renderOutput(dataTable, element);\n",
              "          const docLink = document.createElement('div');\n",
              "          docLink.innerHTML = docLinkHtml;\n",
              "          element.appendChild(docLink);\n",
              "        }\n",
              "      </script>\n",
              "    </div>\n",
              "  </div>\n",
              "  "
            ]
          },
          "metadata": {},
          "execution_count": 29
        }
      ]
    },
    {
      "cell_type": "code",
      "source": [
        "test_df = test_df.astype(int)"
      ],
      "metadata": {
        "id": "e1LLASgUaVFp"
      },
      "execution_count": 26,
      "outputs": []
    },
    {
      "cell_type": "markdown",
      "source": [
        "**Split by countries**"
      ],
      "metadata": {
        "id": "5hRObAQ_go8Z"
      }
    },
    {
      "cell_type": "code",
      "source": [
        "countries = [\n",
        "    \"singapore\",\n",
        "    \"china\",\n",
        "    \"malaysia\",\n",
        "    \"indonesia\",\n",
        "    \"hong_kong\",\n",
        "    \"australia\",\n",
        "    \"new_zealand\",\n",
        "    \"united_states\",\n",
        "    \"canada\",\n",
        "    \"argentina\",\n",
        "    \"brazil\",\n",
        "    \"south_africa\",\n",
        "    \"egypt\",\n",
        "    \"germany\",\n",
        "    \"finland\",\n",
        "    \"switzerland\",\n",
        "    \"israel\",\n",
        "    \"india\"\n",
        "]"
      ],
      "metadata": {
        "id": "BDyg_tvCkOyT"
      },
      "execution_count": 39,
      "outputs": []
    },
    {
      "cell_type": "code",
      "source": [
        "dfs = {}"
      ],
      "metadata": {
        "id": "xWGMXWlciQXn"
      },
      "execution_count": 41,
      "outputs": []
    },
    {
      "cell_type": "code",
      "source": [
        "import regex as re\n",
        "for country in countries:\n",
        "  pattern = \"country$\"\n",
        "  my_regex = re.escape(country) + r\"$\"\n",
        "  dfs[country] = test_df.filter(regex=(my_regex))"
      ],
      "metadata": {
        "id": "dkTFczz2l1rY"
      },
      "execution_count": 53,
      "outputs": []
    },
    {
      "cell_type": "code",
      "source": [
        "from pgmpy.inference import VariableElimination\n",
        "ve = VariableElimination(model)"
      ],
      "metadata": {
        "colab": {
          "base_uri": "https://localhost:8080/"
        },
        "id": "Ph2z0iVfX4OG",
        "outputId": "d127d511-5e69-43a3-9734-386a2ba3c9a8"
      },
      "execution_count": 17,
      "outputs": [
        {
          "output_type": "stream",
          "name": "stderr",
          "text": [
            "/usr/local/lib/python3.7/dist-packages/statsmodels/tools/_testing.py:19: FutureWarning: pandas.util.testing is deprecated. Use the functions in the public API at pandas.testing instead.\n",
            "  import pandas.util.testing as tm\n"
          ]
        }
      ]
    },
    {
      "cell_type": "code",
      "source": [
        "import networkx as nx\n",
        "import matplotlib.pyplot as plt\n",
        "fig, ax = plt.subplots(1,1, figsize=(80,80))\n",
        "nx.draw(model, with_labels=True, ax=ax)\n",
        "plt.tight_layout()"
      ],
      "metadata": {
        "id": "Q2osmewFX8IX"
      },
      "execution_count": null,
      "outputs": []
    },
    {
      "cell_type": "code",
      "source": [
        "pred_list = {}\n",
        "for country in countries:\n",
        "  preds = []\n",
        "  deaths_per_mil_cat_country = 'deaths_per_mil_cat_'+country\n",
        "  cases_per_mil_cat_country = 'cases_per_mil_cat_'+country\n",
        "\n",
        "  for idx, row in dfs[country].drop([deaths_per_mil_cat_country, cases_per_mil_cat_country], axis = 1).iterrows():\n",
        "    evidence = row.to_dict()\n",
        "    res = ve.query(\n",
        "          [cases_per_mil_cat_country], evidence=evidence, show_progress=False\n",
        "      )\n",
        "    ans_dict = {}\n",
        "    for key, val in zip(res.state_names[res.variables[0]], res.values):\n",
        "      ans_dict[key] = val\n",
        "    max_val = max(ans_dict, key=ans_dict.get)\n",
        "    preds.append(max_val)\n",
        "  pred_list[country] = preds"
      ],
      "metadata": {
        "colab": {
          "base_uri": "https://localhost:8080/"
        },
        "id": "2HkFHHvexKyn",
        "outputId": "a2aa950f-c06a-4a39-e027-a0b8f75e6771"
      },
      "execution_count": 68,
      "outputs": [
        {
          "output_type": "stream",
          "name": "stderr",
          "text": [
            "/usr/local/lib/python3.7/dist-packages/pgmpy/factors/discrete/DiscreteFactor.py:537: UserWarning: Found unknown state name. Trying to switch to using all state names as state numbers\n",
            "  UserWarning,\n",
            "/usr/local/lib/python3.7/dist-packages/pgmpy/factors/discrete/DiscreteFactor.py:472: RuntimeWarning: invalid value encountered in true_divide\n",
            "  phi.values = phi.values / phi.values.sum()\n"
          ]
        }
      ]
    },
    {
      "cell_type": "code",
      "source": [
        "predictions_list = {}\n",
        "for country in countries:\n",
        "  predictions = []\n",
        "  for t in pred_list[country]:\n",
        "    predictions.append(t)\n",
        "  cases_per_mil_cat_country = 'cases_per_mil_cat_'+country\n",
        "  preds_df = pd.DataFrame(predictions, columns = [cases_per_mil_cat_country])\n",
        "  predictions_list[country] = preds_df"
      ],
      "metadata": {
        "id": "_v1HECOvynGq"
      },
      "execution_count": 70,
      "outputs": []
    },
    {
      "cell_type": "code",
      "source": [
        "scores = {}\n",
        "for country in countries:\n",
        "  preds_df = predictions_list[country]\n",
        "  cases_per_mil_cat_country = 'cases_per_mil_cat_'+country\n",
        "  actual_df = test_df[cases_per_mil_cat_country]\n",
        "  score = f1_score(actual_df, preds_df, average='micro')\n",
        "  scores[country] = score"
      ],
      "metadata": {
        "id": "r45C4LJfzLom"
      },
      "execution_count": 71,
      "outputs": []
    },
    {
      "cell_type": "code",
      "source": [
        "scores"
      ],
      "metadata": {
        "colab": {
          "base_uri": "https://localhost:8080/"
        },
        "id": "YY7D1K6LzwaS",
        "outputId": "5bc4978d-534f-438c-d516-cc78354a42b5"
      },
      "execution_count": 72,
      "outputs": [
        {
          "output_type": "execute_result",
          "data": {
            "text/plain": [
              "{'argentina': 0.8424242424242424,\n",
              " 'australia': 0.9393939393939394,\n",
              " 'brazil': 0.8000000000000002,\n",
              " 'canada': 0.8848484848484849,\n",
              " 'china': 1.0,\n",
              " 'egypt': 1.0,\n",
              " 'finland': 0.9333333333333333,\n",
              " 'germany': 0.9090909090909091,\n",
              " 'hong_kong': 1.0,\n",
              " 'india': 0.9515151515151515,\n",
              " 'indonesia': 0.9212121212121213,\n",
              " 'israel': 0.9515151515151515,\n",
              " 'malaysia': 0.8787878787878788,\n",
              " 'new_zealand': 1.0,\n",
              " 'singapore': 0.7090909090909091,\n",
              " 'south_africa': 0.9030303030303031,\n",
              " 'switzerland': 0.7515151515151516,\n",
              " 'united_states': 0.8727272727272727}"
            ]
          },
          "metadata": {},
          "execution_count": 72
        }
      ]
    },
    {
      "cell_type": "code",
      "source": [
        "pred_list = {}\n",
        "for country in countries:\n",
        "  preds = []\n",
        "  deaths_per_mil_cat_country = 'deaths_per_mil_cat_'+country\n",
        "  cases_per_mil_cat_country = 'cases_per_mil_cat_'+country\n",
        "\n",
        "  for idx, row in dfs[country].drop([deaths_per_mil_cat_country, cases_per_mil_cat_country], axis = 1).iterrows():\n",
        "    evidence = row.to_dict()\n",
        "    res = ve.query(\n",
        "          [deaths_per_mil_cat_country], evidence=evidence, show_progress=False\n",
        "      )\n",
        "    ans_dict = {}\n",
        "    for key, val in zip(res.state_names[res.variables[0]], res.values):\n",
        "      ans_dict[key] = val\n",
        "    max_val = max(ans_dict, key=ans_dict.get)\n",
        "    preds.append(max_val)\n",
        "  pred_list[country] = preds"
      ],
      "metadata": {
        "colab": {
          "base_uri": "https://localhost:8080/"
        },
        "id": "QwKGaLEJ2TK2",
        "outputId": "14e235e6-854b-4925-e8df-959affbfe8b5"
      },
      "execution_count": 73,
      "outputs": [
        {
          "output_type": "stream",
          "name": "stderr",
          "text": [
            "/usr/local/lib/python3.7/dist-packages/pgmpy/factors/discrete/DiscreteFactor.py:537: UserWarning: Found unknown state name. Trying to switch to using all state names as state numbers\n",
            "  UserWarning,\n",
            "/usr/local/lib/python3.7/dist-packages/pgmpy/factors/discrete/DiscreteFactor.py:472: RuntimeWarning: invalid value encountered in true_divide\n",
            "  phi.values = phi.values / phi.values.sum()\n"
          ]
        }
      ]
    },
    {
      "cell_type": "code",
      "source": [
        "predictions_list = {}\n",
        "for country in countries:\n",
        "  predictions = []\n",
        "  for t in pred_list[country]:\n",
        "    predictions.append(t)\n",
        "  deaths_per_mil_cat_country = 'deaths_per_mil_cat_'+country\n",
        "  preds_df = pd.DataFrame(predictions, columns = [deaths_per_mil_cat_country])\n",
        "  predictions_list[country] = preds_df"
      ],
      "metadata": {
        "id": "f2Oheemo2dsT"
      },
      "execution_count": 74,
      "outputs": []
    },
    {
      "cell_type": "code",
      "source": [
        "scores = {}\n",
        "for country in countries:\n",
        "  preds_df = predictions_list[country]\n",
        "  deaths_per_mil_cat_country = 'deaths_per_mil_cat_'+country\n",
        "  actual_df = test_df[deaths_per_mil_cat_country]\n",
        "  score = f1_score(actual_df, preds_df, average='micro')\n",
        "  scores[country] = score"
      ],
      "metadata": {
        "id": "xkv9mQ_12nRF"
      },
      "execution_count": 75,
      "outputs": []
    },
    {
      "cell_type": "code",
      "source": [
        "scores"
      ],
      "metadata": {
        "colab": {
          "base_uri": "https://localhost:8080/"
        },
        "id": "ZDcaHATS2u-i",
        "outputId": "5a74317f-72a0-462a-f560-c7c3965ae335"
      },
      "execution_count": 76,
      "outputs": [
        {
          "output_type": "execute_result",
          "data": {
            "text/plain": [
              "{'argentina': 1.0,\n",
              " 'australia': 1.0,\n",
              " 'brazil': 1.0,\n",
              " 'canada': 1.0,\n",
              " 'china': 1.0,\n",
              " 'egypt': 1.0,\n",
              " 'finland': 1.0,\n",
              " 'germany': 1.0,\n",
              " 'hong_kong': 1.0,\n",
              " 'india': 1.0,\n",
              " 'indonesia': 1.0,\n",
              " 'israel': 1.0,\n",
              " 'malaysia': 1.0,\n",
              " 'new_zealand': 1.0,\n",
              " 'singapore': 1.0,\n",
              " 'south_africa': 1.0,\n",
              " 'switzerland': 1.0,\n",
              " 'united_states': 1.0}"
            ]
          },
          "metadata": {},
          "execution_count": 76
        }
      ]
    }
  ]
}