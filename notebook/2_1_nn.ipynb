{
 "cells": [
  {
   "cell_type": "code",
   "execution_count": null,
   "id": "35f42b90-ac49-4ea4-9ba4-7ae25d37357f",
   "metadata": {},
   "outputs": [],
   "source": [
    "from turtle import forward\n",
    "\n",
    "import torch\n",
    "\n",
    "import torch.nn.functional as F\n",
    "import pandas as pd\n",
    "from torch import nn\n",
    "from sklearn.preprocessing import OneHotEncoder\n",
    "\n",
    "from sklearn.metrics import classification_report, accuracy_score\n"
   ]
  },
  {
   "cell_type": "code",
   "execution_count": 1,
   "id": "283551c8-3257-479f-9282-c19273e9f91b",
   "metadata": {
    "execution": {
     "iopub.execute_input": "2022-04-21T16:13:52.775384Z",
     "iopub.status.busy": "2022-04-21T16:13:52.774856Z",
     "iopub.status.idle": "2022-04-21T16:13:56.126315Z",
     "shell.execute_reply": "2022-04-21T16:13:56.125483Z",
     "shell.execute_reply.started": "2022-04-21T16:13:52.775278Z"
    },
    "tags": []
   },
   "outputs": [],
   "source": [
    "class Main_Model(nn.Module):\n",
    "    def __init__(self):\n",
    "        super().__init__()\n",
    "        self.model = nn.Sequential(\n",
    "            nn.Linear(306, 200),\n",
    "            nn.ReLU(),\n",
    "            nn.Linear(200, 100),\n",
    "            nn.ReLU(),\n",
    "            nn.Linear(100, 50),\n",
    "            nn.ReLU(),\n",
    "            nn.Linear(50, 7)\n",
    "        )\n",
    "\n",
    "    def forward(self, x):\n",
    "        return self.model(x)"
   ]
  },
  {
   "cell_type": "code",
   "execution_count": 2,
   "id": "f18f8772-cb95-4e6f-8a46-e7088999fd56",
   "metadata": {
    "execution": {
     "iopub.execute_input": "2022-04-21T16:13:56.128745Z",
     "iopub.status.busy": "2022-04-21T16:13:56.127653Z",
     "iopub.status.idle": "2022-04-21T16:13:56.404076Z",
     "shell.execute_reply": "2022-04-21T16:13:56.403150Z",
     "shell.execute_reply.started": "2022-04-21T16:13:56.128682Z"
    },
    "tags": []
   },
   "outputs": [],
   "source": [
    "data_train = pd.read_csv(\"../data/processed/train_18_countries.csv\")\n",
    "data_test = pd.read_csv(\"../data/processed/test_18_countries.csv\")\n",
    "country = \"united_states\"\n",
    "Y = data_train[\"cases_per_mil_cat_\" + country]\n",
    "data_train = data_train.drop(\"cases_per_mil_cat_\" + country, axis=1)\n",
    "\n",
    "\n",
    "X_train = data_train.iloc[:, :]\n",
    "Y = torch.tensor(Y)\n",
    "\n",
    "Y = F.one_hot(Y, 7)\n",
    "Y = Y.type(torch.DoubleTensor)\n",
    "X = torch.Tensor(data_train.values)\n",
    "\n",
    "model = Main_Model()\n",
    "optimizer = torch.optim.SGD(model.parameters(), lr=0.0001)\n",
    "batch_size = 32\n",
    "loss_fn = nn.CrossEntropyLoss()"
   ]
  },
  {
   "cell_type": "code",
   "execution_count": 11,
   "id": "c14ce453-2644-4836-a9e7-60ad2aaeca23",
   "metadata": {
    "execution": {
     "iopub.execute_input": "2022-04-22T05:36:41.376650Z",
     "iopub.status.busy": "2022-04-22T05:36:41.376331Z",
     "iopub.status.idle": "2022-04-22T05:36:41.400408Z",
     "shell.execute_reply": "2022-04-22T05:36:41.398921Z",
     "shell.execute_reply.started": "2022-04-22T05:36:41.376612Z"
    },
    "tags": []
   },
   "outputs": [
    {
     "data": {
      "text/plain": [
       "(495, 306)"
      ]
     },
     "execution_count": 11,
     "metadata": {},
     "output_type": "execute_result"
    }
   ],
   "source": [
    "data_train.shape"
   ]
  },
  {
   "cell_type": "code",
   "execution_count": 3,
   "id": "afc1e5fd-61cd-4739-9f43-85f5e37c8849",
   "metadata": {
    "execution": {
     "iopub.execute_input": "2022-04-21T16:13:56.406845Z",
     "iopub.status.busy": "2022-04-21T16:13:56.406485Z",
     "iopub.status.idle": "2022-04-21T16:14:13.749541Z",
     "shell.execute_reply": "2022-04-21T16:14:13.748913Z",
     "shell.execute_reply.started": "2022-04-21T16:13:56.406817Z"
    },
    "tags": []
   },
   "outputs": [],
   "source": [
    "losses = []\n",
    "for i in range(0, 1000):\n",
    "    loss_final = 0\n",
    "    for j in range(0, len(X), batch_size):\n",
    "        X_batch = X[j : j + batch_size]\n",
    "        Y_batch = Y[j : j + batch_size]\n",
    "        output = model.forward(X_batch)\n",
    "        loss = loss_fn(output, torch.argmax(Y_batch, dim=1))\n",
    "        loss_final += loss\n",
    "        optimizer.zero_grad()\n",
    "        loss.backward()\n",
    "        optimizer.step()\n",
    "    losses.append(loss_final.item())"
   ]
  },
  {
   "cell_type": "code",
   "execution_count": 4,
   "id": "9a58e7ee-53bd-4c50-a468-c765891a1570",
   "metadata": {
    "execution": {
     "iopub.execute_input": "2022-04-21T16:14:13.750771Z",
     "iopub.status.busy": "2022-04-21T16:14:13.750567Z",
     "iopub.status.idle": "2022-04-21T16:14:14.241142Z",
     "shell.execute_reply": "2022-04-21T16:14:14.240375Z",
     "shell.execute_reply.started": "2022-04-21T16:14:13.750748Z"
    },
    "tags": []
   },
   "outputs": [
    {
     "data": {
      "text/plain": [
       "<AxesSubplot:>"
      ]
     },
     "execution_count": 4,
     "metadata": {},
     "output_type": "execute_result"
    },
    {
     "data": {
      "image/png": "[encoded data removed]",
      "text/plain": [
       "<Figure size 432x288 with 1 Axes>"
      ]
     },
     "metadata": {
      "needs_background": "light"
     },
     "output_type": "display_data"
    }
   ],
   "source": [
    "pd.DataFrame(losses).plot()"
   ]
  },
  {
   "cell_type": "code",
   "execution_count": 6,
   "id": "a75c6d47-c87a-488d-a89a-64446ce02aa2",
   "metadata": {
    "execution": {
     "iopub.execute_input": "2022-04-21T16:14:27.015199Z",
     "iopub.status.busy": "2022-04-21T16:14:27.014904Z",
     "iopub.status.idle": "2022-04-21T16:14:27.034285Z",
     "shell.execute_reply": "2022-04-21T16:14:27.033570Z",
     "shell.execute_reply.started": "2022-04-21T16:14:27.015173Z"
    },
    "tags": []
   },
   "outputs": [
    {
     "name": "stdout",
     "output_type": "stream",
     "text": [
      "Accuracy Score 0.7515151515151515\n"
     ]
    }
   ],
   "source": [
    "model.eval()\n",
    "Y_test = data_test[\"cases_per_mil_cat_\" + country]\n",
    "X_test = data_test.drop([\"cases_per_mil_cat_\" + country], axis=1)\n",
    "\n",
    "X_test = torch.Tensor(X_test.values)\n",
    "\n",
    "\n",
    "pred = model.forward(X_test)\n",
    "\n",
    "final_pred = torch.argmax(pred, dim=-1)\n",
    "\n",
    "\n",
    "print(\"Accuracy Score\", accuracy_score(final_pred, Y_test))\n",
    "\n",
    "# print(classification_report(final_pred , Y_test))\n",
    "\n",
    "\n",
    "# torch.save(model.state_dict() , \"model.pt\")"
   ]
  },
  {
   "cell_type": "code",
   "execution_count": 7,
   "id": "ddaf50cb-2831-4828-af57-45a7fef95b83",
   "metadata": {
    "execution": {
     "iopub.execute_input": "2022-04-21T16:14:28.152464Z",
     "iopub.status.busy": "2022-04-21T16:14:28.152203Z",
     "iopub.status.idle": "2022-04-21T16:14:28.171952Z",
     "shell.execute_reply": "2022-04-21T16:14:28.170854Z",
     "shell.execute_reply.started": "2022-04-21T16:14:28.152438Z"
    },
    "tags": []
   },
   "outputs": [
    {
     "name": "stdout",
     "output_type": "stream",
     "text": [
      "              precision    recall  f1-score   support\n",
      "\n",
      "           0       0.00      0.00      0.00         0\n",
      "           1       1.00      0.50      0.67        66\n",
      "           2       0.00      0.00      0.00         0\n",
      "           3       0.00      0.00      0.00         0\n",
      "           4       0.92      0.90      0.91        39\n",
      "           5       0.94      0.83      0.88        18\n",
      "           6       1.00      0.98      0.99        42\n",
      "\n",
      "    accuracy                           0.75       165\n",
      "   macro avg       0.55      0.46      0.49       165\n",
      "weighted avg       0.97      0.75      0.83       165\n",
      "\n"
     ]
    }
   ],
   "source": [
    "print(classification_report(final_pred, Y_test, zero_division=False))"
   ]
  },
  {
   "cell_type": "code",
   "execution_count": 8,
   "id": "3e8e53ca-9a81-4d85-a5c0-eaf02c50c4e1",
   "metadata": {
    "execution": {
     "iopub.execute_input": "2022-04-21T16:14:36.278750Z",
     "iopub.status.busy": "2022-04-21T16:14:36.278468Z",
     "iopub.status.idle": "2022-04-21T16:14:36.301852Z",
     "shell.execute_reply": "2022-04-21T16:14:36.301094Z",
     "shell.execute_reply.started": "2022-04-21T16:14:36.278724Z"
    },
    "tags": []
   },
   "outputs": [
    {
     "data": {
      "text/plain": [
       "{'accuracy': 0.7515151515151515,\n",
       " 'f1': 0.6737522769737189,\n",
       " 'recall': 0.7515151515151515}"
      ]
     },
     "execution_count": 8,
     "metadata": {},
     "output_type": "execute_result"
    }
   ],
   "source": [
    "from sklearn.metrics import f1_score, recall_score\n",
    "\n",
    "\n",
    "def compute_evaluation_metrics(y_true, y_pred):\n",
    "    return {\n",
    "        \"accuracy\": accuracy_score(y_true, y_pred),\n",
    "        \"f1\": f1_score(y_true, y_pred, average=\"weighted\"),\n",
    "        \"recall\": recall_score(y_true, y_pred, average=\"weighted\"),\n",
    "    }\n",
    "\n",
    "\n",
    "compute_evaluation_metrics(Y_test, final_pred)"
   ]
  }
 ],
 "metadata": {
  "kernelspec": {
   "display_name": "Py3 (deeplearn_course)",
   "language": "python",
   "name": "deeplearn_course"
  },
  "language_info": {
   "codemirror_mode": {
    "name": "ipython",
    "version": 3
   },
   "file_extension": ".py",
   "mimetype": "text/x-python",
   "name": "python",
   "nbconvert_exporter": "python",
   "pygments_lexer": "ipython3",
   "version": "3.7.10"
  }
 },
 "nbformat": 4,
 "nbformat_minor": 5
}
