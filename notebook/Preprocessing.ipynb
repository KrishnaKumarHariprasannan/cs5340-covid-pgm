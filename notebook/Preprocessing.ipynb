{
 "cells": [
  {
   "cell_type": "code",
   "execution_count": 1,
   "id": "b30b440c",
   "metadata": {
    "execution": {
     "iopub.execute_input": "2022-04-04T14:00:58.125425Z",
     "iopub.status.busy": "2022-04-04T14:00:58.125034Z",
     "iopub.status.idle": "2022-04-04T14:00:59.657319Z",
     "shell.execute_reply": "2022-04-04T14:00:59.655983Z",
     "shell.execute_reply.started": "2022-04-04T14:00:58.125357Z"
    }
   },
   "outputs": [],
   "source": [
    "import pandas as pd\n",
    "import numpy as np\n",
    "import matplotlib.pyplot as plt\n",
    "import seaborn as sns"
   ]
  },
  {
   "cell_type": "code",
   "execution_count": 2,
   "id": "2abd3024",
   "metadata": {
    "execution": {
     "iopub.execute_input": "2022-04-04T14:00:59.658834Z",
     "iopub.status.busy": "2022-04-04T14:00:59.658558Z",
     "iopub.status.idle": "2022-04-04T14:01:01.007886Z",
     "shell.execute_reply": "2022-04-04T14:01:01.007141Z",
     "shell.execute_reply.started": "2022-04-04T14:00:59.658809Z"
    },
    "tags": []
   },
   "outputs": [
    {
     "name": "stderr",
     "output_type": "stream",
     "text": [
      "/Users/krishnakumar/miniconda3/lib/python3.9/site-packages/IPython/core/interactiveshell.py:3441: DtypeWarning: Columns (2,3,39) have mixed types.Specify dtype option on import or set low_memory=False.\n",
      "  exec(code_obj, self.user_global_ns, self.user_ns)\n"
     ]
    }
   ],
   "source": [
    "path = \"../data/raw/OxCGRT_latest_combined.csv\"\n",
    "df = pd.read_csv(path)"
   ]
  },
  {
   "cell_type": "code",
   "execution_count": 3,
   "id": "84fab8f8",
   "metadata": {
    "execution": {
     "iopub.execute_input": "2022-04-04T14:01:01.011146Z",
     "iopub.status.busy": "2022-04-04T14:01:01.010848Z",
     "iopub.status.idle": "2022-04-04T14:01:01.025440Z",
     "shell.execute_reply": "2022-04-04T14:01:01.024815Z",
     "shell.execute_reply.started": "2022-04-04T14:01:01.011113Z"
    },
    "tags": []
   },
   "outputs": [
    {
     "data": {
      "text/plain": [
       "Index(['CountryName', 'CountryCode', 'RegionName', 'RegionCode',\n",
       "       'Jurisdiction', 'Date', 'C1_combined_numeric', 'C1_combined',\n",
       "       'C2_combined_numeric', 'C2_combined', 'C3_combined_numeric',\n",
       "       'C3_combined', 'C4_combined_numeric', 'C4_combined',\n",
       "       'C5_combined_numeric', 'C5_combined', 'C6_combined_numeric',\n",
       "       'C6_combined', 'C7_combined_numeric', 'C7_combined',\n",
       "       'C8_combined_numeric', 'C8_combined', 'E1_combined_numeric',\n",
       "       'E1_combined', 'E2_combined_numeric', 'E2_combined',\n",
       "       'H1_combined_numeric', 'H1_combined', 'H2_combined_numeric',\n",
       "       'H2_combined', 'H3_combined_numeric', 'H3_combined',\n",
       "       'H6_combined_numeric', 'H6_combined', 'H7_combined_numeric',\n",
       "       'H7_combined', 'H8_combined_numeric', 'H8_combined',\n",
       "       'V1_combined_numeric', 'V1_combined', 'V2_combined_numeric',\n",
       "       'V2_combined', 'V3_combined_numeric', 'V3_combined',\n",
       "       'V4_combined_numeric', 'V4_combined', 'ConfirmedCases',\n",
       "       'ConfirmedDeaths', 'StringencyIndex', 'StringencyIndexForDisplay',\n",
       "       'StringencyLegacyIndex', 'StringencyLegacyIndexForDisplay',\n",
       "       'GovernmentResponseIndex', 'GovernmentResponseIndexForDisplay',\n",
       "       'ContainmentHealthIndex', 'ContainmentHealthIndexForDisplay',\n",
       "       'EconomicSupportIndex', 'EconomicSupportIndexForDisplay'],\n",
       "      dtype='object')"
      ]
     },
     "execution_count": 3,
     "metadata": {},
     "output_type": "execute_result"
    }
   ],
   "source": [
    "df.columns"
   ]
  },
  {
   "cell_type": "code",
   "execution_count": 4,
   "id": "0c5abda1",
   "metadata": {
    "execution": {
     "iopub.execute_input": "2022-04-04T14:01:01.026986Z",
     "iopub.status.busy": "2022-04-04T14:01:01.026625Z",
     "iopub.status.idle": "2022-04-04T14:01:01.037752Z",
     "shell.execute_reply": "2022-04-04T14:01:01.037132Z",
     "shell.execute_reply.started": "2022-04-04T14:01:01.026959Z"
    }
   },
   "outputs": [],
   "source": [
    "# school closures; (Done)\n",
    "# workplace closures; (Done)\n",
    "# cancellation of public events; (Done)\n",
    "# restrictions on public gatherings(Done);\n",
    "# closures of public transport; (Done)\n",
    "# stay-at-home requirements; (DOne)\n",
    "# public information campaigns;(Done)\n",
    "# restrictions on internal movements; (Done)\n",
    "# international travel controls; (Done)\n",
    "# testing policy; (Done)\n",
    "# extent of contact tracing; (Done)\n",
    "# face coverings; (Done)\n",
    "# vaccine policy. (Done)\n",
    "# )\n",
    "# + no of cases  - {SG, Malaysia, Indonesia, China, HK}"
   ]
  },
  {
   "cell_type": "code",
   "execution_count": 5,
   "id": "eb94a751",
   "metadata": {
    "execution": {
     "iopub.execute_input": "2022-04-04T14:01:01.039481Z",
     "iopub.status.busy": "2022-04-04T14:01:01.039007Z",
     "iopub.status.idle": "2022-04-04T14:01:01.051564Z",
     "shell.execute_reply": "2022-04-04T14:01:01.050689Z",
     "shell.execute_reply.started": "2022-04-04T14:01:01.039456Z"
    },
    "tags": []
   },
   "outputs": [],
   "source": [
    "columns = [\n",
    "    \"CountryName\",\n",
    "    \"Date_dd-mm-yyyy\",\n",
    "    \"C1_combined\",\n",
    "    \"C2_combined\",\n",
    "    \"C3_combined\",\n",
    "    \"C4_combined\",\n",
    "    \"C5_combined\",\n",
    "    \"C6_combined\",\n",
    "    \"C7_combined\",\n",
    "    \"C8_combined\",\n",
    "    \"H1_combined\",\n",
    "    \"H2_combined\",\n",
    "    \"H3_combined\",\n",
    "    \"H6_combined\",\n",
    "    \"H7_combined\",\n",
    "    \"E1_combined\",\n",
    "    \"E2_combined\",\n",
    "    \"ConfirmedCases\",\n",
    "    \"ConfirmedDeaths\",\n",
    "]\n",
    "\n",
    "# Date , missing data , country filter"
   ]
  },
  {
   "cell_type": "code",
   "execution_count": 6,
   "id": "ceac6233",
   "metadata": {
    "execution": {
     "iopub.execute_input": "2022-04-04T14:01:01.053273Z",
     "iopub.status.busy": "2022-04-04T14:01:01.052790Z",
     "iopub.status.idle": "2022-04-04T14:01:01.279292Z",
     "shell.execute_reply": "2022-04-04T14:01:01.278652Z",
     "shell.execute_reply.started": "2022-04-04T14:01:01.053233Z"
    }
   },
   "outputs": [],
   "source": [
    "df[\"Date_dd-mm-yyyy\"] = pd.to_datetime(df[\"Date\"], format=\"%Y%m%d\")"
   ]
  },
  {
   "cell_type": "code",
   "execution_count": 7,
   "id": "fe5040e3",
   "metadata": {
    "execution": {
     "iopub.execute_input": "2022-04-04T14:01:01.280644Z",
     "iopub.status.busy": "2022-04-04T14:01:01.280429Z",
     "iopub.status.idle": "2022-04-04T14:01:01.434349Z",
     "shell.execute_reply": "2022-04-04T14:01:01.433761Z",
     "shell.execute_reply.started": "2022-04-04T14:01:01.280618Z"
    },
    "tags": []
   },
   "outputs": [
    {
     "name": "stdout",
     "output_type": "stream",
     "text": [
      "18\n"
     ]
    }
   ],
   "source": [
    "countries = [\n",
    "    \"Singapore\",\n",
    "    \"China\",\n",
    "    \"Malaysia\",\n",
    "    \"Indonesia\",\n",
    "    \"Hong Kong\",\n",
    "    \"Australia\",\n",
    "    \"New Zealand\",\n",
    "    \"United States\",\n",
    "    \"Canada\",\n",
    "    \"Argentina\",\n",
    "    \"Brazil\",\n",
    "    \"South Africa\",\n",
    "    \"Egypt\",\n",
    "    \"Germany\",\n",
    "    \"Finland\",\n",
    "    \"Switzerland\",\n",
    "    \"Israel\",\n",
    "    \"India\"\n",
    "]\n",
    "print(len(countries))\n",
    "df_new = df[df[\"CountryName\"].isin(countries)]\n",
    "df_new = df_new[\n",
    "    (df_new[\"Date_dd-mm-yyyy\"] > pd.Timestamp(2020, 5, 1))\n",
    "    & (df_new[\"Date_dd-mm-yyyy\"] < pd.Timestamp(2022, 2, 28))\n",
    "]\n",
    "df_new = df_new.reset_index(drop=True)"
   ]
  },
  {
   "cell_type": "code",
   "execution_count": 8,
   "id": "87f0b8b6",
   "metadata": {
    "execution": {
     "iopub.execute_input": "2022-04-04T14:01:01.436013Z",
     "iopub.status.busy": "2022-04-04T14:01:01.435464Z",
     "iopub.status.idle": "2022-04-04T14:01:01.452384Z",
     "shell.execute_reply": "2022-04-04T14:01:01.451506Z",
     "shell.execute_reply.started": "2022-04-04T14:01:01.435966Z"
    },
    "tags": []
   },
   "outputs": [
    {
     "data": {
      "text/plain": [
       "Index(['CountryName', 'CountryCode', 'RegionName', 'RegionCode',\n",
       "       'Jurisdiction', 'Date', 'C1_combined_numeric', 'C1_combined',\n",
       "       'C2_combined_numeric', 'C2_combined', 'C3_combined_numeric',\n",
       "       'C3_combined', 'C4_combined_numeric', 'C4_combined',\n",
       "       'C5_combined_numeric', 'C5_combined', 'C6_combined_numeric',\n",
       "       'C6_combined', 'C7_combined_numeric', 'C7_combined',\n",
       "       'C8_combined_numeric', 'C8_combined', 'E1_combined_numeric',\n",
       "       'E1_combined', 'E2_combined_numeric', 'E2_combined',\n",
       "       'H1_combined_numeric', 'H1_combined', 'H2_combined_numeric',\n",
       "       'H2_combined', 'H3_combined_numeric', 'H3_combined',\n",
       "       'H6_combined_numeric', 'H6_combined', 'H7_combined_numeric',\n",
       "       'H7_combined', 'H8_combined_numeric', 'H8_combined',\n",
       "       'V1_combined_numeric', 'V1_combined', 'V2_combined_numeric',\n",
       "       'V2_combined', 'V3_combined_numeric', 'V3_combined',\n",
       "       'V4_combined_numeric', 'V4_combined', 'ConfirmedCases',\n",
       "       'ConfirmedDeaths', 'StringencyIndex', 'StringencyIndexForDisplay',\n",
       "       'StringencyLegacyIndex', 'StringencyLegacyIndexForDisplay',\n",
       "       'GovernmentResponseIndex', 'GovernmentResponseIndexForDisplay',\n",
       "       'ContainmentHealthIndex', 'ContainmentHealthIndexForDisplay',\n",
       "       'EconomicSupportIndex', 'EconomicSupportIndexForDisplay',\n",
       "       'Date_dd-mm-yyyy'],\n",
       "      dtype='object')"
      ]
     },
     "execution_count": 8,
     "metadata": {},
     "output_type": "execute_result"
    }
   ],
   "source": [
    "df_new.columns"
   ]
  },
  {
   "cell_type": "code",
   "execution_count": 9,
   "id": "06e579e0-a47f-43e4-8ef1-93b064ea5ceb",
   "metadata": {
    "execution": {
     "iopub.execute_input": "2022-04-04T14:01:01.453704Z",
     "iopub.status.busy": "2022-04-04T14:01:01.453411Z",
     "iopub.status.idle": "2022-04-04T14:01:01.508511Z",
     "shell.execute_reply": "2022-04-04T14:01:01.507770Z",
     "shell.execute_reply.started": "2022-04-04T14:01:01.453654Z"
    },
    "tags": []
   },
   "outputs": [
    {
     "data": {
      "text/plain": [
       "Argentina        667\n",
       "Australia        667\n",
       "United States    667\n",
       "Singapore        667\n",
       "New Zealand      667\n",
       "Malaysia         667\n",
       "Israel           667\n",
       "India            667\n",
       "Indonesia        667\n",
       "Hong Kong        667\n",
       "Finland          667\n",
       "Egypt            667\n",
       "Germany          667\n",
       "China            667\n",
       "Switzerland      667\n",
       "Canada           667\n",
       "Brazil           667\n",
       "South Africa     667\n",
       "Name: CountryName, dtype: int64"
      ]
     },
     "execution_count": 9,
     "metadata": {},
     "output_type": "execute_result"
    }
   ],
   "source": [
    "df_new = df_new[df_new[\"Jurisdiction\"] == \"NAT_TOTAL\"]\n",
    "df_new.CountryName.value_counts()"
   ]
  },
  {
   "cell_type": "code",
   "execution_count": 10,
   "id": "c9e07946",
   "metadata": {
    "execution": {
     "iopub.execute_input": "2022-04-04T14:01:01.510572Z",
     "iopub.status.busy": "2022-04-04T14:01:01.510099Z",
     "iopub.status.idle": "2022-04-04T14:01:01.526544Z",
     "shell.execute_reply": "2022-04-04T14:01:01.525723Z",
     "shell.execute_reply.started": "2022-04-04T14:01:01.510545Z"
    },
    "tags": []
   },
   "outputs": [],
   "source": [
    "df_new = df_new[columns]"
   ]
  },
  {
   "cell_type": "code",
   "execution_count": 11,
   "id": "1560f669",
   "metadata": {
    "execution": {
     "iopub.execute_input": "2022-04-04T14:01:01.527839Z",
     "iopub.status.busy": "2022-04-04T14:01:01.527526Z",
     "iopub.status.idle": "2022-04-04T14:01:01.547139Z",
     "shell.execute_reply": "2022-04-04T14:01:01.546486Z",
     "shell.execute_reply.started": "2022-04-04T14:01:01.527804Z"
    },
    "tags": []
   },
   "outputs": [
    {
     "data": {
      "text/plain": [
       "Index(['CountryName', 'Date_dd-mm-yyyy', 'C1_combined', 'C2_combined',\n",
       "       'C3_combined', 'C4_combined', 'C5_combined', 'C6_combined',\n",
       "       'C7_combined', 'C8_combined', 'H1_combined', 'H2_combined',\n",
       "       'H3_combined', 'H6_combined', 'H7_combined', 'E1_combined',\n",
       "       'E2_combined', 'ConfirmedCases', 'ConfirmedDeaths'],\n",
       "      dtype='object')"
      ]
     },
     "execution_count": 11,
     "metadata": {},
     "output_type": "execute_result"
    }
   ],
   "source": [
    "df_new.columns"
   ]
  },
  {
   "cell_type": "code",
   "execution_count": 12,
   "id": "6d11fe58",
   "metadata": {
    "execution": {
     "iopub.execute_input": "2022-04-04T14:01:01.553195Z",
     "iopub.status.busy": "2022-04-04T14:01:01.552912Z",
     "iopub.status.idle": "2022-04-04T14:01:01.568353Z",
     "shell.execute_reply": "2022-04-04T14:01:01.567555Z",
     "shell.execute_reply.started": "2022-04-04T14:01:01.553168Z"
    },
    "tags": []
   },
   "outputs": [],
   "source": [
    "# school closures; (Done)\n",
    "# workplace closures; (Done)\n",
    "# cancellation of public events; (Done)\n",
    "# restrictions on public gatherings(Done);\n",
    "# closures of public transport; (Done)\n",
    "# stay-at-home requirements; (Done)\n",
    "# public information campaigns; H1(Done)\n",
    "# restrictions on internal movements; C7(Done)\n",
    "# international travel controls;C8 (Done)\n",
    "# testing policy; (Done) H2\n",
    "# extent of contact tracing; (Done)H3\n",
    "# face coverings; (Done)H6\n",
    "# vaccine policy. (Done)H7\n",
    "# )\n",
    "\n",
    "df_new.columns = [\n",
    "    \"Country\",\n",
    "    \"Date\",\n",
    "    \"school_closures\",\n",
    "    \"workplace_closures\",\n",
    "    \"cancel_public_events\",\n",
    "    \"restrict_public_gathering\",\n",
    "    \"closure_public_transport\",\n",
    "    \"SHN_requirement\",\n",
    "    \"restriction_internal_movement\",\n",
    "    \"internation_travel_control\",\n",
    "    \"PI_Campaign\",\n",
    "    \"testing_policy\",\n",
    "    \"contact_tracing\",\n",
    "    \"Facial_Covering\",\n",
    "    \"Vaccine_policy\",\n",
    "    \"income_support\",\n",
    "    \"debt_relief\",\n",
    "    \"Confirmed_cases\",\n",
    "    \"Confirmed_Deathes\",\n",
    "]"
   ]
  },
  {
   "cell_type": "code",
   "execution_count": 13,
   "id": "2654e3a4",
   "metadata": {
    "execution": {
     "iopub.execute_input": "2022-04-04T14:01:01.569807Z",
     "iopub.status.busy": "2022-04-04T14:01:01.569484Z",
     "iopub.status.idle": "2022-04-04T14:01:01.591755Z",
     "shell.execute_reply": "2022-04-04T14:01:01.590629Z",
     "shell.execute_reply.started": "2022-04-04T14:01:01.569769Z"
    },
    "tags": []
   },
   "outputs": [
    {
     "data": {
      "text/plain": [
       "Country                           0\n",
       "Date                              0\n",
       "school_closures                  12\n",
       "workplace_closures               12\n",
       "cancel_public_events             12\n",
       "restrict_public_gathering        12\n",
       "closure_public_transport         12\n",
       "SHN_requirement                  12\n",
       "restriction_internal_movement    12\n",
       "internation_travel_control       12\n",
       "PI_Campaign                      12\n",
       "testing_policy                   12\n",
       "contact_tracing                  12\n",
       "Facial_Covering                  13\n",
       "Vaccine_policy                   12\n",
       "income_support                   12\n",
       "debt_relief                      12\n",
       "Confirmed_cases                   0\n",
       "Confirmed_Deathes                 0\n",
       "dtype: int64"
      ]
     },
     "execution_count": 13,
     "metadata": {},
     "output_type": "execute_result"
    }
   ],
   "source": [
    "df_new.isna().sum()"
   ]
  },
  {
   "cell_type": "code",
   "execution_count": 14,
   "id": "81839eb8",
   "metadata": {
    "execution": {
     "iopub.execute_input": "2022-04-04T14:01:01.593578Z",
     "iopub.status.busy": "2022-04-04T14:01:01.593120Z",
     "iopub.status.idle": "2022-04-04T14:01:01.824496Z",
     "shell.execute_reply": "2022-04-04T14:01:01.823369Z",
     "shell.execute_reply.started": "2022-04-04T14:01:01.593521Z"
    },
    "tags": []
   },
   "outputs": [],
   "source": [
    "df_new = df_new.dropna()\n",
    "df_new.to_csv(\"../data/processed/Final_Data_Combined.csv\")"
   ]
  },
  {
   "cell_type": "code",
   "execution_count": 15,
   "id": "d8efe832",
   "metadata": {
    "execution": {
     "iopub.execute_input": "2022-04-04T14:01:01.826262Z",
     "iopub.status.busy": "2022-04-04T14:01:01.825856Z",
     "iopub.status.idle": "2022-04-04T14:01:01.850724Z",
     "shell.execute_reply": "2022-04-04T14:01:01.850109Z",
     "shell.execute_reply.started": "2022-04-04T14:01:01.826232Z"
    },
    "tags": []
   },
   "outputs": [
    {
     "name": "stdout",
     "output_type": "stream",
     "text": [
      "Country                          0\n",
      "Date                             0\n",
      "school_closures                  0\n",
      "workplace_closures               0\n",
      "cancel_public_events             0\n",
      "restrict_public_gathering        0\n",
      "closure_public_transport         0\n",
      "SHN_requirement                  0\n",
      "restriction_internal_movement    0\n",
      "internation_travel_control       0\n",
      "PI_Campaign                      0\n",
      "testing_policy                   0\n",
      "contact_tracing                  0\n",
      "Facial_Covering                  0\n",
      "Vaccine_policy                   0\n",
      "income_support                   0\n",
      "debt_relief                      0\n",
      "Confirmed_cases                  0\n",
      "Confirmed_Deathes                0\n",
      "dtype: int64\n"
     ]
    }
   ],
   "source": [
    "print(df_new.isna().sum())"
   ]
  },
  {
   "cell_type": "code",
   "execution_count": null,
   "id": "b2bbd930",
   "metadata": {},
   "outputs": [],
   "source": []
  }
 ],
 "metadata": {
  "kernelspec": {
   "display_name": "Python 3 (ipykernel)",
   "language": "python",
   "name": "python3"
  },
  "language_info": {
   "codemirror_mode": {
    "name": "ipython",
    "version": 3
   },
   "file_extension": ".py",
   "mimetype": "text/x-python",
   "name": "python",
   "nbconvert_exporter": "python",
   "pygments_lexer": "ipython3",
   "version": "3.9.5"
  }
 },
 "nbformat": 4,
 "nbformat_minor": 5
}
