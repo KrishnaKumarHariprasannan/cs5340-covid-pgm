{
 "cells": [
  {
   "cell_type": "code",
   "execution_count": 1,
   "id": "45000ab2-ca87-4066-9e64-42116c9c814e",
   "metadata": {
    "execution": {
     "iopub.execute_input": "2022-04-21T09:46:55.826708Z",
     "iopub.status.busy": "2022-04-21T09:46:55.826296Z",
     "iopub.status.idle": "2022-04-21T09:46:59.698220Z",
     "shell.execute_reply": "2022-04-21T09:46:59.697518Z",
     "shell.execute_reply.started": "2022-04-21T09:46:55.826591Z"
    },
    "tags": []
   },
   "outputs": [],
   "source": [
    "import pandas as pd\n",
    "import numpy as np\n",
    "import matplotlib.pyplot as plt\n",
    "import seaborn as sns\n",
    "from pgmpy.estimators import PC\n",
    "from pgmpy.models import BayesianNetwork"
   ]
  },
  {
   "cell_type": "code",
   "execution_count": 2,
   "id": "afcc0701-7cc1-4208-bf19-08bd86c1cdbc",
   "metadata": {
    "execution": {
     "iopub.execute_input": "2022-04-21T09:46:59.699478Z",
     "iopub.status.busy": "2022-04-21T09:46:59.699178Z",
     "iopub.status.idle": "2022-04-21T09:47:00.044353Z",
     "shell.execute_reply": "2022-04-21T09:47:00.043535Z",
     "shell.execute_reply.started": "2022-04-21T09:46:59.699452Z"
    },
    "tags": []
   },
   "outputs": [
    {
     "name": "stdout",
     "output_type": "stream",
     "text": [
      "(11993, 19)\n"
     ]
    },
    {
     "data": {
      "text/html": [
       "<div>\n",
       "<style scoped>\n",
       "    .dataframe tbody tr th:only-of-type {\n",
       "        vertical-align: middle;\n",
       "    }\n",
       "\n",
       "    .dataframe tbody tr th {\n",
       "        vertical-align: top;\n",
       "    }\n",
       "\n",
       "    .dataframe thead th {\n",
       "        text-align: right;\n",
       "    }\n",
       "</style>\n",
       "<table border=\"1\" class=\"dataframe\">\n",
       "  <thead>\n",
       "    <tr style=\"text-align: right;\">\n",
       "      <th></th>\n",
       "      <th></th>\n",
       "      <th>school_closures</th>\n",
       "      <th>workplace_closures</th>\n",
       "      <th>cancel_public_events</th>\n",
       "      <th>restrict_public_gathering</th>\n",
       "      <th>closure_public_transport</th>\n",
       "      <th>shn_requirement</th>\n",
       "      <th>restriction_internal_movement</th>\n",
       "      <th>internation_travel_control</th>\n",
       "      <th>pi_campaign</th>\n",
       "      <th>testing_policy</th>\n",
       "      <th>contact_tracing</th>\n",
       "      <th>facial_covering</th>\n",
       "      <th>vaccine_policy</th>\n",
       "      <th>income_support</th>\n",
       "      <th>debt_relief</th>\n",
       "      <th>confirmed_cases</th>\n",
       "      <th>confirmed_deathes</th>\n",
       "      <th>cases_per_mil</th>\n",
       "      <th>cases_per_mil_cat</th>\n",
       "    </tr>\n",
       "    <tr>\n",
       "      <th>country</th>\n",
       "      <th>date</th>\n",
       "      <th></th>\n",
       "      <th></th>\n",
       "      <th></th>\n",
       "      <th></th>\n",
       "      <th></th>\n",
       "      <th></th>\n",
       "      <th></th>\n",
       "      <th></th>\n",
       "      <th></th>\n",
       "      <th></th>\n",
       "      <th></th>\n",
       "      <th></th>\n",
       "      <th></th>\n",
       "      <th></th>\n",
       "      <th></th>\n",
       "      <th></th>\n",
       "      <th></th>\n",
       "      <th></th>\n",
       "      <th></th>\n",
       "    </tr>\n",
       "  </thead>\n",
       "  <tbody>\n",
       "    <tr>\n",
       "      <th rowspan=\"5\" valign=\"top\">argentina</th>\n",
       "      <th>2020-05-02</th>\n",
       "      <td>3</td>\n",
       "      <td>3</td>\n",
       "      <td>2</td>\n",
       "      <td>4</td>\n",
       "      <td>2</td>\n",
       "      <td>2</td>\n",
       "      <td>1</td>\n",
       "      <td>4.0</td>\n",
       "      <td>2</td>\n",
       "      <td>1.0</td>\n",
       "      <td>2.0</td>\n",
       "      <td>3</td>\n",
       "      <td>0</td>\n",
       "      <td>1</td>\n",
       "      <td>2.0</td>\n",
       "      <td>4681.0</td>\n",
       "      <td>237.0</td>\n",
       "      <td>102.093784</td>\n",
       "      <td>0</td>\n",
       "    </tr>\n",
       "    <tr>\n",
       "      <th>2020-05-03</th>\n",
       "      <td>3</td>\n",
       "      <td>3</td>\n",
       "      <td>2</td>\n",
       "      <td>4</td>\n",
       "      <td>2</td>\n",
       "      <td>2</td>\n",
       "      <td>1</td>\n",
       "      <td>4.0</td>\n",
       "      <td>2</td>\n",
       "      <td>1.0</td>\n",
       "      <td>2.0</td>\n",
       "      <td>3</td>\n",
       "      <td>0</td>\n",
       "      <td>1</td>\n",
       "      <td>2.0</td>\n",
       "      <td>4783.0</td>\n",
       "      <td>246.0</td>\n",
       "      <td>104.318430</td>\n",
       "      <td>0</td>\n",
       "    </tr>\n",
       "    <tr>\n",
       "      <th>2020-05-04</th>\n",
       "      <td>3</td>\n",
       "      <td>3</td>\n",
       "      <td>2</td>\n",
       "      <td>4</td>\n",
       "      <td>2</td>\n",
       "      <td>2</td>\n",
       "      <td>1</td>\n",
       "      <td>4.0</td>\n",
       "      <td>2</td>\n",
       "      <td>1.0</td>\n",
       "      <td>2.0</td>\n",
       "      <td>3</td>\n",
       "      <td>0</td>\n",
       "      <td>1</td>\n",
       "      <td>2.0</td>\n",
       "      <td>4887.0</td>\n",
       "      <td>260.0</td>\n",
       "      <td>106.586696</td>\n",
       "      <td>0</td>\n",
       "    </tr>\n",
       "    <tr>\n",
       "      <th>2020-05-05</th>\n",
       "      <td>3</td>\n",
       "      <td>3</td>\n",
       "      <td>2</td>\n",
       "      <td>4</td>\n",
       "      <td>2</td>\n",
       "      <td>2</td>\n",
       "      <td>1</td>\n",
       "      <td>4.0</td>\n",
       "      <td>2</td>\n",
       "      <td>1.0</td>\n",
       "      <td>2.0</td>\n",
       "      <td>3</td>\n",
       "      <td>0</td>\n",
       "      <td>1</td>\n",
       "      <td>2.0</td>\n",
       "      <td>5020.0</td>\n",
       "      <td>264.0</td>\n",
       "      <td>109.487459</td>\n",
       "      <td>0</td>\n",
       "    </tr>\n",
       "    <tr>\n",
       "      <th>2020-05-06</th>\n",
       "      <td>3</td>\n",
       "      <td>3</td>\n",
       "      <td>2</td>\n",
       "      <td>4</td>\n",
       "      <td>2</td>\n",
       "      <td>2</td>\n",
       "      <td>1</td>\n",
       "      <td>4.0</td>\n",
       "      <td>2</td>\n",
       "      <td>1.0</td>\n",
       "      <td>2.0</td>\n",
       "      <td>3</td>\n",
       "      <td>0</td>\n",
       "      <td>1</td>\n",
       "      <td>2.0</td>\n",
       "      <td>5208.0</td>\n",
       "      <td>273.0</td>\n",
       "      <td>113.587786</td>\n",
       "      <td>0</td>\n",
       "    </tr>\n",
       "  </tbody>\n",
       "</table>\n",
       "</div>"
      ],
      "text/plain": [
       "                      school_closures  workplace_closures  \\\n",
       "country   date                                              \n",
       "argentina 2020-05-02                3                   3   \n",
       "          2020-05-03                3                   3   \n",
       "          2020-05-04                3                   3   \n",
       "          2020-05-05                3                   3   \n",
       "          2020-05-06                3                   3   \n",
       "\n",
       "                      cancel_public_events  restrict_public_gathering  \\\n",
       "country   date                                                          \n",
       "argentina 2020-05-02                     2                          4   \n",
       "          2020-05-03                     2                          4   \n",
       "          2020-05-04                     2                          4   \n",
       "          2020-05-05                     2                          4   \n",
       "          2020-05-06                     2                          4   \n",
       "\n",
       "                      closure_public_transport  shn_requirement  \\\n",
       "country   date                                                    \n",
       "argentina 2020-05-02                         2                2   \n",
       "          2020-05-03                         2                2   \n",
       "          2020-05-04                         2                2   \n",
       "          2020-05-05                         2                2   \n",
       "          2020-05-06                         2                2   \n",
       "\n",
       "                      restriction_internal_movement  \\\n",
       "country   date                                        \n",
       "argentina 2020-05-02                              1   \n",
       "          2020-05-03                              1   \n",
       "          2020-05-04                              1   \n",
       "          2020-05-05                              1   \n",
       "          2020-05-06                              1   \n",
       "\n",
       "                      internation_travel_control  pi_campaign  testing_policy  \\\n",
       "country   date                                                                  \n",
       "argentina 2020-05-02                         4.0            2             1.0   \n",
       "          2020-05-03                         4.0            2             1.0   \n",
       "          2020-05-04                         4.0            2             1.0   \n",
       "          2020-05-05                         4.0            2             1.0   \n",
       "          2020-05-06                         4.0            2             1.0   \n",
       "\n",
       "                      contact_tracing  facial_covering  vaccine_policy  \\\n",
       "country   date                                                           \n",
       "argentina 2020-05-02              2.0                3               0   \n",
       "          2020-05-03              2.0                3               0   \n",
       "          2020-05-04              2.0                3               0   \n",
       "          2020-05-05              2.0                3               0   \n",
       "          2020-05-06              2.0                3               0   \n",
       "\n",
       "                      income_support  debt_relief  confirmed_cases  \\\n",
       "country   date                                                       \n",
       "argentina 2020-05-02               1          2.0           4681.0   \n",
       "          2020-05-03               1          2.0           4783.0   \n",
       "          2020-05-04               1          2.0           4887.0   \n",
       "          2020-05-05               1          2.0           5020.0   \n",
       "          2020-05-06               1          2.0           5208.0   \n",
       "\n",
       "                      confirmed_deathes  cases_per_mil  cases_per_mil_cat  \n",
       "country   date                                                             \n",
       "argentina 2020-05-02              237.0     102.093784                  0  \n",
       "          2020-05-03              246.0     104.318430                  0  \n",
       "          2020-05-04              260.0     106.586696                  0  \n",
       "          2020-05-05              264.0     109.487459                  0  \n",
       "          2020-05-06              273.0     113.587786                  0  "
      ]
     },
     "execution_count": 2,
     "metadata": {},
     "output_type": "execute_result"
    }
   ],
   "source": [
    "covid_policies_df = pd.read_csv(\n",
    "    \"../data/processed/categorical_policies.csv\"\n",
    ")\n",
    "covid_policies_df.set_index([\"country\", \"date\"], inplace=True)\n",
    "print(covid_policies_df.shape)\n",
    "covid_policies_df.head()"
   ]
  },
  {
   "cell_type": "code",
   "execution_count": 3,
   "id": "19f6493c-bde8-499c-bf83-e69c2028d4cc",
   "metadata": {
    "execution": {
     "iopub.execute_input": "2022-04-21T09:47:00.047291Z",
     "iopub.status.busy": "2022-04-21T09:47:00.047032Z",
     "iopub.status.idle": "2022-04-21T09:47:00.074990Z",
     "shell.execute_reply": "2022-04-21T09:47:00.073908Z",
     "shell.execute_reply.started": "2022-04-21T09:47:00.047265Z"
    },
    "tags": []
   },
   "outputs": [
    {
     "data": {
      "text/html": [
       "<div>\n",
       "<style scoped>\n",
       "    .dataframe tbody tr th:only-of-type {\n",
       "        vertical-align: middle;\n",
       "    }\n",
       "\n",
       "    .dataframe tbody tr th {\n",
       "        vertical-align: top;\n",
       "    }\n",
       "\n",
       "    .dataframe thead th {\n",
       "        text-align: right;\n",
       "    }\n",
       "</style>\n",
       "<table border=\"1\" class=\"dataframe\">\n",
       "  <thead>\n",
       "    <tr style=\"text-align: right;\">\n",
       "      <th></th>\n",
       "      <th>school_closures</th>\n",
       "      <th>workplace_closures</th>\n",
       "      <th>cases_per_mil</th>\n",
       "      <th>cases_per_mil_cat</th>\n",
       "      <th>confirmed_cases</th>\n",
       "    </tr>\n",
       "    <tr>\n",
       "      <th>date</th>\n",
       "      <th></th>\n",
       "      <th></th>\n",
       "      <th></th>\n",
       "      <th></th>\n",
       "      <th></th>\n",
       "    </tr>\n",
       "  </thead>\n",
       "  <tbody>\n",
       "    <tr>\n",
       "      <th>2020-05-02</th>\n",
       "      <td>3</td>\n",
       "      <td>3</td>\n",
       "      <td>3219.816514</td>\n",
       "      <td>0</td>\n",
       "      <td>17548.0</td>\n",
       "    </tr>\n",
       "    <tr>\n",
       "      <th>2020-05-03</th>\n",
       "      <td>3</td>\n",
       "      <td>3</td>\n",
       "      <td>3340.366972</td>\n",
       "      <td>0</td>\n",
       "      <td>18205.0</td>\n",
       "    </tr>\n",
       "    <tr>\n",
       "      <th>2020-05-04</th>\n",
       "      <td>3</td>\n",
       "      <td>3</td>\n",
       "      <td>3445.504587</td>\n",
       "      <td>0</td>\n",
       "      <td>18778.0</td>\n",
       "    </tr>\n",
       "    <tr>\n",
       "      <th>2020-05-05</th>\n",
       "      <td>3</td>\n",
       "      <td>3</td>\n",
       "      <td>3561.467890</td>\n",
       "      <td>0</td>\n",
       "      <td>19410.0</td>\n",
       "    </tr>\n",
       "    <tr>\n",
       "      <th>2020-05-06</th>\n",
       "      <td>3</td>\n",
       "      <td>3</td>\n",
       "      <td>3706.055046</td>\n",
       "      <td>0</td>\n",
       "      <td>20198.0</td>\n",
       "    </tr>\n",
       "  </tbody>\n",
       "</table>\n",
       "</div>"
      ],
      "text/plain": [
       "            school_closures  workplace_closures  cases_per_mil  \\\n",
       "date                                                             \n",
       "2020-05-02                3                   3    3219.816514   \n",
       "2020-05-03                3                   3    3340.366972   \n",
       "2020-05-04                3                   3    3445.504587   \n",
       "2020-05-05                3                   3    3561.467890   \n",
       "2020-05-06                3                   3    3706.055046   \n",
       "\n",
       "            cases_per_mil_cat  confirmed_cases  \n",
       "date                                            \n",
       "2020-05-02                  0          17548.0  \n",
       "2020-05-03                  0          18205.0  \n",
       "2020-05-04                  0          18778.0  \n",
       "2020-05-05                  0          19410.0  \n",
       "2020-05-06                  0          20198.0  "
      ]
     },
     "execution_count": 3,
     "metadata": {},
     "output_type": "execute_result"
    }
   ],
   "source": [
    "sg_filtered = covid_policies_df.loc[\n",
    "    \"singapore\",\n",
    "    [\n",
    "        \"school_closures\",\n",
    "        \"workplace_closures\",\n",
    "        #         \"cancel_public_events\",\n",
    "        #         \"restrict_public_gathering\",\n",
    "        #         \"closure_public_transport\",\n",
    "        \"cases_per_mil\",\n",
    "        \"cases_per_mil_cat\",\n",
    "        \"confirmed_cases\",\n",
    "    ],\n",
    "]\n",
    "sg_filtered.head()"
   ]
  },
  {
   "cell_type": "code",
   "execution_count": 4,
   "id": "d9e0213f-cd60-4a63-9bb2-a95ed61a2daf",
   "metadata": {
    "execution": {
     "iopub.execute_input": "2022-04-21T09:47:00.076855Z",
     "iopub.status.busy": "2022-04-21T09:47:00.076510Z",
     "iopub.status.idle": "2022-04-21T09:47:00.103759Z",
     "shell.execute_reply": "2022-04-21T09:47:00.102543Z",
     "shell.execute_reply.started": "2022-04-21T09:47:00.076812Z"
    },
    "tags": []
   },
   "outputs": [
    {
     "data": {
      "text/html": [
       "<div>\n",
       "<style scoped>\n",
       "    .dataframe tbody tr th:only-of-type {\n",
       "        vertical-align: middle;\n",
       "    }\n",
       "\n",
       "    .dataframe tbody tr th {\n",
       "        vertical-align: top;\n",
       "    }\n",
       "\n",
       "    .dataframe thead th {\n",
       "        text-align: right;\n",
       "    }\n",
       "</style>\n",
       "<table border=\"1\" class=\"dataframe\">\n",
       "  <thead>\n",
       "    <tr style=\"text-align: right;\">\n",
       "      <th></th>\n",
       "      <th>school_closures</th>\n",
       "      <th>workplace_closures</th>\n",
       "      <th>cases_per_mil</th>\n",
       "      <th>cases_per_mil_cat</th>\n",
       "      <th>confirmed_cases</th>\n",
       "    </tr>\n",
       "    <tr>\n",
       "      <th>date</th>\n",
       "      <th></th>\n",
       "      <th></th>\n",
       "      <th></th>\n",
       "      <th></th>\n",
       "      <th></th>\n",
       "    </tr>\n",
       "  </thead>\n",
       "  <tbody>\n",
       "    <tr>\n",
       "      <th>2020-05-02</th>\n",
       "      <td>3</td>\n",
       "      <td>3</td>\n",
       "      <td>193.00000</td>\n",
       "      <td>0</td>\n",
       "      <td>6176.0</td>\n",
       "    </tr>\n",
       "    <tr>\n",
       "      <th>2020-05-03</th>\n",
       "      <td>3</td>\n",
       "      <td>3</td>\n",
       "      <td>196.81250</td>\n",
       "      <td>0</td>\n",
       "      <td>6298.0</td>\n",
       "    </tr>\n",
       "    <tr>\n",
       "      <th>2020-05-04</th>\n",
       "      <td>3</td>\n",
       "      <td>2</td>\n",
       "      <td>198.53125</td>\n",
       "      <td>0</td>\n",
       "      <td>6353.0</td>\n",
       "    </tr>\n",
       "    <tr>\n",
       "      <th>2020-05-05</th>\n",
       "      <td>3</td>\n",
       "      <td>2</td>\n",
       "      <td>199.46875</td>\n",
       "      <td>0</td>\n",
       "      <td>6383.0</td>\n",
       "    </tr>\n",
       "    <tr>\n",
       "      <th>2020-05-06</th>\n",
       "      <td>3</td>\n",
       "      <td>2</td>\n",
       "      <td>200.87500</td>\n",
       "      <td>0</td>\n",
       "      <td>6428.0</td>\n",
       "    </tr>\n",
       "  </tbody>\n",
       "</table>\n",
       "</div>"
      ],
      "text/plain": [
       "            school_closures  workplace_closures  cases_per_mil  \\\n",
       "date                                                             \n",
       "2020-05-02                3                   3      193.00000   \n",
       "2020-05-03                3                   3      196.81250   \n",
       "2020-05-04                3                   2      198.53125   \n",
       "2020-05-05                3                   2      199.46875   \n",
       "2020-05-06                3                   2      200.87500   \n",
       "\n",
       "            cases_per_mil_cat  confirmed_cases  \n",
       "date                                            \n",
       "2020-05-02                  0           6176.0  \n",
       "2020-05-03                  0           6298.0  \n",
       "2020-05-04                  0           6353.0  \n",
       "2020-05-05                  0           6383.0  \n",
       "2020-05-06                  0           6428.0  "
      ]
     },
     "execution_count": 4,
     "metadata": {},
     "output_type": "execute_result"
    }
   ],
   "source": [
    "ml_filtered = covid_policies_df.loc[\n",
    "    \"malaysia\",\n",
    "    [\n",
    "        \"school_closures\",\n",
    "        \"workplace_closures\",\n",
    "        #         \"cancel_public_events\",\n",
    "        #         \"restrict_public_gathering\",\n",
    "        #         \"closure_public_transport\",\n",
    "        \"cases_per_mil\",\n",
    "        \"cases_per_mil_cat\",\n",
    "        \"confirmed_cases\",\n",
    "    ],\n",
    "]\n",
    "\n",
    "ml_filtered.head()"
   ]
  },
  {
   "cell_type": "code",
   "execution_count": 5,
   "id": "1429095c-1557-41ad-a3dc-08afbf260d53",
   "metadata": {
    "execution": {
     "iopub.execute_input": "2022-04-21T09:47:00.105294Z",
     "iopub.status.busy": "2022-04-21T09:47:00.104848Z",
     "iopub.status.idle": "2022-04-21T09:47:00.311261Z",
     "shell.execute_reply": "2022-04-21T09:47:00.310523Z",
     "shell.execute_reply.started": "2022-04-21T09:47:00.105250Z"
    },
    "tags": []
   },
   "outputs": [
    {
     "data": {
      "text/plain": [
       "<AxesSubplot:xlabel='cases_per_mil', ylabel='Count'>"
      ]
     },
     "execution_count": 5,
     "metadata": {},
     "output_type": "execute_result"
    },
    {
     "data": {
      "image/png": "[encoded data removed]",
      "text/plain": [
       "<Figure size 432x288 with 1 Axes>"
      ]
     },
     "metadata": {
      "needs_background": "light"
     },
     "output_type": "display_data"
    }
   ],
   "source": [
    "import seaborn as sns\n",
    "\n",
    "sns.histplot(ml_filtered.cases_per_mil, bins=5)"
   ]
  },
  {
   "cell_type": "code",
   "execution_count": null,
   "id": "d2e60027-a1a7-4c75-b52a-286e626468da",
   "metadata": {},
   "outputs": [],
   "source": []
  },
  {
   "cell_type": "code",
   "execution_count": 6,
   "id": "c8e79cfe-a842-473a-896c-b1c9c3255b3c",
   "metadata": {
    "execution": {
     "iopub.execute_input": "2022-04-21T09:47:00.312766Z",
     "iopub.status.busy": "2022-04-21T09:47:00.312312Z",
     "iopub.status.idle": "2022-04-21T09:47:00.331378Z",
     "shell.execute_reply": "2022-04-21T09:47:00.330527Z",
     "shell.execute_reply.started": "2022-04-21T09:47:00.312725Z"
    },
    "tags": []
   },
   "outputs": [
    {
     "data": {
      "text/plain": [
       "school_closures  workplace_closures\n",
       "0                2                      23\n",
       "                 3                      19\n",
       "1                1                      12\n",
       "                 2                      16\n",
       "                 3                      11\n",
       "2                1                     106\n",
       "                 2                      52\n",
       "                 3                      74\n",
       "3                1                      29\n",
       "                 2                     196\n",
       "                 3                     123\n",
       "dtype: int64"
      ]
     },
     "execution_count": 6,
     "metadata": {},
     "output_type": "execute_result"
    }
   ],
   "source": [
    "g = ml_filtered.groupby(by=[\"school_closures\", \"workplace_closures\"])\n",
    "g.size()"
   ]
  },
  {
   "cell_type": "code",
   "execution_count": 7,
   "id": "967d0748-ce74-47a6-ad57-d271fb9dcb78",
   "metadata": {
    "execution": {
     "iopub.execute_input": "2022-04-21T09:47:00.332941Z",
     "iopub.status.busy": "2022-04-21T09:47:00.332580Z",
     "iopub.status.idle": "2022-04-21T09:47:00.346652Z",
     "shell.execute_reply": "2022-04-21T09:47:00.345669Z",
     "shell.execute_reply.started": "2022-04-21T09:47:00.332900Z"
    },
    "tags": []
   },
   "outputs": [],
   "source": [
    "# from pgmpy.estimators import PC\n",
    "\n",
    "# est = PC(data=sg_filtered[[\"school_closures\", \"workplace_closures\", \"cases_per_mil_cat\"]].iloc[:500], )\n",
    "# res = est.estimate(max_cond_vars=3)\n",
    "# import networkx as nx\n",
    "\n",
    "# nx.draw(res, with_labels=True)"
   ]
  },
  {
   "cell_type": "markdown",
   "id": "3d9d17cb-5ecd-4a90-b658-788ad13fe6ab",
   "metadata": {},
   "source": [
    "## Contruct MRF with a subset of features"
   ]
  },
  {
   "cell_type": "code",
   "execution_count": 8,
   "id": "bd406d2d-c660-4f41-a1ba-83c09d6f6495",
   "metadata": {
    "execution": {
     "iopub.execute_input": "2022-04-21T09:47:00.348977Z",
     "iopub.status.busy": "2022-04-21T09:47:00.348300Z",
     "iopub.status.idle": "2022-04-21T09:47:00.479123Z",
     "shell.execute_reply": "2022-04-21T09:47:00.478289Z",
     "shell.execute_reply.started": "2022-04-21T09:47:00.348933Z"
    },
    "tags": []
   },
   "outputs": [
    {
     "data": {
      "image/png": "[encoded data removed]",
      "text/plain": [
       "<Figure size 432x288 with 1 Axes>"
      ]
     },
     "metadata": {},
     "output_type": "display_data"
    }
   ],
   "source": [
    "import networkx as nx\n",
    "from pgmpy.models import MarkovNetwork, BayesianNetwork\n",
    "\n",
    "# G = MarkovNetwork()\n",
    "# G.add_nodes_from([\"school_closures\", \"workplace_closures\", \"cases_per_mil_cat\"])\n",
    "# G.add_edges_from([(\"school_closures\", \"workplace_closures\"),\n",
    "#                   (\"workplace_closures\", \"cases_per_mil_cat\")\n",
    "#                  ])\n",
    "# nx.draw(G, with_labels=True)\n",
    "\n",
    "\n",
    "sample_model = BayesianNetwork(\n",
    "    [\n",
    "        (\"school_closures\", \"workplace_closures\"),\n",
    "        (\"workplace_closures\", \"cases_per_mil_cat\"),\n",
    "    ]\n",
    ")\n",
    "G = sample_model.to_markov_model()\n",
    "nx.draw(G, with_labels=True)"
   ]
  },
  {
   "cell_type": "code",
   "execution_count": 9,
   "id": "848fc339-169a-4de9-bb2e-e162ac09303f",
   "metadata": {
    "execution": {
     "iopub.execute_input": "2022-04-21T09:47:00.480864Z",
     "iopub.status.busy": "2022-04-21T09:47:00.480597Z",
     "iopub.status.idle": "2022-04-21T09:47:00.495741Z",
     "shell.execute_reply": "2022-04-21T09:47:00.494775Z",
     "shell.execute_reply.started": "2022-04-21T09:47:00.480839Z"
    },
    "tags": []
   },
   "outputs": [
    {
     "name": "stdout",
     "output_type": "stream",
     "text": [
      "school_closures [3 2 1 0]\n",
      "workplace_closures [3 2 1]\n",
      "cases_per_mil_cat [0 1 2 3 4 5]\n"
     ]
    }
   ],
   "source": [
    "for column in [\"school_closures\", \"workplace_closures\", \"cases_per_mil_cat\"]:\n",
    "    print(column, ml_filtered[column].unique())"
   ]
  },
  {
   "cell_type": "code",
   "execution_count": 10,
   "id": "ecd4737c-3613-4b56-9ab5-8601801950a0",
   "metadata": {
    "execution": {
     "iopub.execute_input": "2022-04-21T09:47:00.497612Z",
     "iopub.status.busy": "2022-04-21T09:47:00.497285Z",
     "iopub.status.idle": "2022-04-21T09:47:00.635420Z",
     "shell.execute_reply": "2022-04-21T09:47:00.634636Z",
     "shell.execute_reply.started": "2022-04-21T09:47:00.497587Z"
    },
    "tags": []
   },
   "outputs": [
    {
     "data": {
      "image/png": "[encoded data removed]",
      "text/plain": [
       "<Figure size 432x288 with 1 Axes>"
      ]
     },
     "metadata": {},
     "output_type": "display_data"
    }
   ],
   "source": [
    "from pgmpy.factors.discrete import DiscreteFactor\n",
    "factor1 = DiscreteFactor([\"school_closures\", \"workplace_closures\"], [4, 3], abs(np.random.randn(12)))\n",
    "factor2 = DiscreteFactor([\"workplace_closures\", \"cases_per_mil_cat\"], [3, 6], abs(np.random.randn(18)))\n",
    "G.add_factors(factor1, factor2)\n",
    "nx.draw(G.to_factor_graph(), with_labels=True)"
   ]
  },
  {
   "cell_type": "code",
   "execution_count": 11,
   "id": "02ffd17b-e586-4fab-8652-bf19411d7a83",
   "metadata": {
    "execution": {
     "iopub.execute_input": "2022-04-21T09:47:00.656021Z",
     "iopub.status.busy": "2022-04-21T09:47:00.655690Z",
     "iopub.status.idle": "2022-04-21T09:47:00.769406Z",
     "shell.execute_reply": "2022-04-21T09:47:00.768664Z",
     "shell.execute_reply.started": "2022-04-21T09:47:00.655988Z"
    },
    "tags": []
   },
   "outputs": [
    {
     "data": {
      "application/vnd.jupyter.widget-view+json": {
       "model_id": "19af61921ccf44dda0ad3fad0f76bebd",
       "version_major": 2,
       "version_minor": 0
      },
      "text/plain": [
       "0it [00:00, ?it/s]"
      ]
     },
     "metadata": {},
     "output_type": "display_data"
    },
    {
     "name": "stdout",
     "output_type": "stream",
     "text": [
      "{'cases_per_mil_cat': 0}\n"
     ]
    },
    {
     "data": {
      "application/vnd.jupyter.widget-view+json": {
       "model_id": "5d6419599d4c4b7988aee32ec48bb17f",
       "version_major": 2,
       "version_minor": 0
      },
      "text/plain": [
       "0it [00:00, ?it/s]"
      ]
     },
     "metadata": {},
     "output_type": "display_data"
    },
    {
     "name": "stdout",
     "output_type": "stream",
     "text": [
      "{'cases_per_mil_cat': 0}\n"
     ]
    }
   ],
   "source": [
    "from pgmpy.inference import BeliefPropagation\n",
    "bp = BeliefPropagation(G)\n",
    "print(bp.map_query([\"cases_per_mil_cat\"], evidence={\"school_closures\": 1, \"workplace_closures\": 1}))\n",
    "print(bp.map_query([\"cases_per_mil_cat\"], evidence={\"school_closures\": 3, \"workplace_closures\": 2}))"
   ]
  },
  {
   "cell_type": "code",
   "execution_count": 13,
   "id": "08f2e7cb-8c70-421c-b612-903218fd458b",
   "metadata": {
    "execution": {
     "iopub.execute_input": "2022-04-08T10:53:48.265474Z",
     "iopub.status.busy": "2022-04-08T10:53:48.265095Z",
     "iopub.status.idle": "2022-04-08T10:53:48.327241Z",
     "shell.execute_reply": "2022-04-08T10:53:48.326573Z",
     "shell.execute_reply.started": "2022-04-08T10:53:48.265441Z"
    },
    "tags": []
   },
   "outputs": [
    {
     "data": {
      "application/vnd.jupyter.widget-view+json": {
       "model_id": "b603b16360764488b7182b0931de9397",
       "version_major": 2,
       "version_minor": 0
      },
      "text/plain": [
       "  0%|          | 0/3 [00:00<?, ?it/s]"
      ]
     },
     "metadata": {},
     "output_type": "display_data"
    },
    {
     "name": "stderr",
     "output_type": "stream",
     "text": [
      "/Users/krishnakumar/miniconda3/envs/deeplearn_course/lib/python3.7/site-packages/pgmpy/utils/mathext.py:84: UserWarning: Probability values don't exactly sum to 1. Differ by: 2.220446049250313e-16. Adjusting values.\n",
      "  f\"Probability values don't exactly sum to 1. Differ by: {error}. Adjusting values.\"\n",
      "/Users/krishnakumar/miniconda3/envs/deeplearn_course/lib/python3.7/site-packages/pgmpy/utils/mathext.py:84: UserWarning: Probability values don't exactly sum to 1. Differ by: 1.1102230246251565e-16. Adjusting values.\n",
      "  f\"Probability values don't exactly sum to 1. Differ by: {error}. Adjusting values.\"\n"
     ]
    },
    {
     "data": {
      "text/html": [
       "<div>\n",
       "<style scoped>\n",
       "    .dataframe tbody tr th:only-of-type {\n",
       "        vertical-align: middle;\n",
       "    }\n",
       "\n",
       "    .dataframe tbody tr th {\n",
       "        vertical-align: top;\n",
       "    }\n",
       "\n",
       "    .dataframe thead th {\n",
       "        text-align: right;\n",
       "    }\n",
       "</style>\n",
       "<table border=\"1\" class=\"dataframe\">\n",
       "  <thead>\n",
       "    <tr style=\"text-align: right;\">\n",
       "      <th></th>\n",
       "      <th>school_closures</th>\n",
       "      <th>workplace_closures</th>\n",
       "      <th>cases_per_mil_cat</th>\n",
       "    </tr>\n",
       "  </thead>\n",
       "  <tbody>\n",
       "    <tr>\n",
       "      <th>0</th>\n",
       "      <td>0</td>\n",
       "      <td>0</td>\n",
       "      <td>0</td>\n",
       "    </tr>\n",
       "    <tr>\n",
       "      <th>1</th>\n",
       "      <td>1</td>\n",
       "      <td>1</td>\n",
       "      <td>1</td>\n",
       "    </tr>\n",
       "    <tr>\n",
       "      <th>2</th>\n",
       "      <td>2</td>\n",
       "      <td>2</td>\n",
       "      <td>3</td>\n",
       "    </tr>\n",
       "    <tr>\n",
       "      <th>3</th>\n",
       "      <td>3</td>\n",
       "      <td>2</td>\n",
       "      <td>5</td>\n",
       "    </tr>\n",
       "  </tbody>\n",
       "</table>\n",
       "</div>"
      ],
      "text/plain": [
       "   school_closures  workplace_closures  cases_per_mil_cat\n",
       "0                0                   0                  0\n",
       "1                1                   1                  1\n",
       "2                2                   2                  3\n",
       "3                3                   2                  5"
      ]
     },
     "execution_count": 13,
     "metadata": {},
     "output_type": "execute_result"
    }
   ],
   "source": [
    "from pgmpy.sampling import GibbsSampling\n",
    "gibbs = GibbsSampling(G)\n",
    "tlo"
   ]
  }
 ],
 "metadata": {
  "kernelspec": {
   "display_name": "Py3 (deeplearn_course)",
   "language": "python",
   "name": "deeplearn_course"
  },
  "language_info": {
   "codemirror_mode": {
    "name": "ipython",
    "version": 3
   },
   "file_extension": ".py",
   "mimetype": "text/x-python",
   "name": "python",
   "nbconvert_exporter": "python",
   "pygments_lexer": "ipython3",
   "version": "3.7.10"
  }
 },
 "nbformat": 4,
 "nbformat_minor": 5
}
