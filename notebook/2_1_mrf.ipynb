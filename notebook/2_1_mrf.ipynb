{
 "cells": [
  {
   "cell_type": "code",
   "execution_count": 1,
   "id": "45000ab2-ca87-4066-9e64-42116c9c814e",
   "metadata": {
    "execution": {
     "iopub.execute_input": "2022-04-01T10:07:36.986715Z",
     "iopub.status.busy": "2022-04-01T10:07:36.986483Z",
     "iopub.status.idle": "2022-04-01T10:07:43.492836Z",
     "shell.execute_reply": "2022-04-01T10:07:43.492176Z",
     "shell.execute_reply.started": "2022-04-01T10:07:36.986639Z"
    },
    "tags": []
   },
   "outputs": [],
   "source": [
    "import pandas as pd\n",
    "import numpy as np\n",
    "import matplotlib.pyplot as plt\n",
    "import seaborn as sns\n",
    "from pgmpy.estimators import PC\n",
    "from pgmpy.models import BayesianNetwork"
   ]
  },
  {
   "cell_type": "code",
   "execution_count": 2,
   "id": "afcc0701-7cc1-4208-bf19-08bd86c1cdbc",
   "metadata": {
    "execution": {
     "iopub.execute_input": "2022-04-01T10:07:43.494415Z",
     "iopub.status.busy": "2022-04-01T10:07:43.493856Z",
     "iopub.status.idle": "2022-04-01T10:07:43.860308Z",
     "shell.execute_reply": "2022-04-01T10:07:43.859666Z",
     "shell.execute_reply.started": "2022-04-01T10:07:43.494388Z"
    },
    "tags": []
   },
   "outputs": [
    {
     "name": "stdout",
     "output_type": "stream",
     "text": [
      "(23860, 17)\n"
     ]
    },
    {
     "data": {
      "text/html": [
       "<div>\n",
       "<style scoped>\n",
       "    .dataframe tbody tr th:only-of-type {\n",
       "        vertical-align: middle;\n",
       "    }\n",
       "\n",
       "    .dataframe tbody tr th {\n",
       "        vertical-align: top;\n",
       "    }\n",
       "\n",
       "    .dataframe thead th {\n",
       "        text-align: right;\n",
       "    }\n",
       "</style>\n",
       "<table border=\"1\" class=\"dataframe\">\n",
       "  <thead>\n",
       "    <tr style=\"text-align: right;\">\n",
       "      <th></th>\n",
       "      <th></th>\n",
       "      <th>school_closures</th>\n",
       "      <th>workplace_closures</th>\n",
       "      <th>cancel_public_events</th>\n",
       "      <th>restrict_public_gathering</th>\n",
       "      <th>closure_public_transport</th>\n",
       "      <th>shn_requirement</th>\n",
       "      <th>restriction_internal_movement</th>\n",
       "      <th>internation_travel_control</th>\n",
       "      <th>pi_campaign</th>\n",
       "      <th>testing_policy</th>\n",
       "      <th>contact_tracing</th>\n",
       "      <th>facial_covering</th>\n",
       "      <th>vaccine_policy</th>\n",
       "      <th>confirmed_cases</th>\n",
       "      <th>confirmed_deathes</th>\n",
       "      <th>cases_per_mil</th>\n",
       "      <th>cases_per_mil_cat</th>\n",
       "    </tr>\n",
       "    <tr>\n",
       "      <th>country</th>\n",
       "      <th>date</th>\n",
       "      <th></th>\n",
       "      <th></th>\n",
       "      <th></th>\n",
       "      <th></th>\n",
       "      <th></th>\n",
       "      <th></th>\n",
       "      <th></th>\n",
       "      <th></th>\n",
       "      <th></th>\n",
       "      <th></th>\n",
       "      <th></th>\n",
       "      <th></th>\n",
       "      <th></th>\n",
       "      <th></th>\n",
       "      <th></th>\n",
       "      <th></th>\n",
       "      <th></th>\n",
       "    </tr>\n",
       "  </thead>\n",
       "  <tbody>\n",
       "    <tr>\n",
       "      <th rowspan=\"5\" valign=\"top\">china</th>\n",
       "      <th>2020-05-02</th>\n",
       "      <td>2</td>\n",
       "      <td>1</td>\n",
       "      <td>1</td>\n",
       "      <td>3</td>\n",
       "      <td>0</td>\n",
       "      <td>0</td>\n",
       "      <td>1</td>\n",
       "      <td>4.0</td>\n",
       "      <td>2</td>\n",
       "      <td>3.0</td>\n",
       "      <td>2.0</td>\n",
       "      <td>2</td>\n",
       "      <td>0</td>\n",
       "      <td>991.0</td>\n",
       "      <td>6.0</td>\n",
       "      <td>0.684392</td>\n",
       "      <td>0</td>\n",
       "    </tr>\n",
       "    <tr>\n",
       "      <th>2020-05-03</th>\n",
       "      <td>2</td>\n",
       "      <td>1</td>\n",
       "      <td>1</td>\n",
       "      <td>3</td>\n",
       "      <td>0</td>\n",
       "      <td>0</td>\n",
       "      <td>1</td>\n",
       "      <td>4.0</td>\n",
       "      <td>2</td>\n",
       "      <td>3.0</td>\n",
       "      <td>2.0</td>\n",
       "      <td>2</td>\n",
       "      <td>0</td>\n",
       "      <td>991.0</td>\n",
       "      <td>6.0</td>\n",
       "      <td>0.684392</td>\n",
       "      <td>0</td>\n",
       "    </tr>\n",
       "    <tr>\n",
       "      <th>2020-05-04</th>\n",
       "      <td>2</td>\n",
       "      <td>1</td>\n",
       "      <td>1</td>\n",
       "      <td>3</td>\n",
       "      <td>0</td>\n",
       "      <td>0</td>\n",
       "      <td>1</td>\n",
       "      <td>4.0</td>\n",
       "      <td>2</td>\n",
       "      <td>3.0</td>\n",
       "      <td>2.0</td>\n",
       "      <td>2</td>\n",
       "      <td>0</td>\n",
       "      <td>991.0</td>\n",
       "      <td>6.0</td>\n",
       "      <td>0.684392</td>\n",
       "      <td>0</td>\n",
       "    </tr>\n",
       "    <tr>\n",
       "      <th>2020-05-05</th>\n",
       "      <td>2</td>\n",
       "      <td>1</td>\n",
       "      <td>1</td>\n",
       "      <td>3</td>\n",
       "      <td>0</td>\n",
       "      <td>0</td>\n",
       "      <td>1</td>\n",
       "      <td>4.0</td>\n",
       "      <td>2</td>\n",
       "      <td>3.0</td>\n",
       "      <td>2.0</td>\n",
       "      <td>2</td>\n",
       "      <td>0</td>\n",
       "      <td>991.0</td>\n",
       "      <td>6.0</td>\n",
       "      <td>0.684392</td>\n",
       "      <td>0</td>\n",
       "    </tr>\n",
       "    <tr>\n",
       "      <th>2020-05-06</th>\n",
       "      <td>2</td>\n",
       "      <td>1</td>\n",
       "      <td>1</td>\n",
       "      <td>3</td>\n",
       "      <td>0</td>\n",
       "      <td>0</td>\n",
       "      <td>1</td>\n",
       "      <td>4.0</td>\n",
       "      <td>2</td>\n",
       "      <td>3.0</td>\n",
       "      <td>2.0</td>\n",
       "      <td>2</td>\n",
       "      <td>0</td>\n",
       "      <td>991.0</td>\n",
       "      <td>6.0</td>\n",
       "      <td>0.684392</td>\n",
       "      <td>0</td>\n",
       "    </tr>\n",
       "  </tbody>\n",
       "</table>\n",
       "</div>"
      ],
      "text/plain": [
       "                    school_closures  workplace_closures  cancel_public_events  \\\n",
       "country date                                                                    \n",
       "china   2020-05-02                2                   1                     1   \n",
       "        2020-05-03                2                   1                     1   \n",
       "        2020-05-04                2                   1                     1   \n",
       "        2020-05-05                2                   1                     1   \n",
       "        2020-05-06                2                   1                     1   \n",
       "\n",
       "                    restrict_public_gathering  closure_public_transport  \\\n",
       "country date                                                              \n",
       "china   2020-05-02                          3                         0   \n",
       "        2020-05-03                          3                         0   \n",
       "        2020-05-04                          3                         0   \n",
       "        2020-05-05                          3                         0   \n",
       "        2020-05-06                          3                         0   \n",
       "\n",
       "                    shn_requirement  restriction_internal_movement  \\\n",
       "country date                                                         \n",
       "china   2020-05-02                0                              1   \n",
       "        2020-05-03                0                              1   \n",
       "        2020-05-04                0                              1   \n",
       "        2020-05-05                0                              1   \n",
       "        2020-05-06                0                              1   \n",
       "\n",
       "                    internation_travel_control  pi_campaign  testing_policy  \\\n",
       "country date                                                                  \n",
       "china   2020-05-02                         4.0            2             3.0   \n",
       "        2020-05-03                         4.0            2             3.0   \n",
       "        2020-05-04                         4.0            2             3.0   \n",
       "        2020-05-05                         4.0            2             3.0   \n",
       "        2020-05-06                         4.0            2             3.0   \n",
       "\n",
       "                    contact_tracing  facial_covering  vaccine_policy  \\\n",
       "country date                                                           \n",
       "china   2020-05-02              2.0                2               0   \n",
       "        2020-05-03              2.0                2               0   \n",
       "        2020-05-04              2.0                2               0   \n",
       "        2020-05-05              2.0                2               0   \n",
       "        2020-05-06              2.0                2               0   \n",
       "\n",
       "                    confirmed_cases  confirmed_deathes  cases_per_mil  \\\n",
       "country date                                                            \n",
       "china   2020-05-02            991.0                6.0       0.684392   \n",
       "        2020-05-03            991.0                6.0       0.684392   \n",
       "        2020-05-04            991.0                6.0       0.684392   \n",
       "        2020-05-05            991.0                6.0       0.684392   \n",
       "        2020-05-06            991.0                6.0       0.684392   \n",
       "\n",
       "                    cases_per_mil_cat  \n",
       "country date                           \n",
       "china   2020-05-02                  0  \n",
       "        2020-05-03                  0  \n",
       "        2020-05-04                  0  \n",
       "        2020-05-05                  0  \n",
       "        2020-05-06                  0  "
      ]
     },
     "execution_count": 2,
     "metadata": {},
     "output_type": "execute_result"
    }
   ],
   "source": [
    "covid_policies_df = pd.read_csv(\n",
    "    \"../data/processed/categorical_policies.csv\"\n",
    ")\n",
    "covid_policies_df.set_index([\"country\", \"date\"], inplace=True)\n",
    "print(covid_policies_df.shape)\n",
    "covid_policies_df.head()"
   ]
  },
  {
   "cell_type": "code",
   "execution_count": 3,
   "id": "19f6493c-bde8-499c-bf83-e69c2028d4cc",
   "metadata": {
    "execution": {
     "iopub.execute_input": "2022-04-01T10:07:43.862927Z",
     "iopub.status.busy": "2022-04-01T10:07:43.862582Z",
     "iopub.status.idle": "2022-04-01T10:07:43.891203Z",
     "shell.execute_reply": "2022-04-01T10:07:43.890320Z",
     "shell.execute_reply.started": "2022-04-01T10:07:43.862900Z"
    },
    "tags": []
   },
   "outputs": [
    {
     "data": {
      "text/html": [
       "<div>\n",
       "<style scoped>\n",
       "    .dataframe tbody tr th:only-of-type {\n",
       "        vertical-align: middle;\n",
       "    }\n",
       "\n",
       "    .dataframe tbody tr th {\n",
       "        vertical-align: top;\n",
       "    }\n",
       "\n",
       "    .dataframe thead th {\n",
       "        text-align: right;\n",
       "    }\n",
       "</style>\n",
       "<table border=\"1\" class=\"dataframe\">\n",
       "  <thead>\n",
       "    <tr style=\"text-align: right;\">\n",
       "      <th></th>\n",
       "      <th>school_closures</th>\n",
       "      <th>workplace_closures</th>\n",
       "      <th>cases_per_mil</th>\n",
       "      <th>cases_per_mil_cat</th>\n",
       "      <th>confirmed_cases</th>\n",
       "    </tr>\n",
       "    <tr>\n",
       "      <th>date</th>\n",
       "      <th></th>\n",
       "      <th></th>\n",
       "      <th></th>\n",
       "      <th></th>\n",
       "      <th></th>\n",
       "    </tr>\n",
       "  </thead>\n",
       "  <tbody>\n",
       "    <tr>\n",
       "      <th>2020-05-02</th>\n",
       "      <td>3</td>\n",
       "      <td>3</td>\n",
       "      <td>3219.816514</td>\n",
       "      <td>0</td>\n",
       "      <td>17548.0</td>\n",
       "    </tr>\n",
       "    <tr>\n",
       "      <th>2020-05-03</th>\n",
       "      <td>3</td>\n",
       "      <td>3</td>\n",
       "      <td>3340.366972</td>\n",
       "      <td>0</td>\n",
       "      <td>18205.0</td>\n",
       "    </tr>\n",
       "    <tr>\n",
       "      <th>2020-05-04</th>\n",
       "      <td>3</td>\n",
       "      <td>3</td>\n",
       "      <td>3445.504587</td>\n",
       "      <td>0</td>\n",
       "      <td>18778.0</td>\n",
       "    </tr>\n",
       "    <tr>\n",
       "      <th>2020-05-05</th>\n",
       "      <td>3</td>\n",
       "      <td>3</td>\n",
       "      <td>3561.467890</td>\n",
       "      <td>0</td>\n",
       "      <td>19410.0</td>\n",
       "    </tr>\n",
       "    <tr>\n",
       "      <th>2020-05-06</th>\n",
       "      <td>3</td>\n",
       "      <td>3</td>\n",
       "      <td>3706.055046</td>\n",
       "      <td>0</td>\n",
       "      <td>20198.0</td>\n",
       "    </tr>\n",
       "  </tbody>\n",
       "</table>\n",
       "</div>"
      ],
      "text/plain": [
       "            school_closures  workplace_closures  cases_per_mil  \\\n",
       "date                                                             \n",
       "2020-05-02                3                   3    3219.816514   \n",
       "2020-05-03                3                   3    3340.366972   \n",
       "2020-05-04                3                   3    3445.504587   \n",
       "2020-05-05                3                   3    3561.467890   \n",
       "2020-05-06                3                   3    3706.055046   \n",
       "\n",
       "            cases_per_mil_cat  confirmed_cases  \n",
       "date                                            \n",
       "2020-05-02                  0          17548.0  \n",
       "2020-05-03                  0          18205.0  \n",
       "2020-05-04                  0          18778.0  \n",
       "2020-05-05                  0          19410.0  \n",
       "2020-05-06                  0          20198.0  "
      ]
     },
     "execution_count": 3,
     "metadata": {},
     "output_type": "execute_result"
    }
   ],
   "source": [
    "sg_filtered = covid_policies_df.loc[\n",
    "    \"singapore\",\n",
    "    [\n",
    "        \"school_closures\",\n",
    "        \"workplace_closures\",\n",
    "        #         \"cancel_public_events\",\n",
    "        #         \"restrict_public_gathering\",\n",
    "        #         \"closure_public_transport\",\n",
    "        \"cases_per_mil\",\n",
    "        \"cases_per_mil_cat\",\n",
    "        \"confirmed_cases\",\n",
    "    ],\n",
    "]\n",
    "sg_filtered.head()"
   ]
  },
  {
   "cell_type": "code",
   "execution_count": 4,
   "id": "d9e0213f-cd60-4a63-9bb2-a95ed61a2daf",
   "metadata": {
    "execution": {
     "iopub.execute_input": "2022-04-01T10:07:43.892709Z",
     "iopub.status.busy": "2022-04-01T10:07:43.892443Z",
     "iopub.status.idle": "2022-04-01T10:07:43.921359Z",
     "shell.execute_reply": "2022-04-01T10:07:43.920452Z",
     "shell.execute_reply.started": "2022-04-01T10:07:43.892679Z"
    },
    "tags": []
   },
   "outputs": [
    {
     "data": {
      "text/html": [
       "<div>\n",
       "<style scoped>\n",
       "    .dataframe tbody tr th:only-of-type {\n",
       "        vertical-align: middle;\n",
       "    }\n",
       "\n",
       "    .dataframe tbody tr th {\n",
       "        vertical-align: top;\n",
       "    }\n",
       "\n",
       "    .dataframe thead th {\n",
       "        text-align: right;\n",
       "    }\n",
       "</style>\n",
       "<table border=\"1\" class=\"dataframe\">\n",
       "  <thead>\n",
       "    <tr style=\"text-align: right;\">\n",
       "      <th></th>\n",
       "      <th>school_closures</th>\n",
       "      <th>workplace_closures</th>\n",
       "      <th>cases_per_mil</th>\n",
       "      <th>cases_per_mil_cat</th>\n",
       "      <th>confirmed_cases</th>\n",
       "    </tr>\n",
       "    <tr>\n",
       "      <th>date</th>\n",
       "      <th></th>\n",
       "      <th></th>\n",
       "      <th></th>\n",
       "      <th></th>\n",
       "      <th></th>\n",
       "    </tr>\n",
       "  </thead>\n",
       "  <tbody>\n",
       "    <tr>\n",
       "      <th>2020-05-02</th>\n",
       "      <td>3</td>\n",
       "      <td>3</td>\n",
       "      <td>193.00000</td>\n",
       "      <td>0</td>\n",
       "      <td>6176.0</td>\n",
       "    </tr>\n",
       "    <tr>\n",
       "      <th>2020-05-03</th>\n",
       "      <td>3</td>\n",
       "      <td>3</td>\n",
       "      <td>196.81250</td>\n",
       "      <td>0</td>\n",
       "      <td>6298.0</td>\n",
       "    </tr>\n",
       "    <tr>\n",
       "      <th>2020-05-04</th>\n",
       "      <td>3</td>\n",
       "      <td>2</td>\n",
       "      <td>198.53125</td>\n",
       "      <td>0</td>\n",
       "      <td>6353.0</td>\n",
       "    </tr>\n",
       "    <tr>\n",
       "      <th>2020-05-05</th>\n",
       "      <td>3</td>\n",
       "      <td>2</td>\n",
       "      <td>199.46875</td>\n",
       "      <td>0</td>\n",
       "      <td>6383.0</td>\n",
       "    </tr>\n",
       "    <tr>\n",
       "      <th>2020-05-06</th>\n",
       "      <td>3</td>\n",
       "      <td>2</td>\n",
       "      <td>200.87500</td>\n",
       "      <td>0</td>\n",
       "      <td>6428.0</td>\n",
       "    </tr>\n",
       "  </tbody>\n",
       "</table>\n",
       "</div>"
      ],
      "text/plain": [
       "            school_closures  workplace_closures  cases_per_mil  \\\n",
       "date                                                             \n",
       "2020-05-02                3                   3      193.00000   \n",
       "2020-05-03                3                   3      196.81250   \n",
       "2020-05-04                3                   2      198.53125   \n",
       "2020-05-05                3                   2      199.46875   \n",
       "2020-05-06                3                   2      200.87500   \n",
       "\n",
       "            cases_per_mil_cat  confirmed_cases  \n",
       "date                                            \n",
       "2020-05-02                  0           6176.0  \n",
       "2020-05-03                  0           6298.0  \n",
       "2020-05-04                  0           6353.0  \n",
       "2020-05-05                  0           6383.0  \n",
       "2020-05-06                  0           6428.0  "
      ]
     },
     "execution_count": 4,
     "metadata": {},
     "output_type": "execute_result"
    }
   ],
   "source": [
    "ml_filtered = covid_policies_df.loc[\n",
    "    \"malaysia\",\n",
    "    [\n",
    "        \"school_closures\",\n",
    "        \"workplace_closures\",\n",
    "        #         \"cancel_public_events\",\n",
    "        #         \"restrict_public_gathering\",\n",
    "        #         \"closure_public_transport\",\n",
    "        \"cases_per_mil\",\n",
    "        \"cases_per_mil_cat\",\n",
    "        \"confirmed_cases\",\n",
    "    ],\n",
    "]\n",
    "\n",
    "ml_filtered.head()"
   ]
  },
  {
   "cell_type": "code",
   "execution_count": 5,
   "id": "1429095c-1557-41ad-a3dc-08afbf260d53",
   "metadata": {
    "execution": {
     "iopub.execute_input": "2022-04-01T10:07:43.922962Z",
     "iopub.status.busy": "2022-04-01T10:07:43.922544Z",
     "iopub.status.idle": "2022-04-01T10:07:44.124884Z",
     "shell.execute_reply": "2022-04-01T10:07:44.124182Z",
     "shell.execute_reply.started": "2022-04-01T10:07:43.922922Z"
    },
    "tags": []
   },
   "outputs": [
    {
     "data": {
      "text/plain": [
       "<AxesSubplot:xlabel='cases_per_mil', ylabel='Count'>"
      ]
     },
     "execution_count": 5,
     "metadata": {},
     "output_type": "execute_result"
    },
    {
     "data": {
      "image/png": "[encoded data removed]",
      "text/plain": [
       "<Figure size 432x288 with 1 Axes>"
      ]
     },
     "metadata": {
      "needs_background": "light"
     },
     "output_type": "display_data"
    }
   ],
   "source": [
    "import seaborn as sns\n",
    "\n",
    "sns.histplot(ml_filtered.cases_per_mil, bins=5)"
   ]
  },
  {
   "cell_type": "code",
   "execution_count": 6,
   "id": "967d0748-ce74-47a6-ad57-d271fb9dcb78",
   "metadata": {
    "execution": {
     "iopub.execute_input": "2022-04-01T10:07:44.126226Z",
     "iopub.status.busy": "2022-04-01T10:07:44.125908Z",
     "iopub.status.idle": "2022-04-01T10:07:44.139949Z",
     "shell.execute_reply": "2022-04-01T10:07:44.139244Z",
     "shell.execute_reply.started": "2022-04-01T10:07:44.126199Z"
    },
    "tags": []
   },
   "outputs": [],
   "source": [
    "# from pgmpy.estimators import PC\n",
    "\n",
    "# est = PC(data=sg_filtered[[\"school_closures\", \"workplace_closures\", \"cases_per_mil_cat\"]].iloc[:500], )\n",
    "# res = est.estimate(max_cond_vars=3)\n",
    "# import networkx as nx\n",
    "\n",
    "# nx.draw(res, with_labels=True)"
   ]
  },
  {
   "cell_type": "markdown",
   "id": "3d9d17cb-5ecd-4a90-b658-788ad13fe6ab",
   "metadata": {},
   "source": [
    "## Contruct MRF with a subset of features"
   ]
  },
  {
   "cell_type": "code",
   "execution_count": 7,
   "id": "bd406d2d-c660-4f41-a1ba-83c09d6f6495",
   "metadata": {
    "execution": {
     "iopub.execute_input": "2022-04-01T10:07:44.149873Z",
     "iopub.status.busy": "2022-04-01T10:07:44.149605Z",
     "iopub.status.idle": "2022-04-01T10:07:44.277378Z",
     "shell.execute_reply": "2022-04-01T10:07:44.276771Z",
     "shell.execute_reply.started": "2022-04-01T10:07:44.149843Z"
    },
    "tags": []
   },
   "outputs": [
    {
     "data": {
      "image/png": "[encoded data removed]",
      "text/plain": [
       "<Figure size 432x288 with 1 Axes>"
      ]
     },
     "metadata": {},
     "output_type": "display_data"
    }
   ],
   "source": [
    "import networkx as nx\n",
    "from pgmpy.models import MarkovNetwork, BayesianNetwork\n",
    "\n",
    "# G = MarkovNetwork()\n",
    "# G.add_nodes_from([\"school_closures\", \"workplace_closures\", \"cases_per_mil_cat\"])\n",
    "# G.add_edges_from([(\"school_closures\", \"workplace_closures\"),\n",
    "#                   (\"workplace_closures\", \"cases_per_mil_cat\")\n",
    "#                  ])\n",
    "# nx.draw(G, with_labels=True)\n",
    "\n",
    "\n",
    "sample_model = BayesianNetwork(\n",
    "    [\n",
    "        (\"school_closures\", \"cases_per_mil_cat\"),\n",
    "        (\"workplace_closures\", \"cases_per_mil_cat\"),\n",
    "    ]\n",
    ")\n",
    "G = sample_model.to_markov_model()\n",
    "nx.draw(G, with_labels=True)"
   ]
  },
  {
   "cell_type": "code",
   "execution_count": 8,
   "id": "848fc339-169a-4de9-bb2e-e162ac09303f",
   "metadata": {
    "execution": {
     "iopub.execute_input": "2022-04-01T10:08:11.370276Z",
     "iopub.status.busy": "2022-04-01T10:08:11.369744Z",
     "iopub.status.idle": "2022-04-01T10:08:11.390775Z",
     "shell.execute_reply": "2022-04-01T10:08:11.389688Z",
     "shell.execute_reply.started": "2022-04-01T10:08:11.370250Z"
    },
    "tags": []
   },
   "outputs": [
    {
     "name": "stdout",
     "output_type": "stream",
     "text": [
      "[3 2 1 0]\n",
      "[3 2 1]\n",
      "[0 1 2 3 4 5]\n"
     ]
    }
   ],
   "source": [
    "for column in [\"school_closures\", \"workplace_closures\", \"cases_per_mil_cat\"]:\n",
    "    print(ml_filtered[column].unique())"
   ]
  },
  {
   "cell_type": "code",
   "execution_count": 9,
   "id": "ecd4737c-3613-4b56-9ab5-8601801950a0",
   "metadata": {
    "execution": {
     "iopub.execute_input": "2022-04-01T10:08:12.463729Z",
     "iopub.status.busy": "2022-04-01T10:08:12.463263Z",
     "iopub.status.idle": "2022-04-01T10:08:12.584408Z",
     "shell.execute_reply": "2022-04-01T10:08:12.583742Z",
     "shell.execute_reply.started": "2022-04-01T10:08:12.463703Z"
    },
    "tags": []
   },
   "outputs": [
    {
     "data": {
      "image/png": "[encoded data removed]",
      "text/plain": [
       "<Figure size 432x288 with 1 Axes>"
      ]
     },
     "metadata": {},
     "output_type": "display_data"
    }
   ],
   "source": [
    "from pgmpy.factors.discrete import DiscreteFactor\n",
    "phi = DiscreteFactor([\"school_closures\", \"workplace_closures\", \"cases_per_mil_cat\"], [4, 3, 6], np.ones(72))\n",
    "G.add_factors(phi)\n",
    "nx.draw(G.to_factor_graph(), with_labels=True)"
   ]
  },
  {
   "cell_type": "code",
   "execution_count": null,
   "id": "02ffd17b-e586-4fab-8652-bf19411d7a83",
   "metadata": {
    "tags": []
   },
   "outputs": [],
   "source": [
    "from pgmpy.inference import BeliefPropagation\n",
    "bp = BeliefPropagation(G)\n",
    "bp.map_query([\"cases_per_mil_cat\"], evidence={\"school_closures\": 2, \"workplace_closures\": 1})"
   ]
  },
  {
   "cell_type": "code",
   "execution_count": null,
   "id": "149c0816-9a4a-4725-b8d7-e1e86b870e7b",
   "metadata": {
    "tags": []
   },
   "outputs": [],
   "source": [
    "from sklearn.model_selection import train_test_split\n",
    "\n",
    "x_train, x_test, y_train, y_test = train_test_split(\n",
    "    ml_filtered[[\"school_closures\", \"workplace_closures\"]],\n",
    "    ml_filtered[[\"cases_per_mil_cat\"]],\n",
    ")\n",
    "x_train.shape, x_test.shape"
   ]
  },
  {
   "cell_type": "code",
   "execution_count": null,
   "id": "ae44438d-cba5-48aa-adbf-9477423c4752",
   "metadata": {
    "tags": []
   },
   "outputs": [],
   "source": [
    "y_train.cases_per_mil_cat.value_counts()"
   ]
  },
  {
   "cell_type": "code",
   "execution_count": null,
   "id": "b0f40aa3-4e66-4891-95f7-ff5fa4508fc8",
   "metadata": {
    "tags": []
   },
   "outputs": [],
   "source": [
    "y_test.cases_per_mil_cat.value_counts()"
   ]
  },
  {
   "cell_type": "code",
   "execution_count": null,
   "id": "90171e62-7918-4e57-94b8-97c187767817",
   "metadata": {
    "tags": []
   },
   "outputs": [],
   "source": [
    "from pgmpy.estimators import MaximumLikelihoodEstimator\n",
    "\n",
    "G.fit(pd.concat([x_train, y_train], axis=1), MaximumLikelihoodEstimator)"
   ]
  },
  {
   "cell_type": "code",
   "execution_count": null,
   "id": "73c8a0f4-9668-4ee7-97f5-0440b9a357c2",
   "metadata": {
    "tags": []
   },
   "outputs": [],
   "source": [
    "for cpd in sample_model.get_cpds():\n",
    "    print(cpd)"
   ]
  },
  {
   "cell_type": "code",
   "execution_count": null,
   "id": "b3add5a0-3f6e-4929-8bb8-cc8bed069358",
   "metadata": {
    "tags": []
   },
   "outputs": [],
   "source": [
    "from pgmpy.inference import VariableElimination\n",
    "\n",
    "ve = VariableElimination(sample_model)\n",
    "\n",
    "print(\n",
    "    ve.query(\n",
    "        [\"cases_per_mil_cat\"], evidence={\"school_closures\": 2, \"workplace_closures\": 1}\n",
    "    )\n",
    ")"
   ]
  }
 ],
 "metadata": {
  "kernelspec": {
   "display_name": "Py3 (deeplearn_course)",
   "language": "python",
   "name": "deeplearn_course"
  },
  "language_info": {
   "codemirror_mode": {
    "name": "ipython",
    "version": 3
   },
   "file_extension": ".py",
   "mimetype": "text/x-python",
   "name": "python",
   "nbconvert_exporter": "python",
   "pygments_lexer": "ipython3",
   "version": "3.7.10"
  }
 },
 "nbformat": 4,
 "nbformat_minor": 5
}
