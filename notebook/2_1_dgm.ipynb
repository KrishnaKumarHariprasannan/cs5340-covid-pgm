{
 "cells": [
  {
   "cell_type": "code",
   "execution_count": 1,
   "id": "db943630-9ff7-4344-b92a-308f1cba2a13",
   "metadata": {
    "execution": {
     "iopub.execute_input": "2022-04-10T10:45:37.847665Z",
     "iopub.status.busy": "2022-04-10T10:45:37.847199Z",
     "iopub.status.idle": "2022-04-10T10:45:37.983702Z",
     "shell.execute_reply": "2022-04-10T10:45:37.982748Z",
     "shell.execute_reply.started": "2022-04-10T10:45:37.847584Z"
    },
    "tags": []
   },
   "outputs": [],
   "source": [
    "import sys\n",
    "\n",
    "sys.path.append(\"../src/\")"
   ]
  },
  {
   "cell_type": "code",
   "execution_count": 2,
   "id": "45000ab2-ca87-4066-9e64-42116c9c814e",
   "metadata": {
    "execution": {
     "iopub.execute_input": "2022-04-10T10:45:37.985061Z",
     "iopub.status.busy": "2022-04-10T10:45:37.984760Z",
     "iopub.status.idle": "2022-04-10T10:45:42.109084Z",
     "shell.execute_reply": "2022-04-10T10:45:42.108400Z",
     "shell.execute_reply.started": "2022-04-10T10:45:37.985036Z"
    },
    "tags": []
   },
   "outputs": [],
   "source": [
    "import pandas as pd\n",
    "import numpy as np\n",
    "import matplotlib.pyplot as plt\n",
    "import seaborn as sns\n",
    "from pgmpy.estimators import PC\n",
    "from pgmpy.models import BayesianNetwork\n",
    "\n",
    "from utils import compute_evaluation_metrics"
   ]
  },
  {
   "cell_type": "code",
   "execution_count": 3,
   "id": "afcc0701-7cc1-4208-bf19-08bd86c1cdbc",
   "metadata": {
    "execution": {
     "iopub.execute_input": "2022-04-10T10:45:42.111485Z",
     "iopub.status.busy": "2022-04-10T10:45:42.111189Z",
     "iopub.status.idle": "2022-04-10T10:45:42.435242Z",
     "shell.execute_reply": "2022-04-10T10:45:42.434638Z",
     "shell.execute_reply.started": "2022-04-10T10:45:42.111445Z"
    },
    "tags": []
   },
   "outputs": [
    {
     "name": "stdout",
     "output_type": "stream",
     "text": [
      "(11993, 19)\n"
     ]
    },
    {
     "data": {
      "text/html": [
       "<div>\n",
       "<style scoped>\n",
       "    .dataframe tbody tr th:only-of-type {\n",
       "        vertical-align: middle;\n",
       "    }\n",
       "\n",
       "    .dataframe tbody tr th {\n",
       "        vertical-align: top;\n",
       "    }\n",
       "\n",
       "    .dataframe thead th {\n",
       "        text-align: right;\n",
       "    }\n",
       "</style>\n",
       "<table border=\"1\" class=\"dataframe\">\n",
       "  <thead>\n",
       "    <tr style=\"text-align: right;\">\n",
       "      <th></th>\n",
       "      <th>Country</th>\n",
       "      <th>Date</th>\n",
       "      <th>school_closures</th>\n",
       "      <th>workplace_closures</th>\n",
       "      <th>cancel_public_events</th>\n",
       "      <th>restrict_public_gathering</th>\n",
       "      <th>closure_public_transport</th>\n",
       "      <th>SHN_requirement</th>\n",
       "      <th>restriction_internal_movement</th>\n",
       "      <th>internation_travel_control</th>\n",
       "      <th>PI_Campaign</th>\n",
       "      <th>testing_policy</th>\n",
       "      <th>contact_tracing</th>\n",
       "      <th>Facial_Covering</th>\n",
       "      <th>Vaccine_policy</th>\n",
       "      <th>income_support</th>\n",
       "      <th>debt_relief</th>\n",
       "      <th>Confirmed_cases</th>\n",
       "      <th>Confirmed_Deathes</th>\n",
       "    </tr>\n",
       "  </thead>\n",
       "  <tbody>\n",
       "    <tr>\n",
       "      <th>0</th>\n",
       "      <td>Argentina</td>\n",
       "      <td>2020-05-02</td>\n",
       "      <td>3G</td>\n",
       "      <td>3T</td>\n",
       "      <td>2G</td>\n",
       "      <td>4G</td>\n",
       "      <td>2G</td>\n",
       "      <td>2G</td>\n",
       "      <td>1G</td>\n",
       "      <td>4.0</td>\n",
       "      <td>2G</td>\n",
       "      <td>1.0</td>\n",
       "      <td>2.0</td>\n",
       "      <td>3G</td>\n",
       "      <td>0</td>\n",
       "      <td>1A</td>\n",
       "      <td>2.0</td>\n",
       "      <td>4681.0</td>\n",
       "      <td>237.0</td>\n",
       "    </tr>\n",
       "    <tr>\n",
       "      <th>1</th>\n",
       "      <td>Argentina</td>\n",
       "      <td>2020-05-03</td>\n",
       "      <td>3G</td>\n",
       "      <td>3T</td>\n",
       "      <td>2G</td>\n",
       "      <td>4G</td>\n",
       "      <td>2G</td>\n",
       "      <td>2G</td>\n",
       "      <td>1G</td>\n",
       "      <td>4.0</td>\n",
       "      <td>2G</td>\n",
       "      <td>1.0</td>\n",
       "      <td>2.0</td>\n",
       "      <td>3G</td>\n",
       "      <td>0</td>\n",
       "      <td>1A</td>\n",
       "      <td>2.0</td>\n",
       "      <td>4783.0</td>\n",
       "      <td>246.0</td>\n",
       "    </tr>\n",
       "    <tr>\n",
       "      <th>2</th>\n",
       "      <td>Argentina</td>\n",
       "      <td>2020-05-04</td>\n",
       "      <td>3G</td>\n",
       "      <td>3T</td>\n",
       "      <td>2G</td>\n",
       "      <td>4G</td>\n",
       "      <td>2G</td>\n",
       "      <td>2G</td>\n",
       "      <td>1G</td>\n",
       "      <td>4.0</td>\n",
       "      <td>2G</td>\n",
       "      <td>1.0</td>\n",
       "      <td>2.0</td>\n",
       "      <td>3G</td>\n",
       "      <td>0</td>\n",
       "      <td>1A</td>\n",
       "      <td>2.0</td>\n",
       "      <td>4887.0</td>\n",
       "      <td>260.0</td>\n",
       "    </tr>\n",
       "    <tr>\n",
       "      <th>3</th>\n",
       "      <td>Argentina</td>\n",
       "      <td>2020-05-05</td>\n",
       "      <td>3G</td>\n",
       "      <td>3T</td>\n",
       "      <td>2G</td>\n",
       "      <td>4G</td>\n",
       "      <td>2G</td>\n",
       "      <td>2G</td>\n",
       "      <td>1G</td>\n",
       "      <td>4.0</td>\n",
       "      <td>2G</td>\n",
       "      <td>1.0</td>\n",
       "      <td>2.0</td>\n",
       "      <td>3G</td>\n",
       "      <td>0</td>\n",
       "      <td>1A</td>\n",
       "      <td>2.0</td>\n",
       "      <td>5020.0</td>\n",
       "      <td>264.0</td>\n",
       "    </tr>\n",
       "    <tr>\n",
       "      <th>4</th>\n",
       "      <td>Argentina</td>\n",
       "      <td>2020-05-06</td>\n",
       "      <td>3G</td>\n",
       "      <td>3T</td>\n",
       "      <td>2G</td>\n",
       "      <td>4G</td>\n",
       "      <td>2G</td>\n",
       "      <td>2G</td>\n",
       "      <td>1G</td>\n",
       "      <td>4.0</td>\n",
       "      <td>2G</td>\n",
       "      <td>1.0</td>\n",
       "      <td>2.0</td>\n",
       "      <td>3G</td>\n",
       "      <td>0</td>\n",
       "      <td>1A</td>\n",
       "      <td>2.0</td>\n",
       "      <td>5208.0</td>\n",
       "      <td>273.0</td>\n",
       "    </tr>\n",
       "  </tbody>\n",
       "</table>\n",
       "</div>"
      ],
      "text/plain": [
       "     Country        Date school_closures workplace_closures  \\\n",
       "0  Argentina  2020-05-02              3G                 3T   \n",
       "1  Argentina  2020-05-03              3G                 3T   \n",
       "2  Argentina  2020-05-04              3G                 3T   \n",
       "3  Argentina  2020-05-05              3G                 3T   \n",
       "4  Argentina  2020-05-06              3G                 3T   \n",
       "\n",
       "  cancel_public_events restrict_public_gathering closure_public_transport  \\\n",
       "0                   2G                        4G                       2G   \n",
       "1                   2G                        4G                       2G   \n",
       "2                   2G                        4G                       2G   \n",
       "3                   2G                        4G                       2G   \n",
       "4                   2G                        4G                       2G   \n",
       "\n",
       "  SHN_requirement restriction_internal_movement  internation_travel_control  \\\n",
       "0              2G                            1G                         4.0   \n",
       "1              2G                            1G                         4.0   \n",
       "2              2G                            1G                         4.0   \n",
       "3              2G                            1G                         4.0   \n",
       "4              2G                            1G                         4.0   \n",
       "\n",
       "  PI_Campaign  testing_policy  contact_tracing Facial_Covering Vaccine_policy  \\\n",
       "0          2G             1.0              2.0              3G              0   \n",
       "1          2G             1.0              2.0              3G              0   \n",
       "2          2G             1.0              2.0              3G              0   \n",
       "3          2G             1.0              2.0              3G              0   \n",
       "4          2G             1.0              2.0              3G              0   \n",
       "\n",
       "  income_support  debt_relief  Confirmed_cases  Confirmed_Deathes  \n",
       "0             1A          2.0           4681.0              237.0  \n",
       "1             1A          2.0           4783.0              246.0  \n",
       "2             1A          2.0           4887.0              260.0  \n",
       "3             1A          2.0           5020.0              264.0  \n",
       "4             1A          2.0           5208.0              273.0  "
      ]
     },
     "execution_count": 3,
     "metadata": {},
     "output_type": "execute_result"
    }
   ],
   "source": [
    "covid_policies_df = pd.read_csv(\n",
    "    \"../data/processed/Final_Data_Combined.csv\", index_col=0\n",
    ")\n",
    "print(covid_policies_df.shape)\n",
    "covid_policies_df.head()"
   ]
  },
  {
   "cell_type": "markdown",
   "id": "d1180909-3fd6-4dd0-8a5a-7b616b6b2d7d",
   "metadata": {},
   "source": [
    "## Preprocessing"
   ]
  },
  {
   "cell_type": "code",
   "execution_count": 4,
   "id": "80d690bd-ee21-490a-9964-30bbc9b26539",
   "metadata": {
    "execution": {
     "iopub.execute_input": "2022-04-10T10:45:42.436909Z",
     "iopub.status.busy": "2022-04-10T10:45:42.436480Z",
     "iopub.status.idle": "2022-04-10T10:45:42.495724Z",
     "shell.execute_reply": "2022-04-10T10:45:42.494945Z",
     "shell.execute_reply.started": "2022-04-10T10:45:42.436880Z"
    },
    "tags": []
   },
   "outputs": [
    {
     "name": "stdout",
     "output_type": "stream",
     "text": [
      "(11993, 17)\n"
     ]
    },
    {
     "data": {
      "text/html": [
       "<div>\n",
       "<style scoped>\n",
       "    .dataframe tbody tr th:only-of-type {\n",
       "        vertical-align: middle;\n",
       "    }\n",
       "\n",
       "    .dataframe tbody tr th {\n",
       "        vertical-align: top;\n",
       "    }\n",
       "\n",
       "    .dataframe thead th {\n",
       "        text-align: right;\n",
       "    }\n",
       "</style>\n",
       "<table border=\"1\" class=\"dataframe\">\n",
       "  <thead>\n",
       "    <tr style=\"text-align: right;\">\n",
       "      <th></th>\n",
       "      <th></th>\n",
       "      <th>school_closures</th>\n",
       "      <th>workplace_closures</th>\n",
       "      <th>cancel_public_events</th>\n",
       "      <th>restrict_public_gathering</th>\n",
       "      <th>closure_public_transport</th>\n",
       "      <th>shn_requirement</th>\n",
       "      <th>restriction_internal_movement</th>\n",
       "      <th>internation_travel_control</th>\n",
       "      <th>pi_campaign</th>\n",
       "      <th>testing_policy</th>\n",
       "      <th>contact_tracing</th>\n",
       "      <th>facial_covering</th>\n",
       "      <th>vaccine_policy</th>\n",
       "      <th>income_support</th>\n",
       "      <th>debt_relief</th>\n",
       "      <th>confirmed_cases</th>\n",
       "      <th>confirmed_deathes</th>\n",
       "    </tr>\n",
       "    <tr>\n",
       "      <th>country</th>\n",
       "      <th>date</th>\n",
       "      <th></th>\n",
       "      <th></th>\n",
       "      <th></th>\n",
       "      <th></th>\n",
       "      <th></th>\n",
       "      <th></th>\n",
       "      <th></th>\n",
       "      <th></th>\n",
       "      <th></th>\n",
       "      <th></th>\n",
       "      <th></th>\n",
       "      <th></th>\n",
       "      <th></th>\n",
       "      <th></th>\n",
       "      <th></th>\n",
       "      <th></th>\n",
       "      <th></th>\n",
       "    </tr>\n",
       "  </thead>\n",
       "  <tbody>\n",
       "    <tr>\n",
       "      <th rowspan=\"5\" valign=\"top\">argentina</th>\n",
       "      <th>2020-05-02</th>\n",
       "      <td>3G</td>\n",
       "      <td>3T</td>\n",
       "      <td>2G</td>\n",
       "      <td>4G</td>\n",
       "      <td>2G</td>\n",
       "      <td>2G</td>\n",
       "      <td>1G</td>\n",
       "      <td>4.0</td>\n",
       "      <td>2G</td>\n",
       "      <td>1.0</td>\n",
       "      <td>2.0</td>\n",
       "      <td>3G</td>\n",
       "      <td>0</td>\n",
       "      <td>1A</td>\n",
       "      <td>2.0</td>\n",
       "      <td>4681.0</td>\n",
       "      <td>237.0</td>\n",
       "    </tr>\n",
       "    <tr>\n",
       "      <th>2020-05-03</th>\n",
       "      <td>3G</td>\n",
       "      <td>3T</td>\n",
       "      <td>2G</td>\n",
       "      <td>4G</td>\n",
       "      <td>2G</td>\n",
       "      <td>2G</td>\n",
       "      <td>1G</td>\n",
       "      <td>4.0</td>\n",
       "      <td>2G</td>\n",
       "      <td>1.0</td>\n",
       "      <td>2.0</td>\n",
       "      <td>3G</td>\n",
       "      <td>0</td>\n",
       "      <td>1A</td>\n",
       "      <td>2.0</td>\n",
       "      <td>4783.0</td>\n",
       "      <td>246.0</td>\n",
       "    </tr>\n",
       "    <tr>\n",
       "      <th>2020-05-04</th>\n",
       "      <td>3G</td>\n",
       "      <td>3T</td>\n",
       "      <td>2G</td>\n",
       "      <td>4G</td>\n",
       "      <td>2G</td>\n",
       "      <td>2G</td>\n",
       "      <td>1G</td>\n",
       "      <td>4.0</td>\n",
       "      <td>2G</td>\n",
       "      <td>1.0</td>\n",
       "      <td>2.0</td>\n",
       "      <td>3G</td>\n",
       "      <td>0</td>\n",
       "      <td>1A</td>\n",
       "      <td>2.0</td>\n",
       "      <td>4887.0</td>\n",
       "      <td>260.0</td>\n",
       "    </tr>\n",
       "    <tr>\n",
       "      <th>2020-05-05</th>\n",
       "      <td>3G</td>\n",
       "      <td>3T</td>\n",
       "      <td>2G</td>\n",
       "      <td>4G</td>\n",
       "      <td>2G</td>\n",
       "      <td>2G</td>\n",
       "      <td>1G</td>\n",
       "      <td>4.0</td>\n",
       "      <td>2G</td>\n",
       "      <td>1.0</td>\n",
       "      <td>2.0</td>\n",
       "      <td>3G</td>\n",
       "      <td>0</td>\n",
       "      <td>1A</td>\n",
       "      <td>2.0</td>\n",
       "      <td>5020.0</td>\n",
       "      <td>264.0</td>\n",
       "    </tr>\n",
       "    <tr>\n",
       "      <th>2020-05-06</th>\n",
       "      <td>3G</td>\n",
       "      <td>3T</td>\n",
       "      <td>2G</td>\n",
       "      <td>4G</td>\n",
       "      <td>2G</td>\n",
       "      <td>2G</td>\n",
       "      <td>1G</td>\n",
       "      <td>4.0</td>\n",
       "      <td>2G</td>\n",
       "      <td>1.0</td>\n",
       "      <td>2.0</td>\n",
       "      <td>3G</td>\n",
       "      <td>0</td>\n",
       "      <td>1A</td>\n",
       "      <td>2.0</td>\n",
       "      <td>5208.0</td>\n",
       "      <td>273.0</td>\n",
       "    </tr>\n",
       "  </tbody>\n",
       "</table>\n",
       "</div>"
      ],
      "text/plain": [
       "                     school_closures workplace_closures cancel_public_events  \\\n",
       "country   date                                                                 \n",
       "argentina 2020-05-02              3G                 3T                   2G   \n",
       "          2020-05-03              3G                 3T                   2G   \n",
       "          2020-05-04              3G                 3T                   2G   \n",
       "          2020-05-05              3G                 3T                   2G   \n",
       "          2020-05-06              3G                 3T                   2G   \n",
       "\n",
       "                     restrict_public_gathering closure_public_transport  \\\n",
       "country   date                                                            \n",
       "argentina 2020-05-02                        4G                       2G   \n",
       "          2020-05-03                        4G                       2G   \n",
       "          2020-05-04                        4G                       2G   \n",
       "          2020-05-05                        4G                       2G   \n",
       "          2020-05-06                        4G                       2G   \n",
       "\n",
       "                     shn_requirement restriction_internal_movement  \\\n",
       "country   date                                                       \n",
       "argentina 2020-05-02              2G                            1G   \n",
       "          2020-05-03              2G                            1G   \n",
       "          2020-05-04              2G                            1G   \n",
       "          2020-05-05              2G                            1G   \n",
       "          2020-05-06              2G                            1G   \n",
       "\n",
       "                      internation_travel_control pi_campaign  testing_policy  \\\n",
       "country   date                                                                 \n",
       "argentina 2020-05-02                         4.0          2G             1.0   \n",
       "          2020-05-03                         4.0          2G             1.0   \n",
       "          2020-05-04                         4.0          2G             1.0   \n",
       "          2020-05-05                         4.0          2G             1.0   \n",
       "          2020-05-06                         4.0          2G             1.0   \n",
       "\n",
       "                      contact_tracing facial_covering vaccine_policy  \\\n",
       "country   date                                                         \n",
       "argentina 2020-05-02              2.0              3G              0   \n",
       "          2020-05-03              2.0              3G              0   \n",
       "          2020-05-04              2.0              3G              0   \n",
       "          2020-05-05              2.0              3G              0   \n",
       "          2020-05-06              2.0              3G              0   \n",
       "\n",
       "                     income_support  debt_relief  confirmed_cases  \\\n",
       "country   date                                                      \n",
       "argentina 2020-05-02             1A          2.0           4681.0   \n",
       "          2020-05-03             1A          2.0           4783.0   \n",
       "          2020-05-04             1A          2.0           4887.0   \n",
       "          2020-05-05             1A          2.0           5020.0   \n",
       "          2020-05-06             1A          2.0           5208.0   \n",
       "\n",
       "                      confirmed_deathes  \n",
       "country   date                           \n",
       "argentina 2020-05-02              237.0  \n",
       "          2020-05-03              246.0  \n",
       "          2020-05-04              260.0  \n",
       "          2020-05-05              264.0  \n",
       "          2020-05-06              273.0  "
      ]
     },
     "execution_count": 4,
     "metadata": {},
     "output_type": "execute_result"
    }
   ],
   "source": [
    "covid_policies_df[\"date\"] = pd.to_datetime(covid_policies_df[\"Date\"])\n",
    "covid_policies_df[\"Country\"] = covid_policies_df[\"Country\"].str.lower()\n",
    "covid_policies_df[\"Country\"] = covid_policies_df[\"Country\"].str.replace(\" \", \"_\")\n",
    "covid_policies_df.rename(columns={\"Country\": \"country\"}, inplace=True)\n",
    "covid_policies_df.set_index([\"country\", \"date\"], inplace=True)\n",
    "covid_policies_df.drop(columns=[\"Date\"], inplace=True)\n",
    "covid_policies_df.rename(\n",
    "    columns={col: col.lower() for col in covid_policies_df.columns}, inplace=True\n",
    ")\n",
    "print(covid_policies_df.shape)\n",
    "covid_policies_df.head()"
   ]
  },
  {
   "cell_type": "code",
   "execution_count": 5,
   "id": "6fd6032a-0745-45fd-a262-5e75f2e9be60",
   "metadata": {
    "execution": {
     "iopub.execute_input": "2022-04-10T10:45:42.497397Z",
     "iopub.status.busy": "2022-04-10T10:45:42.497115Z",
     "iopub.status.idle": "2022-04-10T10:45:42.531573Z",
     "shell.execute_reply": "2022-04-10T10:45:42.530852Z",
     "shell.execute_reply.started": "2022-04-10T10:45:42.497371Z"
    },
    "tags": []
   },
   "outputs": [
    {
     "name": "stdout",
     "output_type": "stream",
     "text": [
      "school_closures ['3G' '3T' '1G' '2T' '0' '1T' '2G']\n",
      "workplace_closures ['3T' '2T' '2G' '1G' '1T' '0' '3G']\n",
      "cancel_public_events ['2G' '2T' '1G' '1T' '0']\n",
      "restrict_public_gathering ['4G' '4T' '3G' '1G' '3T' '2T' '2G' '0']\n",
      "closure_public_transport ['2G' '2T' '1G' '0' '1T']\n",
      "shn_requirement ['2G' '2T' '1T' '1G' '0' '3T' '3G']\n",
      "restriction_internal_movement ['1G' '2G' '2T' '1T' '0']\n",
      "internation_travel_control [4. 3. 2. 1. 0.]\n",
      "pi_campaign ['2G' '2T' '0']\n",
      "testing_policy [1. 2. 3.]\n",
      "contact_tracing [2. 1. 0.]\n",
      "facial_covering ['3G' '2G' '4G' '0' '1T' '4T' '2T' '3T' '1G']\n",
      "vaccine_policy ['0' '1G' '2G' '3G' '4G' '5G']\n",
      "income_support ['1A' '0' '2A' '1F' '2F']\n",
      "debt_relief [2. 1. 0.]\n",
      "confirmed_cases [   4681.    4783.    4887. ... 3669671. 3671991. 3673257.]\n",
      "confirmed_deathes [  237.   246.   260. ... 99145. 99191. 99229.]\n"
     ]
    }
   ],
   "source": [
    "for column in covid_policies_df.columns:\n",
    "    print(column, covid_policies_df[column].unique())"
   ]
  },
  {
   "cell_type": "code",
   "execution_count": 6,
   "id": "3c82c0f1-af11-46db-a6d3-b1954c89857b",
   "metadata": {
    "execution": {
     "iopub.execute_input": "2022-04-10T10:45:42.533163Z",
     "iopub.status.busy": "2022-04-10T10:45:42.532781Z",
     "iopub.status.idle": "2022-04-10T10:45:42.636074Z",
     "shell.execute_reply": "2022-04-10T10:45:42.635339Z",
     "shell.execute_reply.started": "2022-04-10T10:45:42.533121Z"
    },
    "tags": []
   },
   "outputs": [
    {
     "name": "stdout",
     "output_type": "stream",
     "text": [
      "<class 'pandas.core.frame.DataFrame'>\n",
      "MultiIndex: 11993 entries, ('argentina', Timestamp('2020-05-02 00:00:00')) to ('south_africa', Timestamp('2022-02-27 00:00:00'))\n",
      "Data columns (total 17 columns):\n",
      " #   Column                         Non-Null Count  Dtype  \n",
      "---  ------                         --------------  -----  \n",
      " 0   school_closures                11993 non-null  int16  \n",
      " 1   workplace_closures             11993 non-null  int16  \n",
      " 2   cancel_public_events           11993 non-null  int16  \n",
      " 3   restrict_public_gathering      11993 non-null  int16  \n",
      " 4   closure_public_transport       11993 non-null  int16  \n",
      " 5   shn_requirement                11993 non-null  int16  \n",
      " 6   restriction_internal_movement  11993 non-null  int16  \n",
      " 7   internation_travel_control     11993 non-null  float64\n",
      " 8   pi_campaign                    11993 non-null  int16  \n",
      " 9   testing_policy                 11993 non-null  float64\n",
      " 10  contact_tracing                11993 non-null  float64\n",
      " 11  facial_covering                11993 non-null  int16  \n",
      " 12  vaccine_policy                 11993 non-null  int16  \n",
      " 13  income_support                 11993 non-null  int16  \n",
      " 14  debt_relief                    11993 non-null  float64\n",
      " 15  confirmed_cases                11993 non-null  float64\n",
      " 16  confirmed_deathes              11993 non-null  float64\n",
      "dtypes: float64(6), int16(11)\n",
      "memory usage: 877.1+ KB\n"
     ]
    },
    {
     "data": {
      "text/plain": [
       "None"
      ]
     },
     "metadata": {},
     "output_type": "display_data"
    },
    {
     "data": {
      "text/html": [
       "<div>\n",
       "<style scoped>\n",
       "    .dataframe tbody tr th:only-of-type {\n",
       "        vertical-align: middle;\n",
       "    }\n",
       "\n",
       "    .dataframe tbody tr th {\n",
       "        vertical-align: top;\n",
       "    }\n",
       "\n",
       "    .dataframe thead th {\n",
       "        text-align: right;\n",
       "    }\n",
       "</style>\n",
       "<table border=\"1\" class=\"dataframe\">\n",
       "  <thead>\n",
       "    <tr style=\"text-align: right;\">\n",
       "      <th></th>\n",
       "      <th></th>\n",
       "      <th>school_closures</th>\n",
       "      <th>workplace_closures</th>\n",
       "      <th>cancel_public_events</th>\n",
       "      <th>restrict_public_gathering</th>\n",
       "      <th>closure_public_transport</th>\n",
       "      <th>shn_requirement</th>\n",
       "      <th>restriction_internal_movement</th>\n",
       "      <th>internation_travel_control</th>\n",
       "      <th>pi_campaign</th>\n",
       "      <th>testing_policy</th>\n",
       "      <th>contact_tracing</th>\n",
       "      <th>facial_covering</th>\n",
       "      <th>vaccine_policy</th>\n",
       "      <th>income_support</th>\n",
       "      <th>debt_relief</th>\n",
       "      <th>confirmed_cases</th>\n",
       "      <th>confirmed_deathes</th>\n",
       "    </tr>\n",
       "    <tr>\n",
       "      <th>country</th>\n",
       "      <th>date</th>\n",
       "      <th></th>\n",
       "      <th></th>\n",
       "      <th></th>\n",
       "      <th></th>\n",
       "      <th></th>\n",
       "      <th></th>\n",
       "      <th></th>\n",
       "      <th></th>\n",
       "      <th></th>\n",
       "      <th></th>\n",
       "      <th></th>\n",
       "      <th></th>\n",
       "      <th></th>\n",
       "      <th></th>\n",
       "      <th></th>\n",
       "      <th></th>\n",
       "      <th></th>\n",
       "    </tr>\n",
       "  </thead>\n",
       "  <tbody>\n",
       "    <tr>\n",
       "      <th rowspan=\"5\" valign=\"top\">argentina</th>\n",
       "      <th>2020-05-02</th>\n",
       "      <td>3</td>\n",
       "      <td>3</td>\n",
       "      <td>2</td>\n",
       "      <td>4</td>\n",
       "      <td>2</td>\n",
       "      <td>2</td>\n",
       "      <td>1</td>\n",
       "      <td>4.0</td>\n",
       "      <td>2</td>\n",
       "      <td>1.0</td>\n",
       "      <td>2.0</td>\n",
       "      <td>3</td>\n",
       "      <td>0</td>\n",
       "      <td>1</td>\n",
       "      <td>2.0</td>\n",
       "      <td>4681.0</td>\n",
       "      <td>237.0</td>\n",
       "    </tr>\n",
       "    <tr>\n",
       "      <th>2020-05-03</th>\n",
       "      <td>3</td>\n",
       "      <td>3</td>\n",
       "      <td>2</td>\n",
       "      <td>4</td>\n",
       "      <td>2</td>\n",
       "      <td>2</td>\n",
       "      <td>1</td>\n",
       "      <td>4.0</td>\n",
       "      <td>2</td>\n",
       "      <td>1.0</td>\n",
       "      <td>2.0</td>\n",
       "      <td>3</td>\n",
       "      <td>0</td>\n",
       "      <td>1</td>\n",
       "      <td>2.0</td>\n",
       "      <td>4783.0</td>\n",
       "      <td>246.0</td>\n",
       "    </tr>\n",
       "    <tr>\n",
       "      <th>2020-05-04</th>\n",
       "      <td>3</td>\n",
       "      <td>3</td>\n",
       "      <td>2</td>\n",
       "      <td>4</td>\n",
       "      <td>2</td>\n",
       "      <td>2</td>\n",
       "      <td>1</td>\n",
       "      <td>4.0</td>\n",
       "      <td>2</td>\n",
       "      <td>1.0</td>\n",
       "      <td>2.0</td>\n",
       "      <td>3</td>\n",
       "      <td>0</td>\n",
       "      <td>1</td>\n",
       "      <td>2.0</td>\n",
       "      <td>4887.0</td>\n",
       "      <td>260.0</td>\n",
       "    </tr>\n",
       "    <tr>\n",
       "      <th>2020-05-05</th>\n",
       "      <td>3</td>\n",
       "      <td>3</td>\n",
       "      <td>2</td>\n",
       "      <td>4</td>\n",
       "      <td>2</td>\n",
       "      <td>2</td>\n",
       "      <td>1</td>\n",
       "      <td>4.0</td>\n",
       "      <td>2</td>\n",
       "      <td>1.0</td>\n",
       "      <td>2.0</td>\n",
       "      <td>3</td>\n",
       "      <td>0</td>\n",
       "      <td>1</td>\n",
       "      <td>2.0</td>\n",
       "      <td>5020.0</td>\n",
       "      <td>264.0</td>\n",
       "    </tr>\n",
       "    <tr>\n",
       "      <th>2020-05-06</th>\n",
       "      <td>3</td>\n",
       "      <td>3</td>\n",
       "      <td>2</td>\n",
       "      <td>4</td>\n",
       "      <td>2</td>\n",
       "      <td>2</td>\n",
       "      <td>1</td>\n",
       "      <td>4.0</td>\n",
       "      <td>2</td>\n",
       "      <td>1.0</td>\n",
       "      <td>2.0</td>\n",
       "      <td>3</td>\n",
       "      <td>0</td>\n",
       "      <td>1</td>\n",
       "      <td>2.0</td>\n",
       "      <td>5208.0</td>\n",
       "      <td>273.0</td>\n",
       "    </tr>\n",
       "  </tbody>\n",
       "</table>\n",
       "</div>"
      ],
      "text/plain": [
       "                      school_closures  workplace_closures  \\\n",
       "country   date                                              \n",
       "argentina 2020-05-02                3                   3   \n",
       "          2020-05-03                3                   3   \n",
       "          2020-05-04                3                   3   \n",
       "          2020-05-05                3                   3   \n",
       "          2020-05-06                3                   3   \n",
       "\n",
       "                      cancel_public_events  restrict_public_gathering  \\\n",
       "country   date                                                          \n",
       "argentina 2020-05-02                     2                          4   \n",
       "          2020-05-03                     2                          4   \n",
       "          2020-05-04                     2                          4   \n",
       "          2020-05-05                     2                          4   \n",
       "          2020-05-06                     2                          4   \n",
       "\n",
       "                      closure_public_transport  shn_requirement  \\\n",
       "country   date                                                    \n",
       "argentina 2020-05-02                         2                2   \n",
       "          2020-05-03                         2                2   \n",
       "          2020-05-04                         2                2   \n",
       "          2020-05-05                         2                2   \n",
       "          2020-05-06                         2                2   \n",
       "\n",
       "                      restriction_internal_movement  \\\n",
       "country   date                                        \n",
       "argentina 2020-05-02                              1   \n",
       "          2020-05-03                              1   \n",
       "          2020-05-04                              1   \n",
       "          2020-05-05                              1   \n",
       "          2020-05-06                              1   \n",
       "\n",
       "                      internation_travel_control  pi_campaign  testing_policy  \\\n",
       "country   date                                                                  \n",
       "argentina 2020-05-02                         4.0            2             1.0   \n",
       "          2020-05-03                         4.0            2             1.0   \n",
       "          2020-05-04                         4.0            2             1.0   \n",
       "          2020-05-05                         4.0            2             1.0   \n",
       "          2020-05-06                         4.0            2             1.0   \n",
       "\n",
       "                      contact_tracing  facial_covering  vaccine_policy  \\\n",
       "country   date                                                           \n",
       "argentina 2020-05-02              2.0                3               0   \n",
       "          2020-05-03              2.0                3               0   \n",
       "          2020-05-04              2.0                3               0   \n",
       "          2020-05-05              2.0                3               0   \n",
       "          2020-05-06              2.0                3               0   \n",
       "\n",
       "                      income_support  debt_relief  confirmed_cases  \\\n",
       "country   date                                                       \n",
       "argentina 2020-05-02               1          2.0           4681.0   \n",
       "          2020-05-03               1          2.0           4783.0   \n",
       "          2020-05-04               1          2.0           4887.0   \n",
       "          2020-05-05               1          2.0           5020.0   \n",
       "          2020-05-06               1          2.0           5208.0   \n",
       "\n",
       "                      confirmed_deathes  \n",
       "country   date                           \n",
       "argentina 2020-05-02              237.0  \n",
       "          2020-05-03              246.0  \n",
       "          2020-05-04              260.0  \n",
       "          2020-05-05              264.0  \n",
       "          2020-05-06              273.0  "
      ]
     },
     "execution_count": 6,
     "metadata": {},
     "output_type": "execute_result"
    }
   ],
   "source": [
    "for column in covid_policies_df.columns:\n",
    "    if pd.api.types.is_numeric_dtype(covid_policies_df[column].dtype):\n",
    "        continue\n",
    "\n",
    "    covid_policies_df[column] = (\n",
    "        covid_policies_df[column].apply(lambda v: v[:1]).astype(\"int16\")\n",
    "    )\n",
    "\n",
    "display(covid_policies_df.info())\n",
    "covid_policies_df.head()"
   ]
  },
  {
   "cell_type": "markdown",
   "id": "f997efde-85c4-4df8-a605-e4e7f93c52a7",
   "metadata": {},
   "source": [
    "## Add Features"
   ]
  },
  {
   "cell_type": "code",
   "execution_count": 7,
   "id": "0cde6d8f-dae7-4ed1-9e4d-423420f74010",
   "metadata": {
    "execution": {
     "iopub.execute_input": "2022-04-10T10:45:42.637961Z",
     "iopub.status.busy": "2022-04-10T10:45:42.637658Z",
     "iopub.status.idle": "2022-04-10T10:45:42.653916Z",
     "shell.execute_reply": "2022-04-10T10:45:42.653252Z",
     "shell.execute_reply.started": "2022-04-10T10:45:42.637932Z"
    },
    "tags": []
   },
   "outputs": [],
   "source": [
    "country_to_population_map = {  # for 2021\n",
    "    \"argentina\": 45.85e6,\n",
    "    \"australia\": 25750198,\n",
    "    \"brazil\": 212.61e6,\n",
    "    \"canada\": 37.74e6,\n",
    "    \"switzerland\": 8.66e6,\n",
    "    \"germany\": 83900473,\n",
    "    \"egypt\": 101.48e6,\n",
    "    \"finland\": 5.54e6,\n",
    "    \"india\": 1.39e9,\n",
    "    \"united_states\": 332915073,\n",
    "    \"new_zealand\": 5122600,\n",
    "    \"south_africa\": 60e6,\n",
    "    \"hong_kong\": 7500000,\n",
    "    \"china\": 1448000000,\n",
    "    \"indonesia\": 272000000,\n",
    "    \"singapore\": 5450000,\n",
    "    \"malaysia\": 32000000,\n",
    "    \"israel\": 9.45e6,\n",
    "}"
   ]
  },
  {
   "cell_type": "code",
   "execution_count": 8,
   "id": "3a9730d1-71c8-40cb-a9ae-f20a0116abfd",
   "metadata": {
    "execution": {
     "iopub.execute_input": "2022-04-10T10:45:42.654975Z",
     "iopub.status.busy": "2022-04-10T10:45:42.654741Z",
     "iopub.status.idle": "2022-04-10T10:45:42.912742Z",
     "shell.execute_reply": "2022-04-10T10:45:42.912098Z",
     "shell.execute_reply.started": "2022-04-10T10:45:42.654935Z"
    },
    "tags": []
   },
   "outputs": [
    {
     "name": "stdout",
     "output_type": "stream",
     "text": [
      "(11993, 19)\n"
     ]
    },
    {
     "data": {
      "text/html": [
       "<div>\n",
       "<style scoped>\n",
       "    .dataframe tbody tr th:only-of-type {\n",
       "        vertical-align: middle;\n",
       "    }\n",
       "\n",
       "    .dataframe tbody tr th {\n",
       "        vertical-align: top;\n",
       "    }\n",
       "\n",
       "    .dataframe thead th {\n",
       "        text-align: right;\n",
       "    }\n",
       "</style>\n",
       "<table border=\"1\" class=\"dataframe\">\n",
       "  <thead>\n",
       "    <tr style=\"text-align: right;\">\n",
       "      <th></th>\n",
       "      <th></th>\n",
       "      <th>school_closures</th>\n",
       "      <th>workplace_closures</th>\n",
       "      <th>cancel_public_events</th>\n",
       "      <th>restrict_public_gathering</th>\n",
       "      <th>closure_public_transport</th>\n",
       "      <th>shn_requirement</th>\n",
       "      <th>restriction_internal_movement</th>\n",
       "      <th>internation_travel_control</th>\n",
       "      <th>pi_campaign</th>\n",
       "      <th>testing_policy</th>\n",
       "      <th>contact_tracing</th>\n",
       "      <th>facial_covering</th>\n",
       "      <th>vaccine_policy</th>\n",
       "      <th>income_support</th>\n",
       "      <th>debt_relief</th>\n",
       "      <th>confirmed_cases</th>\n",
       "      <th>confirmed_deathes</th>\n",
       "      <th>cases_per_mil</th>\n",
       "      <th>cases_per_mil_cat</th>\n",
       "    </tr>\n",
       "    <tr>\n",
       "      <th>country</th>\n",
       "      <th>date</th>\n",
       "      <th></th>\n",
       "      <th></th>\n",
       "      <th></th>\n",
       "      <th></th>\n",
       "      <th></th>\n",
       "      <th></th>\n",
       "      <th></th>\n",
       "      <th></th>\n",
       "      <th></th>\n",
       "      <th></th>\n",
       "      <th></th>\n",
       "      <th></th>\n",
       "      <th></th>\n",
       "      <th></th>\n",
       "      <th></th>\n",
       "      <th></th>\n",
       "      <th></th>\n",
       "      <th></th>\n",
       "      <th></th>\n",
       "    </tr>\n",
       "  </thead>\n",
       "  <tbody>\n",
       "    <tr>\n",
       "      <th rowspan=\"5\" valign=\"top\">argentina</th>\n",
       "      <th>2020-05-02</th>\n",
       "      <td>3</td>\n",
       "      <td>3</td>\n",
       "      <td>2</td>\n",
       "      <td>4</td>\n",
       "      <td>2</td>\n",
       "      <td>2</td>\n",
       "      <td>1</td>\n",
       "      <td>4.0</td>\n",
       "      <td>2</td>\n",
       "      <td>1.0</td>\n",
       "      <td>2.0</td>\n",
       "      <td>3</td>\n",
       "      <td>0</td>\n",
       "      <td>1</td>\n",
       "      <td>2.0</td>\n",
       "      <td>4681.0</td>\n",
       "      <td>237.0</td>\n",
       "      <td>102.093784</td>\n",
       "      <td>0</td>\n",
       "    </tr>\n",
       "    <tr>\n",
       "      <th>2020-05-03</th>\n",
       "      <td>3</td>\n",
       "      <td>3</td>\n",
       "      <td>2</td>\n",
       "      <td>4</td>\n",
       "      <td>2</td>\n",
       "      <td>2</td>\n",
       "      <td>1</td>\n",
       "      <td>4.0</td>\n",
       "      <td>2</td>\n",
       "      <td>1.0</td>\n",
       "      <td>2.0</td>\n",
       "      <td>3</td>\n",
       "      <td>0</td>\n",
       "      <td>1</td>\n",
       "      <td>2.0</td>\n",
       "      <td>4783.0</td>\n",
       "      <td>246.0</td>\n",
       "      <td>104.318430</td>\n",
       "      <td>0</td>\n",
       "    </tr>\n",
       "    <tr>\n",
       "      <th>2020-05-04</th>\n",
       "      <td>3</td>\n",
       "      <td>3</td>\n",
       "      <td>2</td>\n",
       "      <td>4</td>\n",
       "      <td>2</td>\n",
       "      <td>2</td>\n",
       "      <td>1</td>\n",
       "      <td>4.0</td>\n",
       "      <td>2</td>\n",
       "      <td>1.0</td>\n",
       "      <td>2.0</td>\n",
       "      <td>3</td>\n",
       "      <td>0</td>\n",
       "      <td>1</td>\n",
       "      <td>2.0</td>\n",
       "      <td>4887.0</td>\n",
       "      <td>260.0</td>\n",
       "      <td>106.586696</td>\n",
       "      <td>0</td>\n",
       "    </tr>\n",
       "    <tr>\n",
       "      <th>2020-05-05</th>\n",
       "      <td>3</td>\n",
       "      <td>3</td>\n",
       "      <td>2</td>\n",
       "      <td>4</td>\n",
       "      <td>2</td>\n",
       "      <td>2</td>\n",
       "      <td>1</td>\n",
       "      <td>4.0</td>\n",
       "      <td>2</td>\n",
       "      <td>1.0</td>\n",
       "      <td>2.0</td>\n",
       "      <td>3</td>\n",
       "      <td>0</td>\n",
       "      <td>1</td>\n",
       "      <td>2.0</td>\n",
       "      <td>5020.0</td>\n",
       "      <td>264.0</td>\n",
       "      <td>109.487459</td>\n",
       "      <td>0</td>\n",
       "    </tr>\n",
       "    <tr>\n",
       "      <th>2020-05-06</th>\n",
       "      <td>3</td>\n",
       "      <td>3</td>\n",
       "      <td>2</td>\n",
       "      <td>4</td>\n",
       "      <td>2</td>\n",
       "      <td>2</td>\n",
       "      <td>1</td>\n",
       "      <td>4.0</td>\n",
       "      <td>2</td>\n",
       "      <td>1.0</td>\n",
       "      <td>2.0</td>\n",
       "      <td>3</td>\n",
       "      <td>0</td>\n",
       "      <td>1</td>\n",
       "      <td>2.0</td>\n",
       "      <td>5208.0</td>\n",
       "      <td>273.0</td>\n",
       "      <td>113.587786</td>\n",
       "      <td>0</td>\n",
       "    </tr>\n",
       "  </tbody>\n",
       "</table>\n",
       "</div>"
      ],
      "text/plain": [
       "                      school_closures  workplace_closures  \\\n",
       "country   date                                              \n",
       "argentina 2020-05-02                3                   3   \n",
       "          2020-05-03                3                   3   \n",
       "          2020-05-04                3                   3   \n",
       "          2020-05-05                3                   3   \n",
       "          2020-05-06                3                   3   \n",
       "\n",
       "                      cancel_public_events  restrict_public_gathering  \\\n",
       "country   date                                                          \n",
       "argentina 2020-05-02                     2                          4   \n",
       "          2020-05-03                     2                          4   \n",
       "          2020-05-04                     2                          4   \n",
       "          2020-05-05                     2                          4   \n",
       "          2020-05-06                     2                          4   \n",
       "\n",
       "                      closure_public_transport  shn_requirement  \\\n",
       "country   date                                                    \n",
       "argentina 2020-05-02                         2                2   \n",
       "          2020-05-03                         2                2   \n",
       "          2020-05-04                         2                2   \n",
       "          2020-05-05                         2                2   \n",
       "          2020-05-06                         2                2   \n",
       "\n",
       "                      restriction_internal_movement  \\\n",
       "country   date                                        \n",
       "argentina 2020-05-02                              1   \n",
       "          2020-05-03                              1   \n",
       "          2020-05-04                              1   \n",
       "          2020-05-05                              1   \n",
       "          2020-05-06                              1   \n",
       "\n",
       "                      internation_travel_control  pi_campaign  testing_policy  \\\n",
       "country   date                                                                  \n",
       "argentina 2020-05-02                         4.0            2             1.0   \n",
       "          2020-05-03                         4.0            2             1.0   \n",
       "          2020-05-04                         4.0            2             1.0   \n",
       "          2020-05-05                         4.0            2             1.0   \n",
       "          2020-05-06                         4.0            2             1.0   \n",
       "\n",
       "                      contact_tracing  facial_covering  vaccine_policy  \\\n",
       "country   date                                                           \n",
       "argentina 2020-05-02              2.0                3               0   \n",
       "          2020-05-03              2.0                3               0   \n",
       "          2020-05-04              2.0                3               0   \n",
       "          2020-05-05              2.0                3               0   \n",
       "          2020-05-06              2.0                3               0   \n",
       "\n",
       "                      income_support  debt_relief  confirmed_cases  \\\n",
       "country   date                                                       \n",
       "argentina 2020-05-02               1          2.0           4681.0   \n",
       "          2020-05-03               1          2.0           4783.0   \n",
       "          2020-05-04               1          2.0           4887.0   \n",
       "          2020-05-05               1          2.0           5020.0   \n",
       "          2020-05-06               1          2.0           5208.0   \n",
       "\n",
       "                      confirmed_deathes  cases_per_mil  cases_per_mil_cat  \n",
       "country   date                                                             \n",
       "argentina 2020-05-02              237.0     102.093784                  0  \n",
       "          2020-05-03              246.0     104.318430                  0  \n",
       "          2020-05-04              260.0     106.586696                  0  \n",
       "          2020-05-05              264.0     109.487459                  0  \n",
       "          2020-05-06              273.0     113.587786                  0  "
      ]
     },
     "execution_count": 8,
     "metadata": {},
     "output_type": "execute_result"
    }
   ],
   "source": [
    "def compute_cases_bin(cases_per_mil):\n",
    "    computed_bin = None\n",
    "    if cases_per_mil <= 10000:\n",
    "        computed_bin = 0\n",
    "    elif cases_per_mil < 30000:\n",
    "        computed_bin = 1\n",
    "    elif cases_per_mil < 50000:\n",
    "        computed_bin = 2\n",
    "    elif cases_per_mil < 70000:\n",
    "        computed_bin = 3\n",
    "    elif cases_per_mil < 100000:\n",
    "        computed_bin = 4\n",
    "    elif cases_per_mil < 120000:\n",
    "        computed_bin = 5\n",
    "    else:\n",
    "        computed_bin = 6\n",
    "\n",
    "    return computed_bin\n",
    "\n",
    "\n",
    "covid_policies_df[\"cases_per_mil\"] = covid_policies_df.apply(\n",
    "    lambda row: (row.confirmed_cases * 1000000)\n",
    "    / country_to_population_map[row.name[0]],\n",
    "    axis=1,\n",
    ")\n",
    "covid_policies_df[\"cases_per_mil_cat\"] = covid_policies_df[\"cases_per_mil\"].apply(\n",
    "    compute_cases_bin\n",
    ")\n",
    "print(covid_policies_df.shape)\n",
    "covid_policies_df.head()"
   ]
  },
  {
   "cell_type": "code",
   "execution_count": 9,
   "id": "91491869-e00a-4eae-a1b0-2777fa27cf89",
   "metadata": {
    "execution": {
     "iopub.execute_input": "2022-04-10T10:45:42.913774Z",
     "iopub.status.busy": "2022-04-10T10:45:42.913607Z",
     "iopub.status.idle": "2022-04-10T10:45:42.927015Z",
     "shell.execute_reply": "2022-04-10T10:45:42.926296Z",
     "shell.execute_reply.started": "2022-04-10T10:45:42.913752Z"
    },
    "tags": []
   },
   "outputs": [],
   "source": [
    "# covid_policies_df.to_csv(\"../data/processed/categorical_policies.csv\")"
   ]
  },
  {
   "cell_type": "code",
   "execution_count": 10,
   "id": "19f6493c-bde8-499c-bf83-e69c2028d4cc",
   "metadata": {
    "execution": {
     "iopub.execute_input": "2022-04-10T10:45:42.928647Z",
     "iopub.status.busy": "2022-04-10T10:45:42.928217Z",
     "iopub.status.idle": "2022-04-10T10:45:42.951772Z",
     "shell.execute_reply": "2022-04-10T10:45:42.950520Z",
     "shell.execute_reply.started": "2022-04-10T10:45:42.928616Z"
    },
    "tags": []
   },
   "outputs": [
    {
     "data": {
      "text/html": [
       "<div>\n",
       "<style scoped>\n",
       "    .dataframe tbody tr th:only-of-type {\n",
       "        vertical-align: middle;\n",
       "    }\n",
       "\n",
       "    .dataframe tbody tr th {\n",
       "        vertical-align: top;\n",
       "    }\n",
       "\n",
       "    .dataframe thead th {\n",
       "        text-align: right;\n",
       "    }\n",
       "</style>\n",
       "<table border=\"1\" class=\"dataframe\">\n",
       "  <thead>\n",
       "    <tr style=\"text-align: right;\">\n",
       "      <th></th>\n",
       "      <th>school_closures</th>\n",
       "      <th>workplace_closures</th>\n",
       "      <th>cases_per_mil</th>\n",
       "      <th>cases_per_mil_cat</th>\n",
       "      <th>confirmed_cases</th>\n",
       "    </tr>\n",
       "    <tr>\n",
       "      <th>date</th>\n",
       "      <th></th>\n",
       "      <th></th>\n",
       "      <th></th>\n",
       "      <th></th>\n",
       "      <th></th>\n",
       "    </tr>\n",
       "  </thead>\n",
       "  <tbody>\n",
       "    <tr>\n",
       "      <th>2020-05-02</th>\n",
       "      <td>3</td>\n",
       "      <td>3</td>\n",
       "      <td>3219.816514</td>\n",
       "      <td>0</td>\n",
       "      <td>17548.0</td>\n",
       "    </tr>\n",
       "    <tr>\n",
       "      <th>2020-05-03</th>\n",
       "      <td>3</td>\n",
       "      <td>3</td>\n",
       "      <td>3340.366972</td>\n",
       "      <td>0</td>\n",
       "      <td>18205.0</td>\n",
       "    </tr>\n",
       "    <tr>\n",
       "      <th>2020-05-04</th>\n",
       "      <td>3</td>\n",
       "      <td>3</td>\n",
       "      <td>3445.504587</td>\n",
       "      <td>0</td>\n",
       "      <td>18778.0</td>\n",
       "    </tr>\n",
       "    <tr>\n",
       "      <th>2020-05-05</th>\n",
       "      <td>3</td>\n",
       "      <td>3</td>\n",
       "      <td>3561.467890</td>\n",
       "      <td>0</td>\n",
       "      <td>19410.0</td>\n",
       "    </tr>\n",
       "    <tr>\n",
       "      <th>2020-05-06</th>\n",
       "      <td>3</td>\n",
       "      <td>3</td>\n",
       "      <td>3706.055046</td>\n",
       "      <td>0</td>\n",
       "      <td>20198.0</td>\n",
       "    </tr>\n",
       "  </tbody>\n",
       "</table>\n",
       "</div>"
      ],
      "text/plain": [
       "            school_closures  workplace_closures  cases_per_mil  \\\n",
       "date                                                             \n",
       "2020-05-02                3                   3    3219.816514   \n",
       "2020-05-03                3                   3    3340.366972   \n",
       "2020-05-04                3                   3    3445.504587   \n",
       "2020-05-05                3                   3    3561.467890   \n",
       "2020-05-06                3                   3    3706.055046   \n",
       "\n",
       "            cases_per_mil_cat  confirmed_cases  \n",
       "date                                            \n",
       "2020-05-02                  0          17548.0  \n",
       "2020-05-03                  0          18205.0  \n",
       "2020-05-04                  0          18778.0  \n",
       "2020-05-05                  0          19410.0  \n",
       "2020-05-06                  0          20198.0  "
      ]
     },
     "execution_count": 10,
     "metadata": {},
     "output_type": "execute_result"
    }
   ],
   "source": [
    "sg_filtered = covid_policies_df.loc[\n",
    "    \"singapore\",\n",
    "    [\n",
    "        \"school_closures\",\n",
    "        \"workplace_closures\",\n",
    "        #         \"cancel_public_events\",\n",
    "        #         \"restrict_public_gathering\",\n",
    "        #         \"closure_public_transport\",\n",
    "        \"cases_per_mil\",\n",
    "        \"cases_per_mil_cat\",\n",
    "        \"confirmed_cases\",\n",
    "    ],\n",
    "]\n",
    "sg_filtered.head()"
   ]
  },
  {
   "cell_type": "code",
   "execution_count": 11,
   "id": "d9e0213f-cd60-4a63-9bb2-a95ed61a2daf",
   "metadata": {
    "execution": {
     "iopub.execute_input": "2022-04-10T10:45:42.953820Z",
     "iopub.status.busy": "2022-04-10T10:45:42.953501Z",
     "iopub.status.idle": "2022-04-10T10:45:42.977642Z",
     "shell.execute_reply": "2022-04-10T10:45:42.977013Z",
     "shell.execute_reply.started": "2022-04-10T10:45:42.953790Z"
    },
    "tags": []
   },
   "outputs": [
    {
     "data": {
      "text/html": [
       "<div>\n",
       "<style scoped>\n",
       "    .dataframe tbody tr th:only-of-type {\n",
       "        vertical-align: middle;\n",
       "    }\n",
       "\n",
       "    .dataframe tbody tr th {\n",
       "        vertical-align: top;\n",
       "    }\n",
       "\n",
       "    .dataframe thead th {\n",
       "        text-align: right;\n",
       "    }\n",
       "</style>\n",
       "<table border=\"1\" class=\"dataframe\">\n",
       "  <thead>\n",
       "    <tr style=\"text-align: right;\">\n",
       "      <th></th>\n",
       "      <th>school_closures</th>\n",
       "      <th>workplace_closures</th>\n",
       "      <th>cases_per_mil</th>\n",
       "      <th>cases_per_mil_cat</th>\n",
       "      <th>confirmed_cases</th>\n",
       "    </tr>\n",
       "    <tr>\n",
       "      <th>date</th>\n",
       "      <th></th>\n",
       "      <th></th>\n",
       "      <th></th>\n",
       "      <th></th>\n",
       "      <th></th>\n",
       "    </tr>\n",
       "  </thead>\n",
       "  <tbody>\n",
       "    <tr>\n",
       "      <th>2020-05-02</th>\n",
       "      <td>3</td>\n",
       "      <td>3</td>\n",
       "      <td>193.00000</td>\n",
       "      <td>0</td>\n",
       "      <td>6176.0</td>\n",
       "    </tr>\n",
       "    <tr>\n",
       "      <th>2020-05-03</th>\n",
       "      <td>3</td>\n",
       "      <td>3</td>\n",
       "      <td>196.81250</td>\n",
       "      <td>0</td>\n",
       "      <td>6298.0</td>\n",
       "    </tr>\n",
       "    <tr>\n",
       "      <th>2020-05-04</th>\n",
       "      <td>3</td>\n",
       "      <td>2</td>\n",
       "      <td>198.53125</td>\n",
       "      <td>0</td>\n",
       "      <td>6353.0</td>\n",
       "    </tr>\n",
       "    <tr>\n",
       "      <th>2020-05-05</th>\n",
       "      <td>3</td>\n",
       "      <td>2</td>\n",
       "      <td>199.46875</td>\n",
       "      <td>0</td>\n",
       "      <td>6383.0</td>\n",
       "    </tr>\n",
       "    <tr>\n",
       "      <th>2020-05-06</th>\n",
       "      <td>3</td>\n",
       "      <td>2</td>\n",
       "      <td>200.87500</td>\n",
       "      <td>0</td>\n",
       "      <td>6428.0</td>\n",
       "    </tr>\n",
       "  </tbody>\n",
       "</table>\n",
       "</div>"
      ],
      "text/plain": [
       "            school_closures  workplace_closures  cases_per_mil  \\\n",
       "date                                                             \n",
       "2020-05-02                3                   3      193.00000   \n",
       "2020-05-03                3                   3      196.81250   \n",
       "2020-05-04                3                   2      198.53125   \n",
       "2020-05-05                3                   2      199.46875   \n",
       "2020-05-06                3                   2      200.87500   \n",
       "\n",
       "            cases_per_mil_cat  confirmed_cases  \n",
       "date                                            \n",
       "2020-05-02                  0           6176.0  \n",
       "2020-05-03                  0           6298.0  \n",
       "2020-05-04                  0           6353.0  \n",
       "2020-05-05                  0           6383.0  \n",
       "2020-05-06                  0           6428.0  "
      ]
     },
     "execution_count": 11,
     "metadata": {},
     "output_type": "execute_result"
    }
   ],
   "source": [
    "ml_filtered = covid_policies_df.loc[\n",
    "    \"malaysia\",\n",
    "    [\n",
    "        \"school_closures\",\n",
    "        \"workplace_closures\",\n",
    "        #         \"cancel_public_events\",\n",
    "        #         \"restrict_public_gathering\",\n",
    "        #         \"closure_public_transport\",\n",
    "        \"cases_per_mil\",\n",
    "        \"cases_per_mil_cat\",\n",
    "        \"confirmed_cases\",\n",
    "    ],\n",
    "]\n",
    "\n",
    "ml_filtered.head()"
   ]
  },
  {
   "cell_type": "code",
   "execution_count": 12,
   "id": "1429095c-1557-41ad-a3dc-08afbf260d53",
   "metadata": {
    "execution": {
     "iopub.execute_input": "2022-04-10T10:45:42.982933Z",
     "iopub.status.busy": "2022-04-10T10:45:42.982657Z",
     "iopub.status.idle": "2022-04-10T10:45:43.179026Z",
     "shell.execute_reply": "2022-04-10T10:45:43.178225Z",
     "shell.execute_reply.started": "2022-04-10T10:45:42.982907Z"
    },
    "tags": []
   },
   "outputs": [
    {
     "data": {
      "text/plain": [
       "<AxesSubplot:xlabel='cases_per_mil', ylabel='Count'>"
      ]
     },
     "execution_count": 12,
     "metadata": {},
     "output_type": "execute_result"
    },
    {
     "data": {
      "image/png": "[encoded data removed]",
      "text/plain": [
       "<Figure size 432x288 with 1 Axes>"
      ]
     },
     "metadata": {
      "needs_background": "light"
     },
     "output_type": "display_data"
    }
   ],
   "source": [
    "import seaborn as sns\n",
    "\n",
    "sns.histplot(ml_filtered.cases_per_mil, bins=5)"
   ]
  },
  {
   "cell_type": "code",
   "execution_count": 13,
   "id": "967d0748-ce74-47a6-ad57-d271fb9dcb78",
   "metadata": {
    "execution": {
     "iopub.execute_input": "2022-04-10T10:45:43.180449Z",
     "iopub.status.busy": "2022-04-10T10:45:43.180124Z",
     "iopub.status.idle": "2022-04-10T10:45:43.194110Z",
     "shell.execute_reply": "2022-04-10T10:45:43.193483Z",
     "shell.execute_reply.started": "2022-04-10T10:45:43.180420Z"
    },
    "tags": []
   },
   "outputs": [],
   "source": [
    "# from pgmpy.estimators import PC\n",
    "\n",
    "# est = PC(data=sg_filtered[[\"school_closures\", \"workplace_closures\", \"cases_per_mil_cat\"]].iloc[:500], )\n",
    "# res = est.estimate(max_cond_vars=3)\n",
    "# import networkx as nx\n",
    "\n",
    "# nx.draw(res, with_labels=True)"
   ]
  },
  {
   "cell_type": "markdown",
   "id": "3d9d17cb-5ecd-4a90-b658-788ad13fe6ab",
   "metadata": {},
   "source": [
    "## Contruct DGM with a subset of features"
   ]
  },
  {
   "cell_type": "code",
   "execution_count": 14,
   "id": "bd406d2d-c660-4f41-a1ba-83c09d6f6495",
   "metadata": {
    "execution": {
     "iopub.execute_input": "2022-04-10T10:45:43.195710Z",
     "iopub.status.busy": "2022-04-10T10:45:43.195224Z",
     "iopub.status.idle": "2022-04-10T10:45:43.325776Z",
     "shell.execute_reply": "2022-04-10T10:45:43.325001Z",
     "shell.execute_reply.started": "2022-04-10T10:45:43.195684Z"
    },
    "tags": []
   },
   "outputs": [
    {
     "data": {
      "image/png": "[encoded data removed]",
      "text/plain": [
       "<Figure size 432x288 with 1 Axes>"
      ]
     },
     "metadata": {},
     "output_type": "display_data"
    }
   ],
   "source": [
    "import networkx as nx\n",
    "from pgmpy.models import BayesianNetwork\n",
    "\n",
    "sample_model = BayesianNetwork(\n",
    "    [\n",
    "        (\"school_closures\", \"cases_per_mil_cat\"),\n",
    "        (\"workplace_closures\", \"cases_per_mil_cat\"),\n",
    "    ]\n",
    ")\n",
    "nx.draw(sample_model, with_labels=True)"
   ]
  },
  {
   "cell_type": "code",
   "execution_count": 15,
   "id": "149c0816-9a4a-4725-b8d7-e1e86b870e7b",
   "metadata": {
    "execution": {
     "iopub.execute_input": "2022-04-10T10:45:43.327364Z",
     "iopub.status.busy": "2022-04-10T10:45:43.327016Z",
     "iopub.status.idle": "2022-04-10T10:45:43.354490Z",
     "shell.execute_reply": "2022-04-10T10:45:43.353806Z",
     "shell.execute_reply.started": "2022-04-10T10:45:43.327335Z"
    },
    "tags": []
   },
   "outputs": [
    {
     "data": {
      "text/plain": [
       "((495, 2), (166, 2))"
      ]
     },
     "execution_count": 15,
     "metadata": {},
     "output_type": "execute_result"
    }
   ],
   "source": [
    "from sklearn.model_selection import train_test_split\n",
    "\n",
    "x_train, x_test, y_train, y_test = train_test_split(\n",
    "    ml_filtered[[\"school_closures\", \"workplace_closures\"]],\n",
    "    ml_filtered[[\"cases_per_mil_cat\"]],\n",
    "    random_state=111,\n",
    ")\n",
    "x_train.shape, x_test.shape"
   ]
  },
  {
   "cell_type": "code",
   "execution_count": 16,
   "id": "ae44438d-cba5-48aa-adbf-9477423c4752",
   "metadata": {
    "execution": {
     "iopub.execute_input": "2022-04-10T10:45:43.356012Z",
     "iopub.status.busy": "2022-04-10T10:45:43.355754Z",
     "iopub.status.idle": "2022-04-10T10:45:43.376974Z",
     "shell.execute_reply": "2022-04-10T10:45:43.375966Z",
     "shell.execute_reply.started": "2022-04-10T10:45:43.355986Z"
    },
    "tags": []
   },
   "outputs": [
    {
     "data": {
      "text/plain": [
       "0    241\n",
       "4    101\n",
       "1     97\n",
       "3     29\n",
       "2     25\n",
       "5      2\n",
       "Name: cases_per_mil_cat, dtype: int64"
      ]
     },
     "execution_count": 16,
     "metadata": {},
     "output_type": "execute_result"
    }
   ],
   "source": [
    "y_train.cases_per_mil_cat.value_counts()"
   ]
  },
  {
   "cell_type": "code",
   "execution_count": 17,
   "id": "b0f40aa3-4e66-4891-95f7-ff5fa4508fc8",
   "metadata": {
    "execution": {
     "iopub.execute_input": "2022-04-10T10:45:43.378610Z",
     "iopub.status.busy": "2022-04-10T10:45:43.377929Z",
     "iopub.status.idle": "2022-04-10T10:45:43.402185Z",
     "shell.execute_reply": "2022-04-10T10:45:43.401001Z",
     "shell.execute_reply.started": "2022-04-10T10:45:43.378569Z"
    },
    "tags": []
   },
   "outputs": [
    {
     "data": {
      "text/plain": [
       "0    73\n",
       "4    42\n",
       "1    35\n",
       "2     9\n",
       "3     7\n",
       "Name: cases_per_mil_cat, dtype: int64"
      ]
     },
     "execution_count": 17,
     "metadata": {},
     "output_type": "execute_result"
    }
   ],
   "source": [
    "y_test.cases_per_mil_cat.value_counts()"
   ]
  },
  {
   "cell_type": "code",
   "execution_count": 18,
   "id": "90171e62-7918-4e57-94b8-97c187767817",
   "metadata": {
    "execution": {
     "iopub.execute_input": "2022-04-10T10:45:43.403885Z",
     "iopub.status.busy": "2022-04-10T10:45:43.403501Z",
     "iopub.status.idle": "2022-04-10T10:45:43.530575Z",
     "shell.execute_reply": "2022-04-10T10:45:43.529479Z",
     "shell.execute_reply.started": "2022-04-10T10:45:43.403853Z"
    },
    "tags": []
   },
   "outputs": [],
   "source": [
    "from pgmpy.estimators import MaximumLikelihoodEstimator\n",
    "\n",
    "sample_model.fit(pd.concat([x_train, y_train], axis=1), MaximumLikelihoodEstimator)"
   ]
  },
  {
   "cell_type": "code",
   "execution_count": 19,
   "id": "73c8a0f4-9668-4ee7-97f5-0440b9a357c2",
   "metadata": {
    "execution": {
     "iopub.execute_input": "2022-04-10T10:45:43.532917Z",
     "iopub.status.busy": "2022-04-10T10:45:43.532476Z",
     "iopub.status.idle": "2022-04-10T10:45:43.549287Z",
     "shell.execute_reply": "2022-04-10T10:45:43.548468Z",
     "shell.execute_reply.started": "2022-04-10T10:45:43.532881Z"
    },
    "tags": []
   },
   "outputs": [
    {
     "name": "stdout",
     "output_type": "stream",
     "text": [
      "+--------------------+-----------+\n",
      "| school_closures(0) | 0.0626263 |\n",
      "+--------------------+-----------+\n",
      "| school_closures(1) | 0.0606061 |\n",
      "+--------------------+-----------+\n",
      "| school_closures(2) | 0.339394  |\n",
      "+--------------------+-----------+\n",
      "| school_closures(3) | 0.537374  |\n",
      "+--------------------+-----------+\n",
      "+----------------------+-----+-----------------------+\n",
      "| school_closures      | ... | school_closures(3)    |\n",
      "+----------------------+-----+-----------------------+\n",
      "| workplace_closures   | ... | workplace_closures(3) |\n",
      "+----------------------+-----+-----------------------+\n",
      "| cases_per_mil_cat(0) | ... | 0.8068181818181818    |\n",
      "+----------------------+-----+-----------------------+\n",
      "| cases_per_mil_cat(1) | ... | 0.011363636363636364  |\n",
      "+----------------------+-----+-----------------------+\n",
      "| cases_per_mil_cat(2) | ... | 0.18181818181818182   |\n",
      "+----------------------+-----+-----------------------+\n",
      "| cases_per_mil_cat(3) | ... | 0.0                   |\n",
      "+----------------------+-----+-----------------------+\n",
      "| cases_per_mil_cat(4) | ... | 0.0                   |\n",
      "+----------------------+-----+-----------------------+\n",
      "| cases_per_mil_cat(5) | ... | 0.0                   |\n",
      "+----------------------+-----+-----------------------+\n",
      "+-----------------------+----------+\n",
      "| workplace_closures(1) | 0.212121 |\n",
      "+-----------------------+----------+\n",
      "| workplace_closures(2) | 0.458586 |\n",
      "+-----------------------+----------+\n",
      "| workplace_closures(3) | 0.329293 |\n",
      "+-----------------------+----------+\n"
     ]
    }
   ],
   "source": [
    "for cpd in sample_model.get_cpds():\n",
    "    print(cpd)"
   ]
  },
  {
   "cell_type": "code",
   "execution_count": 20,
   "id": "b3add5a0-3f6e-4929-8bb8-cc8bed069358",
   "metadata": {
    "execution": {
     "iopub.execute_input": "2022-04-10T10:45:43.550613Z",
     "iopub.status.busy": "2022-04-10T10:45:43.550311Z",
     "iopub.status.idle": "2022-04-10T10:45:43.636470Z",
     "shell.execute_reply": "2022-04-10T10:45:43.635736Z",
     "shell.execute_reply.started": "2022-04-10T10:45:43.550587Z"
    },
    "tags": []
   },
   "outputs": [
    {
     "data": {
      "application/vnd.jupyter.widget-view+json": {
       "model_id": "92b30f0c191e42c28fc583c064703e29",
       "version_major": 2,
       "version_minor": 0
      },
      "text/plain": [
       "0it [00:00, ?it/s]"
      ]
     },
     "metadata": {},
     "output_type": "display_data"
    },
    {
     "data": {
      "application/vnd.jupyter.widget-view+json": {
       "model_id": "06f389b368a244b298da4197958fad87",
       "version_major": 2,
       "version_minor": 0
      },
      "text/plain": [
       "0it [00:00, ?it/s]"
      ]
     },
     "metadata": {},
     "output_type": "display_data"
    },
    {
     "name": "stdout",
     "output_type": "stream",
     "text": [
      "+----------------------+--------------------------+\n",
      "| cases_per_mil_cat    |   phi(cases_per_mil_cat) |\n",
      "+======================+==========================+\n",
      "| cases_per_mil_cat(0) |                   0.0000 |\n",
      "+----------------------+--------------------------+\n",
      "| cases_per_mil_cat(1) |                   0.0000 |\n",
      "+----------------------+--------------------------+\n",
      "| cases_per_mil_cat(2) |                   0.0000 |\n",
      "+----------------------+--------------------------+\n",
      "| cases_per_mil_cat(3) |                   0.0526 |\n",
      "+----------------------+--------------------------+\n",
      "| cases_per_mil_cat(4) |                   0.9474 |\n",
      "+----------------------+--------------------------+\n",
      "| cases_per_mil_cat(5) |                   0.0000 |\n",
      "+----------------------+--------------------------+\n"
     ]
    }
   ],
   "source": [
    "from pgmpy.inference import VariableElimination\n",
    "\n",
    "ve = VariableElimination(sample_model)\n",
    "\n",
    "print(\n",
    "    ve.query(\n",
    "        [\"cases_per_mil_cat\"], evidence={\"school_closures\": 2, \"workplace_closures\": 1}\n",
    "    )\n",
    ")"
   ]
  },
  {
   "cell_type": "markdown",
   "id": "42574eec-10dd-4421-861b-eed96cd60ec5",
   "metadata": {},
   "source": [
    "### Test"
   ]
  },
  {
   "cell_type": "code",
   "execution_count": 21,
   "id": "ea74bb78-8090-466e-a7d3-ac465c3d01dd",
   "metadata": {
    "execution": {
     "iopub.execute_input": "2022-04-10T10:45:43.638138Z",
     "iopub.status.busy": "2022-04-10T10:45:43.637781Z",
     "iopub.status.idle": "2022-04-10T10:45:44.847255Z",
     "shell.execute_reply": "2022-04-10T10:45:44.846315Z",
     "shell.execute_reply.started": "2022-04-10T10:45:43.638110Z"
    },
    "scrolled": true,
    "tags": []
   },
   "outputs": [],
   "source": [
    "pred_test_y = []\n",
    "for _, row in x_test.iterrows():\n",
    "    pred = ve.query(\n",
    "        [\"cases_per_mil_cat\"],\n",
    "        evidence={\n",
    "            \"school_closures\": row[\"school_closures\"],\n",
    "            \"workplace_closures\": row[\"workplace_closures\"],\n",
    "        },\n",
    "        show_progress=False,\n",
    "    )\n",
    "    pred_test_y.append(pred.values.argmax())"
   ]
  },
  {
   "cell_type": "code",
   "execution_count": 22,
   "id": "54dd75ba-9b6e-45a1-8c4e-29ed5834a817",
   "metadata": {
    "execution": {
     "iopub.execute_input": "2022-04-10T10:45:44.848455Z",
     "iopub.status.busy": "2022-04-10T10:45:44.848182Z",
     "iopub.status.idle": "2022-04-10T10:45:44.865274Z",
     "shell.execute_reply": "2022-04-10T10:45:44.864200Z",
     "shell.execute_reply.started": "2022-04-10T10:45:44.848430Z"
    }
   },
   "outputs": [
    {
     "data": {
      "text/plain": [
       "array([4, 1, 3, 0, 2])"
      ]
     },
     "execution_count": 22,
     "metadata": {},
     "output_type": "execute_result"
    }
   ],
   "source": [
    "y_test.cases_per_mil_cat.unique()"
   ]
  },
  {
   "cell_type": "code",
   "execution_count": 23,
   "id": "30f8764a-40ef-483b-9f83-17bece871767",
   "metadata": {
    "execution": {
     "iopub.execute_input": "2022-04-10T10:45:44.866662Z",
     "iopub.status.busy": "2022-04-10T10:45:44.866265Z",
     "iopub.status.idle": "2022-04-10T10:45:44.881903Z",
     "shell.execute_reply": "2022-04-10T10:45:44.881232Z",
     "shell.execute_reply.started": "2022-04-10T10:45:44.866632Z"
    },
    "tags": []
   },
   "outputs": [
    {
     "data": {
      "text/plain": [
       "array([4, 1, 0])"
      ]
     },
     "execution_count": 23,
     "metadata": {},
     "output_type": "execute_result"
    }
   ],
   "source": [
    "pd.DataFrame(pred_test_y)[0].unique()"
   ]
  },
  {
   "cell_type": "code",
   "execution_count": 25,
   "id": "841cd403-8c29-4c93-ab11-d706bc2c4b8d",
   "metadata": {
    "execution": {
     "iopub.execute_input": "2022-04-10T10:45:54.612511Z",
     "iopub.status.busy": "2022-04-10T10:45:54.611928Z",
     "iopub.status.idle": "2022-04-10T10:45:54.628328Z",
     "shell.execute_reply": "2022-04-10T10:45:54.627699Z",
     "shell.execute_reply.started": "2022-04-10T10:45:54.612484Z"
    },
    "tags": []
   },
   "outputs": [
    {
     "data": {
      "text/plain": [
       "{'accuracy': 0.7289156626506024,\n",
       " 'f1': 0.6804281642699832,\n",
       " 'recall': 0.7289156626506024}"
      ]
     },
     "execution_count": 25,
     "metadata": {},
     "output_type": "execute_result"
    }
   ],
   "source": [
    "compute_evaluation_metrics(y_test.cases_per_mil_cat.values, pred_test_y)"
   ]
  },
  {
   "cell_type": "markdown",
   "id": "21ddc078-860b-4f9e-8b0b-16dc02a246c2",
   "metadata": {},
   "source": [
    "## Influence of Singapore's policies on Malaysia's policies"
   ]
  },
  {
   "cell_type": "code",
   "execution_count": 26,
   "id": "2aafdb7d-9dd7-4917-b4ae-715b16ca7a9a",
   "metadata": {
    "execution": {
     "iopub.execute_input": "2022-04-10T10:45:55.969745Z",
     "iopub.status.busy": "2022-04-10T10:45:55.969440Z",
     "iopub.status.idle": "2022-04-10T10:45:55.994715Z",
     "shell.execute_reply": "2022-04-10T10:45:55.993934Z",
     "shell.execute_reply.started": "2022-04-10T10:45:55.969716Z"
    },
    "tags": []
   },
   "outputs": [],
   "source": [
    "two_country_df = covid_policies_df.reset_index()\n",
    "two_country_df = two_country_df[two_country_df.country.isin([\"malaysia\", \"singapore\"])]\n",
    "two_country_df = two_country_df.reset_index(drop=True)\n",
    "two_country_df = two_country_df[\n",
    "    [\"country\", \"date\", \"school_closures\", \"workplace_closures\"]\n",
    "].copy()\n",
    "transformed_dfs = []\n",
    "for country in two_country_df.country.unique():\n",
    "    filter_df = two_country_df[two_country_df.country == country].copy()\n",
    "    filter_df.rename(\n",
    "        columns={\n",
    "            col: country + \"_\" + col\n",
    "            for col in [\"school_closures\", \"workplace_closures\"]\n",
    "        },\n",
    "        inplace=True,\n",
    "    )\n",
    "    filter_df.drop([\"country\"], axis=1, inplace=True)\n",
    "    transformed_dfs.append(filter_df)"
   ]
  },
  {
   "cell_type": "code",
   "execution_count": 27,
   "id": "620ac5fa-ceaa-46d0-89c9-7849a08c9891",
   "metadata": {
    "execution": {
     "iopub.execute_input": "2022-04-10T10:45:56.387657Z",
     "iopub.status.busy": "2022-04-10T10:45:56.387360Z",
     "iopub.status.idle": "2022-04-10T10:45:56.411401Z",
     "shell.execute_reply": "2022-04-10T10:45:56.410730Z",
     "shell.execute_reply.started": "2022-04-10T10:45:56.387631Z"
    },
    "tags": []
   },
   "outputs": [
    {
     "data": {
      "text/html": [
       "<div>\n",
       "<style scoped>\n",
       "    .dataframe tbody tr th:only-of-type {\n",
       "        vertical-align: middle;\n",
       "    }\n",
       "\n",
       "    .dataframe tbody tr th {\n",
       "        vertical-align: top;\n",
       "    }\n",
       "\n",
       "    .dataframe thead th {\n",
       "        text-align: right;\n",
       "    }\n",
       "</style>\n",
       "<table border=\"1\" class=\"dataframe\">\n",
       "  <thead>\n",
       "    <tr style=\"text-align: right;\">\n",
       "      <th></th>\n",
       "      <th>malaysia_school_closures</th>\n",
       "      <th>malaysia_workplace_closures</th>\n",
       "      <th>singapore_school_closures</th>\n",
       "      <th>singapore_workplace_closures</th>\n",
       "    </tr>\n",
       "    <tr>\n",
       "      <th>date</th>\n",
       "      <th></th>\n",
       "      <th></th>\n",
       "      <th></th>\n",
       "      <th></th>\n",
       "    </tr>\n",
       "  </thead>\n",
       "  <tbody>\n",
       "    <tr>\n",
       "      <th>2020-05-02</th>\n",
       "      <td>3</td>\n",
       "      <td>3</td>\n",
       "      <td>3</td>\n",
       "      <td>3</td>\n",
       "    </tr>\n",
       "    <tr>\n",
       "      <th>2020-05-03</th>\n",
       "      <td>3</td>\n",
       "      <td>3</td>\n",
       "      <td>3</td>\n",
       "      <td>3</td>\n",
       "    </tr>\n",
       "    <tr>\n",
       "      <th>2020-05-04</th>\n",
       "      <td>3</td>\n",
       "      <td>2</td>\n",
       "      <td>3</td>\n",
       "      <td>3</td>\n",
       "    </tr>\n",
       "    <tr>\n",
       "      <th>2020-05-05</th>\n",
       "      <td>3</td>\n",
       "      <td>2</td>\n",
       "      <td>3</td>\n",
       "      <td>3</td>\n",
       "    </tr>\n",
       "    <tr>\n",
       "      <th>2020-05-06</th>\n",
       "      <td>3</td>\n",
       "      <td>2</td>\n",
       "      <td>3</td>\n",
       "      <td>3</td>\n",
       "    </tr>\n",
       "    <tr>\n",
       "      <th>...</th>\n",
       "      <td>...</td>\n",
       "      <td>...</td>\n",
       "      <td>...</td>\n",
       "      <td>...</td>\n",
       "    </tr>\n",
       "    <tr>\n",
       "      <th>2022-02-17</th>\n",
       "      <td>2</td>\n",
       "      <td>2</td>\n",
       "      <td>1</td>\n",
       "      <td>3</td>\n",
       "    </tr>\n",
       "    <tr>\n",
       "      <th>2022-02-18</th>\n",
       "      <td>2</td>\n",
       "      <td>2</td>\n",
       "      <td>1</td>\n",
       "      <td>3</td>\n",
       "    </tr>\n",
       "    <tr>\n",
       "      <th>2022-02-19</th>\n",
       "      <td>2</td>\n",
       "      <td>2</td>\n",
       "      <td>1</td>\n",
       "      <td>3</td>\n",
       "    </tr>\n",
       "    <tr>\n",
       "      <th>2022-02-20</th>\n",
       "      <td>2</td>\n",
       "      <td>2</td>\n",
       "      <td>1</td>\n",
       "      <td>3</td>\n",
       "    </tr>\n",
       "    <tr>\n",
       "      <th>2022-02-21</th>\n",
       "      <td>2</td>\n",
       "      <td>2</td>\n",
       "      <td>1</td>\n",
       "      <td>3</td>\n",
       "    </tr>\n",
       "  </tbody>\n",
       "</table>\n",
       "<p>661 rows × 4 columns</p>\n",
       "</div>"
      ],
      "text/plain": [
       "            malaysia_school_closures  malaysia_workplace_closures  \\\n",
       "date                                                                \n",
       "2020-05-02                         3                            3   \n",
       "2020-05-03                         3                            3   \n",
       "2020-05-04                         3                            2   \n",
       "2020-05-05                         3                            2   \n",
       "2020-05-06                         3                            2   \n",
       "...                              ...                          ...   \n",
       "2022-02-17                         2                            2   \n",
       "2022-02-18                         2                            2   \n",
       "2022-02-19                         2                            2   \n",
       "2022-02-20                         2                            2   \n",
       "2022-02-21                         2                            2   \n",
       "\n",
       "            singapore_school_closures  singapore_workplace_closures  \n",
       "date                                                                 \n",
       "2020-05-02                          3                             3  \n",
       "2020-05-03                          3                             3  \n",
       "2020-05-04                          3                             3  \n",
       "2020-05-05                          3                             3  \n",
       "2020-05-06                          3                             3  \n",
       "...                               ...                           ...  \n",
       "2022-02-17                          1                             3  \n",
       "2022-02-18                          1                             3  \n",
       "2022-02-19                          1                             3  \n",
       "2022-02-20                          1                             3  \n",
       "2022-02-21                          1                             3  \n",
       "\n",
       "[661 rows x 4 columns]"
      ]
     },
     "execution_count": 27,
     "metadata": {},
     "output_type": "execute_result"
    }
   ],
   "source": [
    "merged_df = pd.merge(transformed_dfs[0], transformed_dfs[1], on=[\"date\"])\n",
    "merged_df.set_index([\"date\"], inplace=True)\n",
    "merged_df"
   ]
  },
  {
   "cell_type": "code",
   "execution_count": 28,
   "id": "705f815c-6111-497f-a877-e27d84cff882",
   "metadata": {
    "execution": {
     "iopub.execute_input": "2022-04-10T10:45:56.707279Z",
     "iopub.status.busy": "2022-04-10T10:45:56.706968Z",
     "iopub.status.idle": "2022-04-10T10:45:56.726438Z",
     "shell.execute_reply": "2022-04-10T10:45:56.725778Z",
     "shell.execute_reply.started": "2022-04-10T10:45:56.707253Z"
    },
    "tags": []
   },
   "outputs": [
    {
     "data": {
      "text/plain": [
       "((495, 2), (166, 2))"
      ]
     },
     "execution_count": 28,
     "metadata": {},
     "output_type": "execute_result"
    }
   ],
   "source": [
    "x_train, x_test, y_train, y_test = train_test_split(\n",
    "    merged_df[[\"malaysia_school_closures\", \"singapore_school_closures\"]],\n",
    "    merged_df[[\"malaysia_workplace_closures\", \"singapore_workplace_closures\"]],\n",
    ")\n",
    "x_train.shape, x_test.shape"
   ]
  },
  {
   "cell_type": "code",
   "execution_count": 29,
   "id": "90da7f2f-0e34-4101-86a8-9f5c4885391c",
   "metadata": {
    "execution": {
     "iopub.execute_input": "2022-04-10T10:45:57.127480Z",
     "iopub.status.busy": "2022-04-10T10:45:57.127198Z",
     "iopub.status.idle": "2022-04-10T10:45:57.374788Z",
     "shell.execute_reply": "2022-04-10T10:45:57.374108Z",
     "shell.execute_reply.started": "2022-04-10T10:45:57.127452Z"
    },
    "tags": []
   },
   "outputs": [
    {
     "data": {
      "image/png": "[encoded data removed]",
      "text/plain": [
       "<Figure size 432x288 with 1 Axes>"
      ]
     },
     "metadata": {},
     "output_type": "display_data"
    }
   ],
   "source": [
    "# 2 country model for economic policy effect analysis\n",
    "two_country_model = BayesianNetwork(\n",
    "    [\n",
    "        (\"singapore_school_closures\", \"malaysia_school_closures\"),\n",
    "        (\"singapore_school_closures\", \"singapore_workplace_closures\"),\n",
    "        (\"malaysia_school_closures\", \"malaysia_workplace_closures\"),\n",
    "    ]\n",
    ")\n",
    "two_country_model.fit(pd.concat([x_train, y_train], axis=1), MaximumLikelihoodEstimator)\n",
    "nx.draw(two_country_model, with_labels=True)"
   ]
  },
  {
   "cell_type": "code",
   "execution_count": 30,
   "id": "f6939ef3-b4f7-4f1e-9f3f-9f3fbf592209",
   "metadata": {
    "execution": {
     "iopub.execute_input": "2022-04-10T10:45:57.481079Z",
     "iopub.status.busy": "2022-04-10T10:45:57.480719Z",
     "iopub.status.idle": "2022-04-10T10:45:57.496879Z",
     "shell.execute_reply": "2022-04-10T10:45:57.496188Z",
     "shell.execute_reply.started": "2022-04-10T10:45:57.481051Z"
    },
    "tags": []
   },
   "outputs": [
    {
     "name": "stdout",
     "output_type": "stream",
     "text": [
      "+------------------------------+-----------+\n",
      "| singapore_school_closures(1) | 0.816162  |\n",
      "+------------------------------+-----------+\n",
      "| singapore_school_closures(2) | 0.0666667 |\n",
      "+------------------------------+-----------+\n",
      "| singapore_school_closures(3) | 0.117172  |\n",
      "+------------------------------+-----------+\n",
      "+-----------------------------+-----+------------------------------+\n",
      "| singapore_school_closures   | ... | singapore_school_closures(3) |\n",
      "+-----------------------------+-----+------------------------------+\n",
      "| malaysia_school_closures(0) | ... | 0.29310344827586204          |\n",
      "+-----------------------------+-----+------------------------------+\n",
      "| malaysia_school_closures(1) | ... | 0.0                          |\n",
      "+-----------------------------+-----+------------------------------+\n",
      "| malaysia_school_closures(2) | ... | 0.0                          |\n",
      "+-----------------------------+-----+------------------------------+\n",
      "| malaysia_school_closures(3) | ... | 0.7068965517241379           |\n",
      "+-----------------------------+-----+------------------------------+\n",
      "+---------------------------------+-----+------------------------------+\n",
      "| singapore_school_closures       | ... | singapore_school_closures(3) |\n",
      "+---------------------------------+-----+------------------------------+\n",
      "| singapore_workplace_closures(1) | ... | 0.0                          |\n",
      "+---------------------------------+-----+------------------------------+\n",
      "| singapore_workplace_closures(2) | ... | 0.8448275862068966           |\n",
      "+---------------------------------+-----+------------------------------+\n",
      "| singapore_workplace_closures(3) | ... | 0.15517241379310345          |\n",
      "+---------------------------------+-----+------------------------------+\n",
      "+--------------------------------+-----+-----------------------------+\n",
      "| malaysia_school_closures       | ... | malaysia_school_closures(3) |\n",
      "+--------------------------------+-----+-----------------------------+\n",
      "| malaysia_workplace_closures(1) | ... | 0.08527131782945736         |\n",
      "+--------------------------------+-----+-----------------------------+\n",
      "| malaysia_workplace_closures(2) | ... | 0.5658914728682171          |\n",
      "+--------------------------------+-----+-----------------------------+\n",
      "| malaysia_workplace_closures(3) | ... | 0.3488372093023256          |\n",
      "+--------------------------------+-----+-----------------------------+\n"
     ]
    }
   ],
   "source": [
    "for cpd in two_country_model.get_cpds():\n",
    "    print(cpd)"
   ]
  },
  {
   "cell_type": "code",
   "execution_count": 32,
   "id": "d747a62d-0ed9-468f-8153-5977bdd891ea",
   "metadata": {
    "execution": {
     "iopub.execute_input": "2022-04-10T10:45:58.433472Z",
     "iopub.status.busy": "2022-04-10T10:45:58.433139Z",
     "iopub.status.idle": "2022-04-10T10:45:58.510011Z",
     "shell.execute_reply": "2022-04-10T10:45:58.509286Z",
     "shell.execute_reply.started": "2022-04-10T10:45:58.433443Z"
    },
    "tags": []
   },
   "outputs": [
    {
     "data": {
      "application/vnd.jupyter.widget-view+json": {
       "model_id": "42ec1695a6d3488aa39fb860a12a66e8",
       "version_major": 2,
       "version_minor": 0
      },
      "text/plain": [
       "0it [00:00, ?it/s]"
      ]
     },
     "metadata": {},
     "output_type": "display_data"
    },
    {
     "data": {
      "application/vnd.jupyter.widget-view+json": {
       "model_id": "0babce9314014bbba1796acaa42babf3",
       "version_major": 2,
       "version_minor": 0
      },
      "text/plain": [
       "0it [00:00, ?it/s]"
      ]
     },
     "metadata": {},
     "output_type": "display_data"
    },
    {
     "name": "stdout",
     "output_type": "stream",
     "text": [
      "+--------------------------------+------------------------------------+\n",
      "| malaysia_workplace_closures    |   phi(malaysia_workplace_closures) |\n",
      "+================================+====================================+\n",
      "| malaysia_workplace_closures(1) |                             0.4576 |\n",
      "+--------------------------------+------------------------------------+\n",
      "| malaysia_workplace_closures(2) |                             0.2316 |\n",
      "+--------------------------------+------------------------------------+\n",
      "| malaysia_workplace_closures(3) |                             0.3107 |\n",
      "+--------------------------------+------------------------------------+\n"
     ]
    }
   ],
   "source": [
    "from pgmpy.inference import VariableElimination\n",
    "\n",
    "ve = VariableElimination(two_country_model)\n",
    "\n",
    "print(\n",
    "    ve.query([\"malaysia_workplace_closures\"], evidence={\"malaysia_school_closures\": 2})\n",
    ")"
   ]
  }
 ],
 "metadata": {
  "kernelspec": {
   "display_name": "Py3 (deeplearn_course)",
   "language": "python",
   "name": "deeplearn_course"
  },
  "language_info": {
   "codemirror_mode": {
    "name": "ipython",
    "version": 3
   },
   "file_extension": ".py",
   "mimetype": "text/x-python",
   "name": "python",
   "nbconvert_exporter": "python",
   "pygments_lexer": "ipython3",
   "version": "3.7.10"
  }
 },
 "nbformat": 4,
 "nbformat_minor": 5
}
